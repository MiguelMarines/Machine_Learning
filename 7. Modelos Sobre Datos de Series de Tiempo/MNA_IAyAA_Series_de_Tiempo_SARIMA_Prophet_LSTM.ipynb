{
  "nbformat": 4,
  "nbformat_minor": 0,
  "metadata": {
    "colab": {
      "provenance": []
    },
    "kernelspec": {
      "name": "python3",
      "display_name": "Python 3"
    },
    "language_info": {
      "name": "python"
    }
  },
  "cells": [
    {
      "cell_type": "markdown",
      "source": [
        "#**APRENDIZAJE AUTOMÁTICO - MIGUEL MARINES**\n",
        "##**<u>Modelos Sobre Datos de Series de Tiempo</u>**\n",
        "---\n",
        "---\n"
      ],
      "metadata": {
        "id": "PGFd_MEwXGpR"
      }
    },
    {
      "cell_type": "markdown",
      "source": [
        "#### **Los diferentes modelos que aplicamos en este ejercicio son utilizando la base de datos que nos muestran el total de pasajeros mensuales que viajaron en una aerolínea de EEUU de 1949 a 1960.**\n",
        "\n",
        "#### **La liga de los datos la puedes encontrar en la siguiente liga de Kaggle:**\n",
        "\n",
        "https://www.kaggle.com/datasets/chirag19/air-passengers\n",
        "\n"
      ],
      "metadata": {
        "id": "WPF5x85mhKPm"
      }
    },
    {
      "cell_type": "code",
      "source": [
        "# Omitamos los Warnings por el momento:\n",
        "import warnings\n",
        "warnings.filterwarnings(\"ignore\")"
      ],
      "metadata": {
        "id": "FVfKKUOGuUaI"
      },
      "execution_count": null,
      "outputs": []
    },
    {
      "cell_type": "code",
      "execution_count": null,
      "metadata": {
        "id": "1JLlOM-c5bhx"
      },
      "outputs": [],
      "source": [
        "import numpy as np\n",
        "import pandas as pd\n",
        "import matplotlib.pyplot as plt\n",
        "\n",
        "from sklearn.metrics import mean_squared_error\n",
        "import math\n",
        "\n",
        "from prophet import Prophet"
      ]
    },
    {
      "cell_type": "code",
      "source": [
        "path = 'airline-passengers.csv'\n",
        "df = pd.read_csv(path, header=0)"
      ],
      "metadata": {
        "id": "2MsyxVVo7n54"
      },
      "execution_count": null,
      "outputs": []
    },
    {
      "cell_type": "markdown",
      "source": [
        "#### **Observa que tenemos una estacionalidad anual**"
      ],
      "metadata": {
        "id": "2Bt_FnN7mNOm"
      }
    },
    {
      "cell_type": "code",
      "source": [
        "# Le damos el formato Pandas de fecha-datos que requiere Prophet,\n",
        "# una columna de las fechas, identificando el tipo de dato de esta manera:\n",
        "\n",
        "df.columns = ['ds', 'y']\n",
        "df['ds']= pd.to_datetime(df['ds'])\n",
        "\n",
        "df.head()"
      ],
      "metadata": {
        "id": "GHe-4KW48CEo",
        "colab": {
          "base_uri": "https://localhost:8080/",
          "height": 206
        },
        "outputId": "3f89b1ee-e7b0-4b99-98e7-224fad641ae8"
      },
      "execution_count": null,
      "outputs": [
        {
          "output_type": "execute_result",
          "data": {
            "text/plain": [
              "          ds    y\n",
              "0 1949-01-01  112\n",
              "1 1949-02-01  118\n",
              "2 1949-03-01  132\n",
              "3 1949-04-01  129\n",
              "4 1949-05-01  121"
            ],
            "text/html": [
              "\n",
              "  <div id=\"df-61a6eec3-cb19-4530-a5d7-15c5dc8fd99e\" class=\"colab-df-container\">\n",
              "    <div>\n",
              "<style scoped>\n",
              "    .dataframe tbody tr th:only-of-type {\n",
              "        vertical-align: middle;\n",
              "    }\n",
              "\n",
              "    .dataframe tbody tr th {\n",
              "        vertical-align: top;\n",
              "    }\n",
              "\n",
              "    .dataframe thead th {\n",
              "        text-align: right;\n",
              "    }\n",
              "</style>\n",
              "<table border=\"1\" class=\"dataframe\">\n",
              "  <thead>\n",
              "    <tr style=\"text-align: right;\">\n",
              "      <th></th>\n",
              "      <th>ds</th>\n",
              "      <th>y</th>\n",
              "    </tr>\n",
              "  </thead>\n",
              "  <tbody>\n",
              "    <tr>\n",
              "      <th>0</th>\n",
              "      <td>1949-01-01</td>\n",
              "      <td>112</td>\n",
              "    </tr>\n",
              "    <tr>\n",
              "      <th>1</th>\n",
              "      <td>1949-02-01</td>\n",
              "      <td>118</td>\n",
              "    </tr>\n",
              "    <tr>\n",
              "      <th>2</th>\n",
              "      <td>1949-03-01</td>\n",
              "      <td>132</td>\n",
              "    </tr>\n",
              "    <tr>\n",
              "      <th>3</th>\n",
              "      <td>1949-04-01</td>\n",
              "      <td>129</td>\n",
              "    </tr>\n",
              "    <tr>\n",
              "      <th>4</th>\n",
              "      <td>1949-05-01</td>\n",
              "      <td>121</td>\n",
              "    </tr>\n",
              "  </tbody>\n",
              "</table>\n",
              "</div>\n",
              "    <div class=\"colab-df-buttons\">\n",
              "\n",
              "  <div class=\"colab-df-container\">\n",
              "    <button class=\"colab-df-convert\" onclick=\"convertToInteractive('df-61a6eec3-cb19-4530-a5d7-15c5dc8fd99e')\"\n",
              "            title=\"Convert this dataframe to an interactive table.\"\n",
              "            style=\"display:none;\">\n",
              "\n",
              "  <svg xmlns=\"http://www.w3.org/2000/svg\" height=\"24px\" viewBox=\"0 -960 960 960\">\n",
              "    <path d=\"M120-120v-720h720v720H120Zm60-500h600v-160H180v160Zm220 220h160v-160H400v160Zm0 220h160v-160H400v160ZM180-400h160v-160H180v160Zm440 0h160v-160H620v160ZM180-180h160v-160H180v160Zm440 0h160v-160H620v160Z\"/>\n",
              "  </svg>\n",
              "    </button>\n",
              "\n",
              "  <style>\n",
              "    .colab-df-container {\n",
              "      display:flex;\n",
              "      gap: 12px;\n",
              "    }\n",
              "\n",
              "    .colab-df-convert {\n",
              "      background-color: #E8F0FE;\n",
              "      border: none;\n",
              "      border-radius: 50%;\n",
              "      cursor: pointer;\n",
              "      display: none;\n",
              "      fill: #1967D2;\n",
              "      height: 32px;\n",
              "      padding: 0 0 0 0;\n",
              "      width: 32px;\n",
              "    }\n",
              "\n",
              "    .colab-df-convert:hover {\n",
              "      background-color: #E2EBFA;\n",
              "      box-shadow: 0px 1px 2px rgba(60, 64, 67, 0.3), 0px 1px 3px 1px rgba(60, 64, 67, 0.15);\n",
              "      fill: #174EA6;\n",
              "    }\n",
              "\n",
              "    .colab-df-buttons div {\n",
              "      margin-bottom: 4px;\n",
              "    }\n",
              "\n",
              "    [theme=dark] .colab-df-convert {\n",
              "      background-color: #3B4455;\n",
              "      fill: #D2E3FC;\n",
              "    }\n",
              "\n",
              "    [theme=dark] .colab-df-convert:hover {\n",
              "      background-color: #434B5C;\n",
              "      box-shadow: 0px 1px 3px 1px rgba(0, 0, 0, 0.15);\n",
              "      filter: drop-shadow(0px 1px 2px rgba(0, 0, 0, 0.3));\n",
              "      fill: #FFFFFF;\n",
              "    }\n",
              "  </style>\n",
              "\n",
              "    <script>\n",
              "      const buttonEl =\n",
              "        document.querySelector('#df-61a6eec3-cb19-4530-a5d7-15c5dc8fd99e button.colab-df-convert');\n",
              "      buttonEl.style.display =\n",
              "        google.colab.kernel.accessAllowed ? 'block' : 'none';\n",
              "\n",
              "      async function convertToInteractive(key) {\n",
              "        const element = document.querySelector('#df-61a6eec3-cb19-4530-a5d7-15c5dc8fd99e');\n",
              "        const dataTable =\n",
              "          await google.colab.kernel.invokeFunction('convertToInteractive',\n",
              "                                                    [key], {});\n",
              "        if (!dataTable) return;\n",
              "\n",
              "        const docLinkHtml = 'Like what you see? Visit the ' +\n",
              "          '<a target=\"_blank\" href=https://colab.research.google.com/notebooks/data_table.ipynb>data table notebook</a>'\n",
              "          + ' to learn more about interactive tables.';\n",
              "        element.innerHTML = '';\n",
              "        dataTable['output_type'] = 'display_data';\n",
              "        await google.colab.output.renderOutput(dataTable, element);\n",
              "        const docLink = document.createElement('div');\n",
              "        docLink.innerHTML = docLinkHtml;\n",
              "        element.appendChild(docLink);\n",
              "      }\n",
              "    </script>\n",
              "  </div>\n",
              "\n",
              "\n",
              "<div id=\"df-f0405367-f477-43d7-a6ac-e45b20ffb790\">\n",
              "  <button class=\"colab-df-quickchart\" onclick=\"quickchart('df-f0405367-f477-43d7-a6ac-e45b20ffb790')\"\n",
              "            title=\"Suggest charts\"\n",
              "            style=\"display:none;\">\n",
              "\n",
              "<svg xmlns=\"http://www.w3.org/2000/svg\" height=\"24px\"viewBox=\"0 0 24 24\"\n",
              "     width=\"24px\">\n",
              "    <g>\n",
              "        <path d=\"M19 3H5c-1.1 0-2 .9-2 2v14c0 1.1.9 2 2 2h14c1.1 0 2-.9 2-2V5c0-1.1-.9-2-2-2zM9 17H7v-7h2v7zm4 0h-2V7h2v10zm4 0h-2v-4h2v4z\"/>\n",
              "    </g>\n",
              "</svg>\n",
              "  </button>\n",
              "\n",
              "<style>\n",
              "  .colab-df-quickchart {\n",
              "      --bg-color: #E8F0FE;\n",
              "      --fill-color: #1967D2;\n",
              "      --hover-bg-color: #E2EBFA;\n",
              "      --hover-fill-color: #174EA6;\n",
              "      --disabled-fill-color: #AAA;\n",
              "      --disabled-bg-color: #DDD;\n",
              "  }\n",
              "\n",
              "  [theme=dark] .colab-df-quickchart {\n",
              "      --bg-color: #3B4455;\n",
              "      --fill-color: #D2E3FC;\n",
              "      --hover-bg-color: #434B5C;\n",
              "      --hover-fill-color: #FFFFFF;\n",
              "      --disabled-bg-color: #3B4455;\n",
              "      --disabled-fill-color: #666;\n",
              "  }\n",
              "\n",
              "  .colab-df-quickchart {\n",
              "    background-color: var(--bg-color);\n",
              "    border: none;\n",
              "    border-radius: 50%;\n",
              "    cursor: pointer;\n",
              "    display: none;\n",
              "    fill: var(--fill-color);\n",
              "    height: 32px;\n",
              "    padding: 0;\n",
              "    width: 32px;\n",
              "  }\n",
              "\n",
              "  .colab-df-quickchart:hover {\n",
              "    background-color: var(--hover-bg-color);\n",
              "    box-shadow: 0 1px 2px rgba(60, 64, 67, 0.3), 0 1px 3px 1px rgba(60, 64, 67, 0.15);\n",
              "    fill: var(--button-hover-fill-color);\n",
              "  }\n",
              "\n",
              "  .colab-df-quickchart-complete:disabled,\n",
              "  .colab-df-quickchart-complete:disabled:hover {\n",
              "    background-color: var(--disabled-bg-color);\n",
              "    fill: var(--disabled-fill-color);\n",
              "    box-shadow: none;\n",
              "  }\n",
              "\n",
              "  .colab-df-spinner {\n",
              "    border: 2px solid var(--fill-color);\n",
              "    border-color: transparent;\n",
              "    border-bottom-color: var(--fill-color);\n",
              "    animation:\n",
              "      spin 1s steps(1) infinite;\n",
              "  }\n",
              "\n",
              "  @keyframes spin {\n",
              "    0% {\n",
              "      border-color: transparent;\n",
              "      border-bottom-color: var(--fill-color);\n",
              "      border-left-color: var(--fill-color);\n",
              "    }\n",
              "    20% {\n",
              "      border-color: transparent;\n",
              "      border-left-color: var(--fill-color);\n",
              "      border-top-color: var(--fill-color);\n",
              "    }\n",
              "    30% {\n",
              "      border-color: transparent;\n",
              "      border-left-color: var(--fill-color);\n",
              "      border-top-color: var(--fill-color);\n",
              "      border-right-color: var(--fill-color);\n",
              "    }\n",
              "    40% {\n",
              "      border-color: transparent;\n",
              "      border-right-color: var(--fill-color);\n",
              "      border-top-color: var(--fill-color);\n",
              "    }\n",
              "    60% {\n",
              "      border-color: transparent;\n",
              "      border-right-color: var(--fill-color);\n",
              "    }\n",
              "    80% {\n",
              "      border-color: transparent;\n",
              "      border-right-color: var(--fill-color);\n",
              "      border-bottom-color: var(--fill-color);\n",
              "    }\n",
              "    90% {\n",
              "      border-color: transparent;\n",
              "      border-bottom-color: var(--fill-color);\n",
              "    }\n",
              "  }\n",
              "</style>\n",
              "\n",
              "  <script>\n",
              "    async function quickchart(key) {\n",
              "      const quickchartButtonEl =\n",
              "        document.querySelector('#' + key + ' button');\n",
              "      quickchartButtonEl.disabled = true;  // To prevent multiple clicks.\n",
              "      quickchartButtonEl.classList.add('colab-df-spinner');\n",
              "      try {\n",
              "        const charts = await google.colab.kernel.invokeFunction(\n",
              "            'suggestCharts', [key], {});\n",
              "      } catch (error) {\n",
              "        console.error('Error during call to suggestCharts:', error);\n",
              "      }\n",
              "      quickchartButtonEl.classList.remove('colab-df-spinner');\n",
              "      quickchartButtonEl.classList.add('colab-df-quickchart-complete');\n",
              "    }\n",
              "    (() => {\n",
              "      let quickchartButtonEl =\n",
              "        document.querySelector('#df-f0405367-f477-43d7-a6ac-e45b20ffb790 button');\n",
              "      quickchartButtonEl.style.display =\n",
              "        google.colab.kernel.accessAllowed ? 'block' : 'none';\n",
              "    })();\n",
              "  </script>\n",
              "</div>\n",
              "\n",
              "    </div>\n",
              "  </div>\n"
            ],
            "application/vnd.google.colaboratory.intrinsic+json": {
              "type": "dataframe",
              "variable_name": "df",
              "summary": "{\n  \"name\": \"df\",\n  \"rows\": 144,\n  \"fields\": [\n    {\n      \"column\": \"ds\",\n      \"properties\": {\n        \"dtype\": \"date\",\n        \"min\": \"1949-01-01 00:00:00\",\n        \"max\": \"1960-12-01 00:00:00\",\n        \"num_unique_values\": 144,\n        \"samples\": [\n          \"1958-10-01 00:00:00\",\n          \"1950-08-01 00:00:00\",\n          \"1955-11-01 00:00:00\"\n        ],\n        \"semantic_type\": \"\",\n        \"description\": \"\"\n      }\n    },\n    {\n      \"column\": \"y\",\n      \"properties\": {\n        \"dtype\": \"number\",\n        \"std\": 119,\n        \"min\": 104,\n        \"max\": 622,\n        \"num_unique_values\": 118,\n        \"samples\": [\n          293,\n          340,\n          121\n        ],\n        \"semantic_type\": \"\",\n        \"description\": \"\"\n      }\n    }\n  ]\n}"
            }
          },
          "metadata": {},
          "execution_count": 17
        }
      ]
    },
    {
      "cell_type": "code",
      "source": [
        "plt.plot(df['ds'], df['y'], '-b')\n",
        "plt.show()"
      ],
      "metadata": {
        "colab": {
          "base_uri": "https://localhost:8080/",
          "height": 430
        },
        "id": "hIg6L2LimsU_",
        "outputId": "db64100a-5fe8-46de-ee23-ee8772bcf053"
      },
      "execution_count": null,
      "outputs": [
        {
          "output_type": "display_data",
          "data": {
            "text/plain": [
              "<Figure size 640x480 with 1 Axes>"
            ],
            "image/png": "[encoded data removed]"
          },
          "metadata": {}
        }
      ]
    },
    {
      "cell_type": "markdown",
      "source": [
        "#### **Observamos que tenemos una tendencia creciente, con una estacionalidad anual muy marcada.**"
      ],
      "metadata": {
        "id": "F728zt-5m4Nl"
      }
    },
    {
      "cell_type": "code",
      "source": [
        "df.info()   # no hay datos perdidos"
      ],
      "metadata": {
        "colab": {
          "base_uri": "https://localhost:8080/"
        },
        "id": "XN_OleOqmQxz",
        "outputId": "b81e81e0-d291-4cf0-c973-5ec05f9cfdf9"
      },
      "execution_count": null,
      "outputs": [
        {
          "output_type": "stream",
          "name": "stdout",
          "text": [
            "<class 'pandas.core.frame.DataFrame'>\n",
            "RangeIndex: 144 entries, 0 to 143\n",
            "Data columns (total 2 columns):\n",
            " #   Column  Non-Null Count  Dtype         \n",
            "---  ------  --------------  -----         \n",
            " 0   ds      144 non-null    datetime64[ns]\n",
            " 1   y       144 non-null    int64         \n",
            "dtypes: datetime64[ns](1), int64(1)\n",
            "memory usage: 2.4 KB\n"
          ]
        }
      ]
    },
    {
      "cell_type": "code",
      "source": [
        "# Particionemos en entrenamiento y prueba:\n",
        "\n",
        "train = df.iloc[0:-12,:]    # train y test son DataFrames.\n",
        "\n",
        "test = df.iloc[-12:,:]   # Seleccionamos los datos del último año para predicción."
      ],
      "metadata": {
        "id": "gIGzd7s3BMe5"
      },
      "execution_count": null,
      "outputs": []
    },
    {
      "cell_type": "markdown",
      "source": [
        "# **1 - Modelo ingenuo (Baseline / Persistance / Naive model)**"
      ],
      "metadata": {
        "id": "W2Suo0VPaAu5"
      }
    },
    {
      "cell_type": "code",
      "source": [
        "history = [x for x in train['y']]   # Definimos \"history\" donde de manera incremental se irán agregando registros mensuales.\n",
        "predictions = list()    # Lista que contendrá las predicciones del modelo ingenuo.\n",
        "\n",
        "for i in range(len(test['y'])):\n",
        "  # Obtenemos las predicciones:\n",
        "  yhat = history[-1]   # La primera vez, tomamos el último dato del Train, en las siguientes, se van agregando los datos de Test.\n",
        "  predictions.append(yhat)\n",
        "\n",
        "  # Observaciones-registros reales:\n",
        "  obs = test.iloc[i,1]   # Ahora vamos tomando los datos de Test.\n",
        "  history.append(obs)  # Vamos agregando a \"history\" (que ya tiene todo los de Train) en cada iteración, un dato más de los de Test.\n",
        "  print('>Esperado-real = %3d, Predicción = %.3f' % (obs, yhat))\n",
        "\n",
        "\n",
        "# Calculamos la raíz del error cuadrático medio (RMSE):\n",
        "rmse = np.sqrt(mean_squared_error(test['y'], predictions))\n",
        "print('\\nError-Modelo-Naive: RMSE: %.3f' % rmse)"
      ],
      "metadata": {
        "colab": {
          "base_uri": "https://localhost:8080/"
        },
        "id": "NPYpnuIyaBK5",
        "outputId": "14f7f19c-29c2-41fc-db12-095e15002dcf"
      },
      "execution_count": null,
      "outputs": [
        {
          "output_type": "stream",
          "name": "stdout",
          "text": [
            ">Esperado-real = 417, Predicción = 405.000\n",
            ">Esperado-real = 391, Predicción = 417.000\n",
            ">Esperado-real = 419, Predicción = 391.000\n",
            ">Esperado-real = 461, Predicción = 419.000\n",
            ">Esperado-real = 472, Predicción = 461.000\n",
            ">Esperado-real = 535, Predicción = 472.000\n",
            ">Esperado-real = 622, Predicción = 535.000\n",
            ">Esperado-real = 606, Predicción = 622.000\n",
            ">Esperado-real = 508, Predicción = 606.000\n",
            ">Esperado-real = 461, Predicción = 508.000\n",
            ">Esperado-real = 390, Predicción = 461.000\n",
            ">Esperado-real = 432, Predicción = 390.000\n",
            "\n",
            "Error-Modelo-Naive: RMSE: 53.152\n"
          ]
        }
      ]
    },
    {
      "cell_type": "markdown",
      "source": [
        "#### **Este valor de predicción RMSE nos dice que en promedio el error es de aproximadamente más menos 53 pasajeros por cada predicción hecha.**"
      ],
      "metadata": {
        "id": "FMYf6GU1teRw"
      }
    },
    {
      "cell_type": "code",
      "source": [
        "# Grafiquemos los resultados:\n",
        "\n",
        "fig, ax = plt.subplots(figsize=(10, 5))\n",
        "ax = plt.plot(train['ds'], train['y'], '-k')  # Datos de entrenamiento de 1949 a 1959.\n",
        "ax = plt.plot(test['ds'], test['y'], '+b')    # Datos de prueba del año 1960.\n",
        "ax = plt.plot(test['ds'], predictions, 'xr')  # Predicciones del modelo del año 1960."
      ],
      "metadata": {
        "colab": {
          "base_uri": "https://localhost:8080/",
          "height": 445
        },
        "id": "6lnHihoIpSNI",
        "outputId": "da5aae19-2a6a-4fd8-ec81-493be60d509c"
      },
      "execution_count": null,
      "outputs": [
        {
          "output_type": "display_data",
          "data": {
            "text/plain": [
              "<Figure size 1000x500 with 1 Axes>"
            ],
            "image/png": "[encoded data removed]"
          },
          "metadata": {}
        }
      ]
    },
    {
      "cell_type": "markdown",
      "source": [
        "#### **Aunque pareciera que los datos están bastante exactos en el gráfico, en realidad están todas desfasados un año.**"
      ],
      "metadata": {
        "id": "F_3dwANunYgv"
      }
    },
    {
      "cell_type": "markdown",
      "source": [
        "# **2 - Modelo Facebook-Prophet**"
      ],
      "metadata": {
        "id": "uNgfKzCDmXHM"
      }
    },
    {
      "cell_type": "markdown",
      "source": [
        "#### **En la liga del modelo Facebook-Prophet puedes encontrar mucho más información, además de la documentación correspondiente:**\n",
        "\n",
        "https://facebook.github.io/prophet/"
      ],
      "metadata": {
        "id": "tc9Ztuv3dttG"
      }
    },
    {
      "cell_type": "code",
      "source": [
        "# Aplicamos el modelo Facebbok-Prophet a nuestros datos:\n",
        "\n",
        "model = Prophet()\n",
        "model.fit(train)"
      ],
      "metadata": {
        "colab": {
          "base_uri": "https://localhost:8080/"
        },
        "id": "OoESktHC8FUQ",
        "outputId": "0ee5d31e-685e-43b3-f23f-66e4b0dfe51c"
      },
      "execution_count": null,
      "outputs": [
        {
          "output_type": "stream",
          "name": "stderr",
          "text": [
            "INFO:prophet:Disabling weekly seasonality. Run prophet with weekly_seasonality=True to override this.\n",
            "INFO:prophet:Disabling daily seasonality. Run prophet with daily_seasonality=True to override this.\n",
            "DEBUG:cmdstanpy:input tempfile: /tmp/tmpqs0f7443/upxr20h1.json\n",
            "DEBUG:cmdstanpy:input tempfile: /tmp/tmpqs0f7443/0cyvq4jj.json\n",
            "DEBUG:cmdstanpy:idx 0\n",
            "DEBUG:cmdstanpy:running CmdStan, num_threads: None\n",
            "DEBUG:cmdstanpy:CmdStan args: ['/usr/local/lib/python3.10/dist-packages/prophet/stan_model/prophet_model.bin', 'random', 'seed=68104', 'data', 'file=/tmp/tmpqs0f7443/upxr20h1.json', 'init=/tmp/tmpqs0f7443/0cyvq4jj.json', 'output', 'file=/tmp/tmpqs0f7443/prophet_modelqpt8g1aw/prophet_model-20240311032541.csv', 'method=optimize', 'algorithm=lbfgs', 'iter=10000']\n",
            "03:25:41 - cmdstanpy - INFO - Chain [1] start processing\n",
            "INFO:cmdstanpy:Chain [1] start processing\n",
            "03:25:41 - cmdstanpy - INFO - Chain [1] done processing\n",
            "INFO:cmdstanpy:Chain [1] done processing\n"
          ]
        },
        {
          "output_type": "execute_result",
          "data": {
            "text/plain": [
              "<prophet.forecaster.Prophet at 0x7b64c23104c0>"
            ]
          },
          "metadata": {},
          "execution_count": 10
        }
      ]
    },
    {
      "cell_type": "code",
      "source": [
        "# Calculamos el error RMSE:\n",
        "\n",
        "pred_FP = model.predict(test)['yhat']\n",
        "\n",
        "rmse = np.sqrt(mean_squared_error(test['y'], pred_FP))\n",
        "\n",
        "print('\\nError-Modelo-FacebookProphet: RMSE: %.3f' % rmse)"
      ],
      "metadata": {
        "colab": {
          "base_uri": "https://localhost:8080/"
        },
        "id": "e6UjcfHdsSMw",
        "outputId": "32cfe0dd-c58a-4fae-fce3-8cb2e132318f"
      },
      "execution_count": null,
      "outputs": [
        {
          "output_type": "stream",
          "name": "stdout",
          "text": [
            "\n",
            "Error-Modelo-FacebookProphet: RMSE: 43.068\n"
          ]
        }
      ]
    },
    {
      "cell_type": "markdown",
      "source": [
        "#### **Observa que se obtiene un mejor resultado que el del modelo ingenuo.**"
      ],
      "metadata": {
        "id": "e9gEgfioi9dW"
      }
    },
    {
      "cell_type": "code",
      "source": [
        "# La librería misma nos permite obtener las predicciones con las cotas mínima\n",
        "# y máxima, además de su gráfica, como se muestra a continuación:\n",
        "\n",
        "forecast = model.predict(test)\n",
        "\n",
        "fig, ax = plt.subplots(figsize=(10, 5))\n",
        "model.plot(forecast, ax=ax)    # La predicciones se muestran con la línea contínua y la región de variabilidad de la predicción.\n",
        "ax = plt.plot(test['ds'], test['y'], '*r')   # Agregamos los datos de prueba (Test), para observar la diferencia.\n"
      ],
      "metadata": {
        "colab": {
          "base_uri": "https://localhost:8080/",
          "height": 465
        },
        "id": "Hq7eCZzU9iAv",
        "outputId": "fbc3eaa1-a865-45b5-c311-6dc5c7b365d3"
      },
      "execution_count": null,
      "outputs": [
        {
          "output_type": "display_data",
          "data": {
            "text/plain": [
              "<Figure size 1000x500 with 1 Axes>"
            ],
            "image/png": "[encoded data removed]"
          },
          "metadata": {}
        }
      ]
    },
    {
      "cell_type": "markdown",
      "source": [
        "# **3 - Modelo ARIMA/SARIMA**"
      ],
      "metadata": {
        "id": "4KkwtVVOnCEj"
      }
    },
    {
      "cell_type": "markdown",
      "source": [
        "#### **Existen un buen número de librerías para el caso de pronósticos con los modelos ARIMA-SARIMA. Usaremos en este ejercicio la de Statsmodels, cuya documentación encuentras en la siguiente liga:**\n",
        "\n",
        "https://www.statsmodels.org/stable/generated/statsmodels.tsa.arima.model.ARIMA.html"
      ],
      "metadata": {
        "id": "MrNDpYoRkM-3"
      }
    },
    {
      "cell_type": "markdown",
      "source": [
        "#### **En el modelo SARIMA, el significado de sus iniciales S-AR-I-MA está dado como sigue:**\n",
        "\n",
        "*   #### **S:** Seasonality-Estacionalidad: componente que modela la estacionalidad de los datos.\n",
        "\n",
        "*   #### **AR:** Autoregresive: es la componente autoregresiva que modela-correlaciona lo que viene sucediendo en el pasado para predecir lo que sucederá en el futuro.\n",
        "\n",
        "*   #### **I:** Integrated: es la componente \"integrada\" que transforma series de datos no-estacionarios en estacionarios (i.e., donde la media y varianza permanecen constantes a lo largo del tiempo) mediante diferencias de datos consecutivos.\n",
        "\n",
        "*   #### **MA:** Moving Average-Promedios Móviles.\n",
        "\n"
      ],
      "metadata": {
        "id": "FWvev-Nzpu-T"
      }
    },
    {
      "cell_type": "code",
      "source": [
        "from statsmodels.tsa.arima.model import ARIMA"
      ],
      "metadata": {
        "id": "Au-3Pr8ptgQ9"
      },
      "execution_count": null,
      "outputs": []
    },
    {
      "cell_type": "code",
      "source": [
        "# Esto es para quitar lo de la estacionalidad y en transformar un problema\n",
        "# de tipo estacionario (SARIMA) en un estacionario (ARIMA):\n",
        "\n",
        "# Diferencia de datos consecutivos en el tiempo --> Esto quita la Estacionalidad\n",
        "# y podemos ahora usar ARIMA:\n",
        "def difference(dataset, interval=1):\n",
        "  diff = list()\n",
        "\n",
        "  for i in range(interval, len(dataset)):\n",
        "    value = dataset[i] - dataset[i - interval]\n",
        "    diff.append(value)\n",
        "\n",
        "  return np.array(diff)\n",
        "\n",
        "\n",
        "\n",
        "# Invierte las diferencias anteriores, es decir, nos regresa la estacionalidad:\n",
        "def inverse_difference(history, yhat, interval=1):\n",
        "  return yhat + history[-interval]\n"
      ],
      "metadata": {
        "id": "bCUPFTleP0bP"
      },
      "execution_count": null,
      "outputs": []
    },
    {
      "cell_type": "code",
      "source": [
        "# Definamos la siguiente lista de registros de pasajeros en el tiempo:\n",
        "history = [x for x in train.loc[:,'y']]   # train-ndarray : columna solo con los registros de pasajeros \"y\".\n",
        "                               # history-list : lista con los datos del train.\n",
        "\n",
        "predictions = list()   # Para incluir las predicciones que vaya generando el modelo.\n",
        "\n",
        "for i in range(len(test['y'])):\n",
        "  #\n",
        "  months_in_year = 12\n",
        "  diff = difference(history, months_in_year)    # diff-list: tiene la forma: [array([-274.], dtype=float32),array([-197.], dtype=float32),...\n",
        "\n",
        "  # Generamos el modelo.\n",
        "  model = ARIMA(diff, order=(1,0,0))   # Este es de los mejores modelos que se obtienen. Puedes cambiar los órdenes en dado caso.\n",
        "  model_fit = model.fit()\n",
        "\n",
        "  yhat = model_fit.forecast()[0]   # prediccions (yhat) de cada registro, es un solo número flotante.\n",
        "  yhat = inverse_difference(history, yhat, months_in_year)    # El \"history\" sigue siendo la lista de arriba.\n",
        "                                                              # El nuevo \"yhat\" es cada un nuevo valor (float) de predicción.\n",
        "  predictions.append(yhat)  # predictions-list : lista que se va incrementando al ir agregando cada predicción nueva.\n",
        "\n",
        "  # Observaciones-reales:\n",
        "  obs = test.iloc[i,1]   #  cada dato es un flotante.\n",
        "  history.append(obs)   #  history-list : se va incrementado a partir del Train con los registros-observaciones reales.\n",
        "\n",
        "  print('>Esperado-real = %3d, Predicción = %.3f' % (obs, yhat))\n",
        "\n",
        "# Error RMSE:\n",
        "rmse = np.sqrt(mean_squared_error(test['y'], predictions))\n",
        "print('\\nRMSE: %.3f' % rmse)"
      ],
      "metadata": {
        "colab": {
          "base_uri": "https://localhost:8080/"
        },
        "id": "lNcZ502WiOrc",
        "outputId": "42ae281b-1fe4-4015-83d7-2681f3d25a15"
      },
      "execution_count": null,
      "outputs": [
        {
          "output_type": "stream",
          "name": "stdout",
          "text": [
            ">Esperado-real = 417, Predicción = 420.885\n",
            ">Esperado-real = 391, Predicción = 393.837\n",
            ">Esperado-real = 419, Predicción = 451.325\n",
            ">Esperado-real = 461, Predicción = 412.437\n",
            ">Esperado-real = 472, Predicción = 476.873\n",
            ">Esperado-real = 535, Predicción = 518.834\n",
            ">Esperado-real = 622, Predicción = 603.579\n",
            ">Esperado-real = 606, Predicción = 623.791\n",
            ">Esperado-real = 508, Predicción = 506.266\n",
            ">Esperado-real = 461, Predicción = 448.762\n",
            ">Esperado-real = 390, Predicción = 410.812\n",
            ">Esperado-real = 432, Predicción = 433.748\n",
            "\n",
            "RMSE: 20.323\n"
          ]
        }
      ]
    },
    {
      "cell_type": "markdown",
      "source": [
        "#### **Se obtiene un mejor modelo que el modelo ingenuo y el de Prophet**"
      ],
      "metadata": {
        "id": "1Vz8TbWapZ-V"
      }
    },
    {
      "cell_type": "markdown",
      "source": [
        "#### **También se podría buscar mejorar el modelo con los hiperparámetros de estacionalidad SARIMA(P, D, Q, s). Puedes revisar la documentación respectiva, pero por el momento nos quedamos con este resultado como primera aproximación.**\n"
      ],
      "metadata": {
        "id": "Hu4o3z0BlzSv"
      }
    },
    {
      "cell_type": "code",
      "source": [
        "# Veamos su gráfico:\n",
        "fig, ax = plt.subplots(figsize=(10, 5))\n",
        "ax = plt.plot(train['ds'], train['y'], '-k')\n",
        "ax = plt.plot(test['ds'], test['y'], '-b')\n",
        "ax = plt.plot(test['ds'], predictions, 'xr')"
      ],
      "metadata": {
        "colab": {
          "base_uri": "https://localhost:8080/",
          "height": 445
        },
        "id": "4XwI-n2NlFDe",
        "outputId": "66b06f90-d2ee-4dca-a90c-4488bf03f0bb"
      },
      "execution_count": null,
      "outputs": [
        {
          "output_type": "display_data",
          "data": {
            "text/plain": [
              "<Figure size 1000x500 with 1 Axes>"
            ],
            "image/png": "[encoded data removed]"
          },
          "metadata": {}
        }
      ]
    },
    {
      "cell_type": "markdown",
      "source": [
        "# **4 - Long Short Term Memory (LSTM)**"
      ],
      "metadata": {
        "id": "JQ3Ri-mVtgaK"
      }
    },
    {
      "cell_type": "code",
      "source": [
        "import tensorflow as tf"
      ],
      "metadata": {
        "id": "LNWwO2e36RJm"
      },
      "execution_count": null,
      "outputs": []
    },
    {
      "cell_type": "code",
      "source": [
        "def preparando_datos(myData, myDate):\n",
        "\n",
        "  # ++++++++ TRAIN +++++++++++++++++++++++++++++++++++++++++++++++++++++++++++++++++++++\n",
        "\n",
        "  # Los datos de entrenamiento son previos a la fecha \"Date\" que indiques y\n",
        "  # tomarán hisotriales en este caso de 12 períodos previos.\n",
        "  Train_Data = myData['y'][myData['ds'] < myDate].to_numpy()\n",
        "\n",
        "  periodo = 12   # 12 meses al año\n",
        "\n",
        "  Data_Train = []\n",
        "  Data_Train_X = []\n",
        "  Data_Train_Y = []\n",
        "\n",
        "  for i in range(0, len(Train_Data), periodo):    # observa que va formando el Train set con historiales de 12 períodos consecutivos.\n",
        "    try:\n",
        "      Data_Train.append(Train_Data[i : i + periodo])\n",
        "    except:\n",
        "      pass\n",
        "\n",
        "\n",
        "  # En ocasiones hay datos perdidos, en cuyo caso la última serie\n",
        "  # de datos la eliminamos:\n",
        "  if len(Data_Train[-1]) < periodo:\n",
        "    Data_Train.pop(-1)\n",
        "\n",
        "\n",
        "  # Hay quedarle la forma dimensionalidad que requieren los modelos\n",
        "  # de aprendizaje profundo, en particular la librería de TensorFlow:\n",
        "  #     (batch_size, sequence_length, input_dimension).\n",
        "\n",
        "  Data_Train_X = Data_Train[0 : -1]\n",
        "  Data_Train_X = np.array(Data_Train_X)\n",
        "  Data_Train_X = Data_Train_X.reshape((-1, periodo, 1))\n",
        "\n",
        "  Data_Train_Y = Data_Train[1 : len(Data_Train)]\n",
        "  Data_Train_Y = np.array(Data_Train_Y)\n",
        "  Data_Train_Y = Data_Train_Y.reshape((-1, periodo, 1))\n",
        "\n",
        "\n",
        "  # +++++++++++ TEST +++++++++++++++++++++++++++++++++++++++++++++++++++++++++++++++++++++++++++++++++\n",
        "\n",
        "  # Los datos de prueba (Test) son posteriores a la fecha \"Date\" y que es el\n",
        "  # último ciclo que deseas predecir:\n",
        "  Test_Data = myData['y'][myData['ds'] >= myDate].to_numpy()\n",
        "\n",
        "  # inicialización de listas:\n",
        "  Data_Test = []\n",
        "  Data_Test_X = []\n",
        "  Data_Test_Y = []\n",
        "\n",
        "  for i in range(0, len(Test_Data), periodo):\n",
        "    try:\n",
        "      Data_Test.append(Test_Data[i : i + periodo])\n",
        "    except:\n",
        "      pass\n",
        "\n",
        "\n",
        "  if len(Data_Test[-1]) < periodo:\n",
        "    Data_Test.pop(-1)\n",
        "\n",
        "  Data_Test_X = Data_Test[0 : -1]\n",
        "  Data_Test_X = np.array(Data_Test_X)\n",
        "  Data_Test_X = Data_Test_X.reshape((-1, periodo, 1))\n",
        "\n",
        "  Data_Test_Y = Data_Test[1 : len(Data_Test)]\n",
        "  Data_Test_Y = np.array(Data_Test_Y)\n",
        "  Data_Test_Y = Data_Test_Y.reshape((-1, periodo, 1))\n",
        "\n",
        "\n",
        "  return Data_Train_X, Data_Train_Y, Data_Test_X, Data_Test_Y\n"
      ],
      "metadata": {
        "id": "Zo2CdfhX681G"
      },
      "execution_count": null,
      "outputs": []
    },
    {
      "cell_type": "code",
      "source": [
        "threshold_Date = '1959-01-01'   # A partir de esta fecha se empieza a generar el Test.\n",
        "                                # En este caso, el Text_X serán los 12 meses de 1959\n",
        "                                # y el Test_Y serán los de 1960.\n",
        "\n",
        "# Recuerda que la columna de fechas del DataFrame df, debe ser de tipo DateTime.\n",
        "# Se generan paquetes de 12 meses. Los *_Y son los años desfasados hacia adelante\n",
        "# de los *_X:\n",
        "\n",
        "Train_X, Train_Y, Test_X, Test_Y = preparando_datos(df, threshold_Date)"
      ],
      "metadata": {
        "id": "mh1c4-YfAWTE"
      },
      "execution_count": null,
      "outputs": []
    },
    {
      "cell_type": "code",
      "source": [
        "# Podemos definir la manera en que el tamaño de paso (learning-rate) varíe\n",
        "# en cada época. Es usual definir también algunas funciones, exponenciales,\n",
        "# por ejemplo. Por el momento definamos valores constantes por intervalos:\n",
        "\n",
        "def scheduler(epoch):\n",
        "\n",
        "  if epoch <= 100:\n",
        "    lrate = 0.05\n",
        "  elif epoch <= 180:\n",
        "    lrate = 0.0005\n",
        "  elif epoch <=190:\n",
        "    lrate = 0.00005\n",
        "  else:\n",
        "    lrate = (10 ** -5)\n",
        "\n",
        "  return lrate\n",
        "\n",
        "\n",
        "callback = tf.keras.callbacks.LearningRateScheduler(scheduler)"
      ],
      "metadata": {
        "id": "8q2bqddjtEfe"
      },
      "execution_count": null,
      "outputs": []
    },
    {
      "cell_type": "code",
      "source": [
        "def myModel():\n",
        "\n",
        "  model = tf.keras.models.Sequential([tf.keras.layers.LSTM(20, input_shape=(12, 1), activation=tf.nn.leaky_relu, return_sequences=True),\n",
        "                                      tf.keras.layers.BatchNormalization(),\n",
        "                                      tf.keras.layers.LSTM(20, activation=tf.nn.leaky_relu),\n",
        "                                      tf.keras.layers.BatchNormalization(),\n",
        "\n",
        "                                      tf.keras.layers.Dense(200, activation=tf.nn.leaky_relu),\n",
        "                                      tf.keras.layers.Dense(120, activation=tf.nn.leaky_relu),\n",
        "                                      tf.keras.layers.Dropout(0.001),\n",
        "\n",
        "                                      tf.keras.layers.Dense(12, activation=tf.nn.leaky_relu)\n",
        "                                      ])\n",
        "  return model\n",
        "\n",
        "\n",
        "# +++++++++++++++++++++++++++++++++++++++++++++++++++++++++++++++++++++++++++++++++++++++++++++++++++++++++\n",
        "\n",
        "\n",
        "my_LSTM_model2 = myModel()\n",
        "\n",
        "my_LSTM_model2.compile(optimizer=tf.keras.optimizers.Adam(),\n",
        "                      loss='mse',\n",
        "                      metrics=tf.keras.metrics.RootMeanSquaredError()\n",
        "                      )\n",
        "\n",
        "\n",
        "H = my_LSTM_model2.fit(Train_X,\n",
        "                      Train_Y,\n",
        "                      epochs=300,\n",
        "                      validation_data=(Test_X, Test_Y),\n",
        "                      callbacks=[callback]\n",
        "                      )\n",
        "\n",
        "\n",
        "\n",
        "N = 50  # Para omitir los N primeros valores en la gráfica, que en ocasiones son\n",
        "        # demasiado grandes los errores y no dejan apreciar las curvas de aprendizaje.\n",
        "\n",
        "epochs = range(N+1, len(H.history[\"loss\"]) + 1)\n",
        "\n",
        "fig, ax2 = plt.subplots()\n",
        "fig.set_figheight(5)\n",
        "ax2.plot(epochs, H.history[\"root_mean_squared_error\"][N:], label = \"Training Root Mean Squared Error\")\n",
        "ax2.plot(epochs, H.history[\"val_root_mean_squared_error\"][N:], label = \"Validation Root Mean Squared Error\")\n",
        "ax2.set(xlabel = \"Epochs\", ylabel = \"Loss\")\n",
        "ax2.legend()\n",
        "\n",
        "plt.show()"
      ],
      "metadata": {
        "colab": {
          "base_uri": "https://localhost:8080/",
          "height": 1000
        },
        "id": "tS3zdLmMSMR0",
        "outputId": "4f173cfc-c60c-4553-883c-85dbaa06a2f9"
      },
      "execution_count": null,
      "outputs": [
        {
          "output_type": "stream",
          "name": "stdout",
          "text": [
            "Epoch 1/300\n",
            "1/1 [==============================] - 3s 3s/step - loss: 75259.3906 - root_mean_squared_error: 274.3345 - val_loss: 216521.5625 - val_root_mean_squared_error: 465.3188 - lr: 0.0500\n",
            "Epoch 2/300\n",
            "1/1 [==============================] - 0s 36ms/step - loss: 71364.0000 - root_mean_squared_error: 267.1404 - val_loss: 184257.7031 - val_root_mean_squared_error: 429.2525 - lr: 0.0500\n",
            "Epoch 3/300\n",
            "1/1 [==============================] - 0s 34ms/step - loss: 65943.9609 - root_mean_squared_error: 256.7956 - val_loss: 973198.4375 - val_root_mean_squared_error: 986.5082 - lr: 0.0500\n",
            "Epoch 4/300\n",
            "1/1 [==============================] - 0s 39ms/step - loss: 48809.5664 - root_mean_squared_error: 220.9289 - val_loss: 84971944.0000 - val_root_mean_squared_error: 9218.0225 - lr: 0.0500\n",
            "Epoch 5/300\n",
            "1/1 [==============================] - 0s 35ms/step - loss: 20533.5273 - root_mean_squared_error: 143.2952 - val_loss: 10613978112.0000 - val_root_mean_squared_error: 103024.1641 - lr: 0.0500\n",
            "Epoch 6/300\n",
            "1/1 [==============================] - 0s 35ms/step - loss: 17400.3555 - root_mean_squared_error: 131.9104 - val_loss: 27641864192.0000 - val_root_mean_squared_error: 166258.4219 - lr: 0.0500\n",
            "Epoch 7/300\n",
            "1/1 [==============================] - 0s 36ms/step - loss: 5830.2622 - root_mean_squared_error: 76.3562 - val_loss: 103255768.0000 - val_root_mean_squared_error: 10161.4844 - lr: 0.0500\n",
            "Epoch 8/300\n",
            "1/1 [==============================] - 0s 38ms/step - loss: 14526.8535 - root_mean_squared_error: 120.5274 - val_loss: 100762712.0000 - val_root_mean_squared_error: 10038.0635 - lr: 0.0500\n",
            "Epoch 9/300\n",
            "1/1 [==============================] - 0s 38ms/step - loss: 8121.0571 - root_mean_squared_error: 90.1169 - val_loss: 11281676.0000 - val_root_mean_squared_error: 3358.8206 - lr: 0.0500\n",
            "Epoch 10/300\n",
            "1/1 [==============================] - 0s 34ms/step - loss: 32032.3652 - root_mean_squared_error: 178.9759 - val_loss: 23905998.0000 - val_root_mean_squared_error: 4889.3760 - lr: 0.0500\n",
            "Epoch 11/300\n",
            "1/1 [==============================] - 0s 36ms/step - loss: 2255.7175 - root_mean_squared_error: 47.4944 - val_loss: 504878.0000 - val_root_mean_squared_error: 710.5477 - lr: 0.0500\n",
            "Epoch 12/300\n",
            "1/1 [==============================] - 0s 35ms/step - loss: 5466.6724 - root_mean_squared_error: 73.9370 - val_loss: 3261895424.0000 - val_root_mean_squared_error: 57113.0039 - lr: 0.0500\n",
            "Epoch 13/300\n",
            "1/1 [==============================] - 0s 34ms/step - loss: 23391.6074 - root_mean_squared_error: 152.9431 - val_loss: 4484397568.0000 - val_root_mean_squared_error: 66965.6484 - lr: 0.0500\n",
            "Epoch 14/300\n",
            "1/1 [==============================] - 0s 36ms/step - loss: 15870.0312 - root_mean_squared_error: 125.9763 - val_loss: 2700321792.0000 - val_root_mean_squared_error: 51964.6211 - lr: 0.0500\n",
            "Epoch 15/300\n",
            "1/1 [==============================] - 0s 38ms/step - loss: 5103.6514 - root_mean_squared_error: 71.4398 - val_loss: 3384092416.0000 - val_root_mean_squared_error: 58172.9531 - lr: 0.0500\n",
            "Epoch 16/300\n",
            "1/1 [==============================] - 0s 35ms/step - loss: 3744.6924 - root_mean_squared_error: 61.1939 - val_loss: 3454576896.0000 - val_root_mean_squared_error: 58775.6484 - lr: 0.0500\n",
            "Epoch 17/300\n",
            "1/1 [==============================] - 0s 36ms/step - loss: 11546.2148 - root_mean_squared_error: 107.4533 - val_loss: 1874119680.0000 - val_root_mean_squared_error: 43291.1055 - lr: 0.0500\n",
            "Epoch 18/300\n",
            "1/1 [==============================] - 0s 37ms/step - loss: 5309.9199 - root_mean_squared_error: 72.8692 - val_loss: 796159488.0000 - val_root_mean_squared_error: 28216.2988 - lr: 0.0500\n",
            "Epoch 19/300\n",
            "1/1 [==============================] - 0s 36ms/step - loss: 2608.0769 - root_mean_squared_error: 51.0693 - val_loss: 346885024.0000 - val_root_mean_squared_error: 18624.8496 - lr: 0.0500\n",
            "Epoch 20/300\n",
            "1/1 [==============================] - 0s 36ms/step - loss: 5793.5703 - root_mean_squared_error: 76.1155 - val_loss: 189470592.0000 - val_root_mean_squared_error: 13764.8320 - lr: 0.0500\n",
            "Epoch 21/300\n",
            "1/1 [==============================] - 0s 34ms/step - loss: 6654.5630 - root_mean_squared_error: 81.5755 - val_loss: 133866264.0000 - val_root_mean_squared_error: 11570.0586 - lr: 0.0500\n",
            "Epoch 22/300\n",
            "1/1 [==============================] - 0s 39ms/step - loss: 3700.4458 - root_mean_squared_error: 60.8313 - val_loss: 78703336.0000 - val_root_mean_squared_error: 8871.4902 - lr: 0.0500\n",
            "Epoch 23/300\n",
            "1/1 [==============================] - 0s 64ms/step - loss: 1606.8154 - root_mean_squared_error: 40.0851 - val_loss: 75462016.0000 - val_root_mean_squared_error: 8686.8877 - lr: 0.0500\n",
            "Epoch 24/300\n",
            "1/1 [==============================] - 0s 33ms/step - loss: 3230.2329 - root_mean_squared_error: 56.8351 - val_loss: 24208374.0000 - val_root_mean_squared_error: 4920.2007 - lr: 0.0500\n",
            "Epoch 25/300\n",
            "1/1 [==============================] - 0s 37ms/step - loss: 7057.1582 - root_mean_squared_error: 84.0069 - val_loss: 19746794.0000 - val_root_mean_squared_error: 4443.7363 - lr: 0.0500\n",
            "Epoch 26/300\n",
            "1/1 [==============================] - 0s 33ms/step - loss: 3548.9521 - root_mean_squared_error: 59.5731 - val_loss: 17139856.0000 - val_root_mean_squared_error: 4140.0308 - lr: 0.0500\n",
            "Epoch 27/300\n",
            "1/1 [==============================] - 0s 44ms/step - loss: 1439.0424 - root_mean_squared_error: 37.9347 - val_loss: 13920543.0000 - val_root_mean_squared_error: 3731.0244 - lr: 0.0500\n",
            "Epoch 28/300\n",
            "1/1 [==============================] - 0s 39ms/step - loss: 2083.9541 - root_mean_squared_error: 45.6503 - val_loss: 14263739.0000 - val_root_mean_squared_error: 3776.7366 - lr: 0.0500\n",
            "Epoch 29/300\n",
            "1/1 [==============================] - 0s 38ms/step - loss: 2329.3755 - root_mean_squared_error: 48.2636 - val_loss: 16787622.0000 - val_root_mean_squared_error: 4097.2700 - lr: 0.0500\n",
            "Epoch 30/300\n",
            "1/1 [==============================] - 0s 44ms/step - loss: 1493.2554 - root_mean_squared_error: 38.6427 - val_loss: 20534384.0000 - val_root_mean_squared_error: 4531.4883 - lr: 0.0500\n",
            "Epoch 31/300\n",
            "1/1 [==============================] - 0s 38ms/step - loss: 898.2107 - root_mean_squared_error: 29.9702 - val_loss: 23700414.0000 - val_root_mean_squared_error: 4868.3071 - lr: 0.0500\n",
            "Epoch 32/300\n",
            "1/1 [==============================] - 0s 37ms/step - loss: 1565.9218 - root_mean_squared_error: 39.5717 - val_loss: 23550920.0000 - val_root_mean_squared_error: 4852.9292 - lr: 0.0500\n",
            "Epoch 33/300\n",
            "1/1 [==============================] - 0s 37ms/step - loss: 1959.1372 - root_mean_squared_error: 44.2621 - val_loss: 20105764.0000 - val_root_mean_squared_error: 4483.9453 - lr: 0.0500\n",
            "Epoch 34/300\n",
            "1/1 [==============================] - 0s 34ms/step - loss: 1296.4559 - root_mean_squared_error: 36.0063 - val_loss: 15385891.0000 - val_root_mean_squared_error: 3922.4854 - lr: 0.0500\n",
            "Epoch 35/300\n",
            "1/1 [==============================] - 0s 36ms/step - loss: 770.9444 - root_mean_squared_error: 27.7659 - val_loss: 11637716.0000 - val_root_mean_squared_error: 3411.4097 - lr: 0.0500\n",
            "Epoch 36/300\n",
            "1/1 [==============================] - 0s 41ms/step - loss: 1046.7942 - root_mean_squared_error: 32.3542 - val_loss: 9394810.0000 - val_root_mean_squared_error: 3065.0955 - lr: 0.0500\n",
            "Epoch 37/300\n",
            "1/1 [==============================] - 0s 35ms/step - loss: 1208.9507 - root_mean_squared_error: 34.7700 - val_loss: 8325136.5000 - val_root_mean_squared_error: 2885.3313 - lr: 0.0500\n",
            "Epoch 38/300\n",
            "1/1 [==============================] - 0s 36ms/step - loss: 766.4108 - root_mean_squared_error: 27.6841 - val_loss: 7901913.5000 - val_root_mean_squared_error: 2811.0342 - lr: 0.0500\n",
            "Epoch 39/300\n",
            "1/1 [==============================] - 0s 39ms/step - loss: 352.3271 - root_mean_squared_error: 18.7704 - val_loss: 7582563.5000 - val_root_mean_squared_error: 2753.6455 - lr: 0.0500\n",
            "Epoch 40/300\n",
            "1/1 [==============================] - 0s 36ms/step - loss: 561.6918 - root_mean_squared_error: 23.7000 - val_loss: 6887018.5000 - val_root_mean_squared_error: 2624.3130 - lr: 0.0500\n",
            "Epoch 41/300\n",
            "1/1 [==============================] - 0s 34ms/step - loss: 824.0781 - root_mean_squared_error: 28.7068 - val_loss: 5845430.0000 - val_root_mean_squared_error: 2417.7324 - lr: 0.0500\n",
            "Epoch 42/300\n",
            "1/1 [==============================] - 0s 43ms/step - loss: 650.7315 - root_mean_squared_error: 25.5094 - val_loss: 4806538.0000 - val_root_mean_squared_error: 2192.3818 - lr: 0.0500\n",
            "Epoch 43/300\n",
            "1/1 [==============================] - 0s 55ms/step - loss: 500.9098 - root_mean_squared_error: 22.3810 - val_loss: 4084341.0000 - val_root_mean_squared_error: 2020.9752 - lr: 0.0500\n",
            "Epoch 44/300\n",
            "1/1 [==============================] - 0s 37ms/step - loss: 685.5414 - root_mean_squared_error: 26.1828 - val_loss: 3791214.2500 - val_root_mean_squared_error: 1947.1041 - lr: 0.0500\n",
            "Epoch 45/300\n",
            "1/1 [==============================] - 0s 42ms/step - loss: 745.6869 - root_mean_squared_error: 27.3073 - val_loss: 3876184.2500 - val_root_mean_squared_error: 1968.8027 - lr: 0.0500\n",
            "Epoch 46/300\n",
            "1/1 [==============================] - 0s 49ms/step - loss: 479.7411 - root_mean_squared_error: 21.9030 - val_loss: 4195023.5000 - val_root_mean_squared_error: 2048.1755 - lr: 0.0500\n",
            "Epoch 47/300\n",
            "1/1 [==============================] - 0s 36ms/step - loss: 283.6889 - root_mean_squared_error: 16.8431 - val_loss: 4495798.0000 - val_root_mean_squared_error: 2120.3296 - lr: 0.0500\n",
            "Epoch 48/300\n",
            "1/1 [==============================] - 0s 36ms/step - loss: 413.6836 - root_mean_squared_error: 20.3392 - val_loss: 4509436.5000 - val_root_mean_squared_error: 2123.5435 - lr: 0.0500\n",
            "Epoch 49/300\n",
            "1/1 [==============================] - 0s 33ms/step - loss: 480.1814 - root_mean_squared_error: 21.9130 - val_loss: 4194956.0000 - val_root_mean_squared_error: 2048.1592 - lr: 0.0500\n",
            "Epoch 50/300\n",
            "1/1 [==============================] - 0s 36ms/step - loss: 336.7056 - root_mean_squared_error: 18.3495 - val_loss: 3760212.0000 - val_root_mean_squared_error: 1939.1266 - lr: 0.0500\n",
            "Epoch 51/300\n",
            "1/1 [==============================] - 0s 40ms/step - loss: 322.5040 - root_mean_squared_error: 17.9584 - val_loss: 3424062.0000 - val_root_mean_squared_error: 1850.4221 - lr: 0.0500\n",
            "Epoch 52/300\n",
            "1/1 [==============================] - 0s 42ms/step - loss: 599.2537 - root_mean_squared_error: 24.4797 - val_loss: 3325928.0000 - val_root_mean_squared_error: 1823.7126 - lr: 0.0500\n",
            "Epoch 53/300\n",
            "1/1 [==============================] - 0s 54ms/step - loss: 386.2543 - root_mean_squared_error: 19.6534 - val_loss: 3332518.7500 - val_root_mean_squared_error: 1825.5188 - lr: 0.0500\n",
            "Epoch 54/300\n",
            "1/1 [==============================] - 0s 36ms/step - loss: 297.7221 - root_mean_squared_error: 17.2546 - val_loss: 3304312.2500 - val_root_mean_squared_error: 1817.7767 - lr: 0.0500\n",
            "Epoch 55/300\n",
            "1/1 [==============================] - 0s 36ms/step - loss: 327.5672 - root_mean_squared_error: 18.0988 - val_loss: 3115490.7500 - val_root_mean_squared_error: 1765.0753 - lr: 0.0500\n",
            "Epoch 56/300\n",
            "1/1 [==============================] - 0s 34ms/step - loss: 379.4401 - root_mean_squared_error: 19.4792 - val_loss: 2763151.7500 - val_root_mean_squared_error: 1662.2731 - lr: 0.0500\n",
            "Epoch 57/300\n",
            "1/1 [==============================] - 0s 51ms/step - loss: 302.2714 - root_mean_squared_error: 17.3860 - val_loss: 2363623.0000 - val_root_mean_squared_error: 1537.4078 - lr: 0.0500\n",
            "Epoch 58/300\n",
            "1/1 [==============================] - 0s 38ms/step - loss: 252.1994 - root_mean_squared_error: 15.8808 - val_loss: 2037093.6250 - val_root_mean_squared_error: 1427.2679 - lr: 0.0500\n",
            "Epoch 59/300\n",
            "1/1 [==============================] - 0s 39ms/step - loss: 281.7522 - root_mean_squared_error: 16.7855 - val_loss: 1860714.6250 - val_root_mean_squared_error: 1364.0801 - lr: 0.0500\n",
            "Epoch 60/300\n",
            "1/1 [==============================] - 0s 35ms/step - loss: 289.5126 - root_mean_squared_error: 17.0151 - val_loss: 1779158.8750 - val_root_mean_squared_error: 1333.8512 - lr: 0.0500\n",
            "Epoch 61/300\n",
            "1/1 [==============================] - 0s 37ms/step - loss: 239.4831 - root_mean_squared_error: 15.4752 - val_loss: 1725704.1250 - val_root_mean_squared_error: 1313.6605 - lr: 0.0500\n",
            "Epoch 62/300\n",
            "1/1 [==============================] - 0s 34ms/step - loss: 263.8556 - root_mean_squared_error: 16.2436 - val_loss: 1639673.0000 - val_root_mean_squared_error: 1280.4972 - lr: 0.0500\n",
            "Epoch 63/300\n",
            "1/1 [==============================] - 0s 37ms/step - loss: 292.4259 - root_mean_squared_error: 17.1005 - val_loss: 1508953.0000 - val_root_mean_squared_error: 1228.3945 - lr: 0.0500\n",
            "Epoch 64/300\n",
            "1/1 [==============================] - 0s 41ms/step - loss: 261.4358 - root_mean_squared_error: 16.1690 - val_loss: 1370858.8750 - val_root_mean_squared_error: 1170.8368 - lr: 0.0500\n",
            "Epoch 65/300\n",
            "1/1 [==============================] - 0s 37ms/step - loss: 241.0457 - root_mean_squared_error: 15.5256 - val_loss: 1271384.8750 - val_root_mean_squared_error: 1127.5570 - lr: 0.0500\n",
            "Epoch 66/300\n",
            "1/1 [==============================] - 0s 40ms/step - loss: 274.3511 - root_mean_squared_error: 16.5635 - val_loss: 1234810.3750 - val_root_mean_squared_error: 1111.2202 - lr: 0.0500\n",
            "Epoch 67/300\n",
            "1/1 [==============================] - 0s 39ms/step - loss: 244.8771 - root_mean_squared_error: 15.6486 - val_loss: 1239198.6250 - val_root_mean_squared_error: 1113.1930 - lr: 0.0500\n",
            "Epoch 68/300\n",
            "1/1 [==============================] - 0s 32ms/step - loss: 211.4115 - root_mean_squared_error: 14.5400 - val_loss: 1249486.1250 - val_root_mean_squared_error: 1117.8042 - lr: 0.0500\n",
            "Epoch 69/300\n",
            "1/1 [==============================] - 0s 36ms/step - loss: 226.1457 - root_mean_squared_error: 15.0381 - val_loss: 1229633.6250 - val_root_mean_squared_error: 1108.8884 - lr: 0.0500\n",
            "Epoch 70/300\n",
            "1/1 [==============================] - 0s 43ms/step - loss: 245.2020 - root_mean_squared_error: 15.6589 - val_loss: 1164518.7500 - val_root_mean_squared_error: 1079.1287 - lr: 0.0500\n",
            "Epoch 71/300\n",
            "1/1 [==============================] - 0s 32ms/step - loss: 221.0622 - root_mean_squared_error: 14.8682 - val_loss: 1078751.8750 - val_root_mean_squared_error: 1038.6298 - lr: 0.0500\n",
            "Epoch 72/300\n",
            "1/1 [==============================] - 0s 30ms/step - loss: 218.6161 - root_mean_squared_error: 14.7857 - val_loss: 1006351.7500 - val_root_mean_squared_error: 1003.1708 - lr: 0.0500\n",
            "Epoch 73/300\n",
            "1/1 [==============================] - 0s 43ms/step - loss: 248.9687 - root_mean_squared_error: 15.7787 - val_loss: 968431.8125 - val_root_mean_squared_error: 984.0894 - lr: 0.0500\n",
            "Epoch 74/300\n",
            "1/1 [==============================] - 0s 56ms/step - loss: 201.1757 - root_mean_squared_error: 14.1836 - val_loss: 947796.5000 - val_root_mean_squared_error: 973.5484 - lr: 0.0500\n",
            "Epoch 75/300\n",
            "1/1 [==============================] - 0s 44ms/step - loss: 208.3621 - root_mean_squared_error: 14.4348 - val_loss: 915877.0000 - val_root_mean_squared_error: 957.0146 - lr: 0.0500\n",
            "Epoch 76/300\n",
            "1/1 [==============================] - 0s 57ms/step - loss: 215.2159 - root_mean_squared_error: 14.6702 - val_loss: 858676.2500 - val_root_mean_squared_error: 926.6478 - lr: 0.0500\n",
            "Epoch 77/300\n",
            "1/1 [==============================] - 0s 40ms/step - loss: 209.5801 - root_mean_squared_error: 14.4769 - val_loss: 783895.3125 - val_root_mean_squared_error: 885.3786 - lr: 0.0500\n",
            "Epoch 78/300\n",
            "1/1 [==============================] - 0s 39ms/step - loss: 196.5584 - root_mean_squared_error: 14.0199 - val_loss: 714294.6875 - val_root_mean_squared_error: 845.1595 - lr: 0.0500\n",
            "Epoch 79/300\n",
            "1/1 [==============================] - 0s 37ms/step - loss: 200.6156 - root_mean_squared_error: 14.1639 - val_loss: 665087.0000 - val_root_mean_squared_error: 815.5287 - lr: 0.0500\n",
            "Epoch 80/300\n",
            "1/1 [==============================] - 0s 74ms/step - loss: 200.4443 - root_mean_squared_error: 14.1578 - val_loss: 637208.0625 - val_root_mean_squared_error: 798.2531 - lr: 0.0500\n",
            "Epoch 81/300\n",
            "1/1 [==============================] - 0s 71ms/step - loss: 193.4162 - root_mean_squared_error: 13.9074 - val_loss: 617746.3750 - val_root_mean_squared_error: 785.9684 - lr: 0.0500\n",
            "Epoch 82/300\n",
            "1/1 [==============================] - 0s 69ms/step - loss: 192.6591 - root_mean_squared_error: 13.8802 - val_loss: 593376.6250 - val_root_mean_squared_error: 770.3094 - lr: 0.0500\n",
            "Epoch 83/300\n",
            "1/1 [==============================] - 0s 48ms/step - loss: 195.3390 - root_mean_squared_error: 13.9764 - val_loss: 559881.8125 - val_root_mean_squared_error: 748.2525 - lr: 0.0500\n",
            "Epoch 84/300\n",
            "1/1 [==============================] - 0s 61ms/step - loss: 188.5945 - root_mean_squared_error: 13.7330 - val_loss: 524211.3438 - val_root_mean_squared_error: 724.0244 - lr: 0.0500\n",
            "Epoch 85/300\n",
            "1/1 [==============================] - 0s 47ms/step - loss: 184.2758 - root_mean_squared_error: 13.5748 - val_loss: 496155.2188 - val_root_mean_squared_error: 704.3829 - lr: 0.0500\n",
            "Epoch 86/300\n",
            "1/1 [==============================] - 0s 65ms/step - loss: 185.2831 - root_mean_squared_error: 13.6119 - val_loss: 479678.0938 - val_root_mean_squared_error: 692.5880 - lr: 0.0500\n",
            "Epoch 87/300\n",
            "1/1 [==============================] - 0s 60ms/step - loss: 1301.8508 - root_mean_squared_error: 36.0812 - val_loss: 395357.2812 - val_root_mean_squared_error: 628.7744 - lr: 0.0500\n",
            "Epoch 88/300\n",
            "1/1 [==============================] - 0s 52ms/step - loss: 285.8135 - root_mean_squared_error: 16.9060 - val_loss: 363177.5000 - val_root_mean_squared_error: 602.6421 - lr: 0.0500\n",
            "Epoch 89/300\n",
            "1/1 [==============================] - 0s 43ms/step - loss: 262.3146 - root_mean_squared_error: 16.1961 - val_loss: 366659.4062 - val_root_mean_squared_error: 605.5240 - lr: 0.0500\n",
            "Epoch 90/300\n",
            "1/1 [==============================] - 0s 44ms/step - loss: 216.2542 - root_mean_squared_error: 14.7056 - val_loss: 379127.4062 - val_root_mean_squared_error: 615.7332 - lr: 0.0500\n",
            "Epoch 91/300\n",
            "1/1 [==============================] - 0s 42ms/step - loss: 311.8821 - root_mean_squared_error: 17.6602 - val_loss: 379203.0938 - val_root_mean_squared_error: 615.7947 - lr: 0.0500\n",
            "Epoch 92/300\n",
            "1/1 [==============================] - 0s 65ms/step - loss: 290.8967 - root_mean_squared_error: 17.0557 - val_loss: 353313.4688 - val_root_mean_squared_error: 594.4018 - lr: 0.0500\n",
            "Epoch 93/300\n",
            "1/1 [==============================] - 0s 67ms/step - loss: 215.6944 - root_mean_squared_error: 14.6865 - val_loss: 323512.2188 - val_root_mean_squared_error: 568.7814 - lr: 0.0500\n",
            "Epoch 94/300\n",
            "1/1 [==============================] - 0s 50ms/step - loss: 210.0815 - root_mean_squared_error: 14.4942 - val_loss: 314341.7500 - val_root_mean_squared_error: 560.6619 - lr: 0.0500\n",
            "Epoch 95/300\n",
            "1/1 [==============================] - 0s 52ms/step - loss: 310.1450 - root_mean_squared_error: 17.6109 - val_loss: 334232.5000 - val_root_mean_squared_error: 578.1284 - lr: 0.0500\n",
            "Epoch 96/300\n",
            "1/1 [==============================] - 0s 45ms/step - loss: 186.8885 - root_mean_squared_error: 13.6707 - val_loss: 363601.8438 - val_root_mean_squared_error: 602.9941 - lr: 0.0500\n",
            "Epoch 97/300\n",
            "1/1 [==============================] - 0s 63ms/step - loss: 187.4169 - root_mean_squared_error: 13.6900 - val_loss: 375579.1562 - val_root_mean_squared_error: 612.8452 - lr: 0.0500\n",
            "Epoch 98/300\n",
            "1/1 [==============================] - 0s 70ms/step - loss: 223.9590 - root_mean_squared_error: 14.9653 - val_loss: 358001.9062 - val_root_mean_squared_error: 598.3326 - lr: 0.0500\n",
            "Epoch 99/300\n",
            "1/1 [==============================] - 0s 70ms/step - loss: 203.5581 - root_mean_squared_error: 14.2674 - val_loss: 327887.2188 - val_root_mean_squared_error: 572.6144 - lr: 0.0500\n",
            "Epoch 100/300\n",
            "1/1 [==============================] - 0s 71ms/step - loss: 186.1996 - root_mean_squared_error: 13.6455 - val_loss: 303152.4062 - val_root_mean_squared_error: 550.5928 - lr: 0.0500\n",
            "Epoch 101/300\n",
            "1/1 [==============================] - 0s 72ms/step - loss: 202.2915 - root_mean_squared_error: 14.2229 - val_loss: 293115.7188 - val_root_mean_squared_error: 541.4016 - lr: 0.0500\n",
            "Epoch 102/300\n",
            "1/1 [==============================] - 0s 43ms/step - loss: 187.5462 - root_mean_squared_error: 13.6948 - val_loss: 280852.7500 - val_root_mean_squared_error: 529.9554 - lr: 5.0000e-04\n",
            "Epoch 103/300\n",
            "1/1 [==============================] - 0s 57ms/step - loss: 188.5316 - root_mean_squared_error: 13.7307 - val_loss: 269288.7500 - val_root_mean_squared_error: 518.9304 - lr: 5.0000e-04\n",
            "Epoch 104/300\n",
            "1/1 [==============================] - 0s 69ms/step - loss: 186.7217 - root_mean_squared_error: 13.6646 - val_loss: 258367.4375 - val_root_mean_squared_error: 508.2986 - lr: 5.0000e-04\n",
            "Epoch 105/300\n",
            "1/1 [==============================] - 0s 65ms/step - loss: 216.9430 - root_mean_squared_error: 14.7290 - val_loss: 248082.6875 - val_root_mean_squared_error: 498.0790 - lr: 5.0000e-04\n",
            "Epoch 106/300\n",
            "1/1 [==============================] - 0s 71ms/step - loss: 197.3270 - root_mean_squared_error: 14.0473 - val_loss: 238359.9219 - val_root_mean_squared_error: 488.2212 - lr: 5.0000e-04\n",
            "Epoch 107/300\n",
            "1/1 [==============================] - 0s 51ms/step - loss: 184.1733 - root_mean_squared_error: 13.5710 - val_loss: 229129.3750 - val_root_mean_squared_error: 478.6746 - lr: 5.0000e-04\n",
            "Epoch 108/300\n",
            "1/1 [==============================] - 0s 69ms/step - loss: 183.8111 - root_mean_squared_error: 13.5577 - val_loss: 220367.2656 - val_root_mean_squared_error: 469.4329 - lr: 5.0000e-04\n",
            "Epoch 109/300\n",
            "1/1 [==============================] - 0s 40ms/step - loss: 183.0645 - root_mean_squared_error: 13.5301 - val_loss: 212029.3906 - val_root_mean_squared_error: 460.4665 - lr: 5.0000e-04\n",
            "Epoch 110/300\n",
            "1/1 [==============================] - 0s 73ms/step - loss: 180.9186 - root_mean_squared_error: 13.4506 - val_loss: 204088.0000 - val_root_mean_squared_error: 451.7610 - lr: 5.0000e-04\n",
            "Epoch 111/300\n",
            "1/1 [==============================] - 0s 47ms/step - loss: 179.9015 - root_mean_squared_error: 13.4127 - val_loss: 196515.0000 - val_root_mean_squared_error: 443.3001 - lr: 5.0000e-04\n",
            "Epoch 112/300\n",
            "1/1 [==============================] - 0s 51ms/step - loss: 192.7900 - root_mean_squared_error: 13.8849 - val_loss: 189305.5781 - val_root_mean_squared_error: 435.0926 - lr: 5.0000e-04\n",
            "Epoch 113/300\n",
            "1/1 [==============================] - 0s 46ms/step - loss: 177.9948 - root_mean_squared_error: 13.3415 - val_loss: 182417.8594 - val_root_mean_squared_error: 427.1040 - lr: 5.0000e-04\n",
            "Epoch 114/300\n",
            "1/1 [==============================] - 0s 68ms/step - loss: 175.5038 - root_mean_squared_error: 13.2478 - val_loss: 175826.3281 - val_root_mean_squared_error: 419.3165 - lr: 5.0000e-04\n",
            "Epoch 115/300\n",
            "1/1 [==============================] - 0s 78ms/step - loss: 178.8702 - root_mean_squared_error: 13.3742 - val_loss: 169524.9844 - val_root_mean_squared_error: 411.7341 - lr: 5.0000e-04\n",
            "Epoch 116/300\n",
            "1/1 [==============================] - 0s 68ms/step - loss: 175.6497 - root_mean_squared_error: 13.2533 - val_loss: 163482.3594 - val_root_mean_squared_error: 404.3295 - lr: 5.0000e-04\n",
            "Epoch 117/300\n",
            "1/1 [==============================] - 0s 73ms/step - loss: 175.0336 - root_mean_squared_error: 13.2300 - val_loss: 157682.7500 - val_root_mean_squared_error: 397.0929 - lr: 5.0000e-04\n",
            "Epoch 118/300\n",
            "1/1 [==============================] - 0s 67ms/step - loss: 211.0062 - root_mean_squared_error: 14.5261 - val_loss: 152139.7344 - val_root_mean_squared_error: 390.0509 - lr: 5.0000e-04\n",
            "Epoch 119/300\n",
            "1/1 [==============================] - 0s 73ms/step - loss: 173.9873 - root_mean_squared_error: 13.1904 - val_loss: 146808.2031 - val_root_mean_squared_error: 383.1556 - lr: 5.0000e-04\n",
            "Epoch 120/300\n",
            "1/1 [==============================] - 0s 67ms/step - loss: 174.6281 - root_mean_squared_error: 13.2147 - val_loss: 141677.0156 - val_root_mean_squared_error: 376.4001 - lr: 5.0000e-04\n",
            "Epoch 121/300\n",
            "1/1 [==============================] - 0s 78ms/step - loss: 174.3320 - root_mean_squared_error: 13.2035 - val_loss: 136734.1719 - val_root_mean_squared_error: 369.7758 - lr: 5.0000e-04\n",
            "Epoch 122/300\n",
            "1/1 [==============================] - 0s 77ms/step - loss: 179.4185 - root_mean_squared_error: 13.3947 - val_loss: 131982.2344 - val_root_mean_squared_error: 363.2936 - lr: 5.0000e-04\n",
            "Epoch 123/300\n",
            "1/1 [==============================] - 0s 42ms/step - loss: 172.8317 - root_mean_squared_error: 13.1465 - val_loss: 127401.4375 - val_root_mean_squared_error: 356.9334 - lr: 5.0000e-04\n",
            "Epoch 124/300\n",
            "1/1 [==============================] - 0s 39ms/step - loss: 172.9013 - root_mean_squared_error: 13.1492 - val_loss: 122981.6562 - val_root_mean_squared_error: 350.6874 - lr: 5.0000e-04\n",
            "Epoch 125/300\n",
            "1/1 [==============================] - 0s 40ms/step - loss: 172.5069 - root_mean_squared_error: 13.1342 - val_loss: 118718.2500 - val_root_mean_squared_error: 344.5551 - lr: 5.0000e-04\n",
            "Epoch 126/300\n",
            "1/1 [==============================] - 0s 33ms/step - loss: 152.4662 - root_mean_squared_error: 12.3477 - val_loss: 114644.1172 - val_root_mean_squared_error: 338.5914 - lr: 5.0000e-04\n",
            "Epoch 127/300\n",
            "1/1 [==============================] - 0s 54ms/step - loss: 170.6862 - root_mean_squared_error: 13.0647 - val_loss: 110708.1250 - val_root_mean_squared_error: 332.7283 - lr: 5.0000e-04\n",
            "Epoch 128/300\n",
            "1/1 [==============================] - 0s 38ms/step - loss: 172.2190 - root_mean_squared_error: 13.1232 - val_loss: 106904.6562 - val_root_mean_squared_error: 326.9628 - lr: 5.0000e-04\n",
            "Epoch 129/300\n",
            "1/1 [==============================] - 0s 41ms/step - loss: 172.1481 - root_mean_squared_error: 13.1205 - val_loss: 103228.8984 - val_root_mean_squared_error: 321.2925 - lr: 5.0000e-04\n",
            "Epoch 130/300\n",
            "1/1 [==============================] - 0s 39ms/step - loss: 172.0770 - root_mean_squared_error: 13.1178 - val_loss: 99675.9609 - val_root_mean_squared_error: 315.7150 - lr: 5.0000e-04\n",
            "Epoch 131/300\n",
            "1/1 [==============================] - 0s 43ms/step - loss: 176.7909 - root_mean_squared_error: 13.2963 - val_loss: 96245.4766 - val_root_mean_squared_error: 310.2346 - lr: 5.0000e-04\n",
            "Epoch 132/300\n",
            "1/1 [==============================] - 0s 43ms/step - loss: 173.5556 - root_mean_squared_error: 13.1740 - val_loss: 92932.0938 - val_root_mean_squared_error: 304.8477 - lr: 5.0000e-04\n",
            "Epoch 133/300\n",
            "1/1 [==============================] - 0s 40ms/step - loss: 183.8610 - root_mean_squared_error: 13.5595 - val_loss: 89761.2578 - val_root_mean_squared_error: 299.6018 - lr: 5.0000e-04\n",
            "Epoch 134/300\n",
            "1/1 [==============================] - 0s 57ms/step - loss: 171.7550 - root_mean_squared_error: 13.1055 - val_loss: 86693.1094 - val_root_mean_squared_error: 294.4370 - lr: 5.0000e-04\n",
            "Epoch 135/300\n",
            "1/1 [==============================] - 0s 37ms/step - loss: 171.6696 - root_mean_squared_error: 13.1023 - val_loss: 83725.0547 - val_root_mean_squared_error: 289.3528 - lr: 5.0000e-04\n",
            "Epoch 136/300\n",
            "1/1 [==============================] - 0s 31ms/step - loss: 174.7036 - root_mean_squared_error: 13.2175 - val_loss: 80855.0156 - val_root_mean_squared_error: 284.3502 - lr: 5.0000e-04\n",
            "Epoch 137/300\n",
            "1/1 [==============================] - 0s 48ms/step - loss: 171.4520 - root_mean_squared_error: 13.0940 - val_loss: 78079.4688 - val_root_mean_squared_error: 279.4270 - lr: 5.0000e-04\n",
            "Epoch 138/300\n",
            "1/1 [==============================] - 0s 46ms/step - loss: 170.1122 - root_mean_squared_error: 13.0427 - val_loss: 75396.2578 - val_root_mean_squared_error: 274.5838 - lr: 5.0000e-04\n",
            "Epoch 139/300\n",
            "1/1 [==============================] - 0s 58ms/step - loss: 157.6585 - root_mean_squared_error: 12.5562 - val_loss: 72807.4453 - val_root_mean_squared_error: 269.8286 - lr: 5.0000e-04\n",
            "Epoch 140/300\n",
            "1/1 [==============================] - 0s 51ms/step - loss: 171.0338 - root_mean_squared_error: 13.0780 - val_loss: 70305.5234 - val_root_mean_squared_error: 265.1519 - lr: 5.0000e-04\n",
            "Epoch 141/300\n",
            "1/1 [==============================] - 0s 37ms/step - loss: 152.3642 - root_mean_squared_error: 12.3436 - val_loss: 67924.5859 - val_root_mean_squared_error: 260.6234 - lr: 5.0000e-04\n",
            "Epoch 142/300\n",
            "1/1 [==============================] - 0s 46ms/step - loss: 175.5592 - root_mean_squared_error: 13.2499 - val_loss: 65623.5625 - val_root_mean_squared_error: 256.1710 - lr: 5.0000e-04\n",
            "Epoch 143/300\n",
            "1/1 [==============================] - 0s 38ms/step - loss: 170.6447 - root_mean_squared_error: 13.0631 - val_loss: 63397.1367 - val_root_mean_squared_error: 251.7879 - lr: 5.0000e-04\n",
            "Epoch 144/300\n",
            "1/1 [==============================] - 0s 38ms/step - loss: 170.7162 - root_mean_squared_error: 13.0658 - val_loss: 61243.3594 - val_root_mean_squared_error: 247.4740 - lr: 5.0000e-04\n",
            "Epoch 145/300\n",
            "1/1 [==============================] - 0s 43ms/step - loss: 170.3697 - root_mean_squared_error: 13.0526 - val_loss: 59160.3633 - val_root_mean_squared_error: 243.2290 - lr: 5.0000e-04\n",
            "Epoch 146/300\n",
            "1/1 [==============================] - 0s 41ms/step - loss: 170.2930 - root_mean_squared_error: 13.0496 - val_loss: 57146.1992 - val_root_mean_squared_error: 239.0527 - lr: 5.0000e-04\n",
            "Epoch 147/300\n",
            "1/1 [==============================] - 0s 36ms/step - loss: 172.5549 - root_mean_squared_error: 13.1360 - val_loss: 55198.5664 - val_root_mean_squared_error: 234.9438 - lr: 5.0000e-04\n",
            "Epoch 148/300\n",
            "1/1 [==============================] - 0s 41ms/step - loss: 169.9125 - root_mean_squared_error: 13.0350 - val_loss: 53316.6367 - val_root_mean_squared_error: 230.9040 - lr: 5.0000e-04\n",
            "Epoch 149/300\n",
            "1/1 [==============================] - 0s 41ms/step - loss: 169.6048 - root_mean_squared_error: 13.0232 - val_loss: 51499.0156 - val_root_mean_squared_error: 226.9339 - lr: 5.0000e-04\n",
            "Epoch 150/300\n",
            "1/1 [==============================] - 0s 37ms/step - loss: 171.8725 - root_mean_squared_error: 13.1100 - val_loss: 49746.5273 - val_root_mean_squared_error: 223.0393 - lr: 5.0000e-04\n",
            "Epoch 151/300\n",
            "1/1 [==============================] - 0s 42ms/step - loss: 169.4514 - root_mean_squared_error: 13.0173 - val_loss: 48054.0898 - val_root_mean_squared_error: 219.2124 - lr: 5.0000e-04\n",
            "Epoch 152/300\n",
            "1/1 [==============================] - 0s 36ms/step - loss: 163.4120 - root_mean_squared_error: 12.7833 - val_loss: 46429.4570 - val_root_mean_squared_error: 215.4750 - lr: 5.0000e-04\n",
            "Epoch 153/300\n",
            "1/1 [==============================] - 0s 42ms/step - loss: 158.2393 - root_mean_squared_error: 12.5793 - val_loss: 44869.4023 - val_root_mean_squared_error: 211.8240 - lr: 5.0000e-04\n",
            "Epoch 154/300\n",
            "1/1 [==============================] - 0s 37ms/step - loss: 176.5273 - root_mean_squared_error: 13.2864 - val_loss: 43367.2656 - val_root_mean_squared_error: 208.2481 - lr: 5.0000e-04\n",
            "Epoch 155/300\n",
            "1/1 [==============================] - 0s 43ms/step - loss: 168.9285 - root_mean_squared_error: 12.9972 - val_loss: 41915.3945 - val_root_mean_squared_error: 204.7325 - lr: 5.0000e-04\n",
            "Epoch 156/300\n",
            "1/1 [==============================] - 0s 42ms/step - loss: 170.7978 - root_mean_squared_error: 13.0690 - val_loss: 40512.9727 - val_root_mean_squared_error: 201.2784 - lr: 5.0000e-04\n",
            "Epoch 157/300\n",
            "1/1 [==============================] - 0s 39ms/step - loss: 170.0461 - root_mean_squared_error: 13.0402 - val_loss: 39158.2578 - val_root_mean_squared_error: 197.8845 - lr: 5.0000e-04\n",
            "Epoch 158/300\n",
            "1/1 [==============================] - 0s 40ms/step - loss: 151.5428 - root_mean_squared_error: 12.3103 - val_loss: 37875.9258 - val_root_mean_squared_error: 194.6174 - lr: 5.0000e-04\n",
            "Epoch 159/300\n",
            "1/1 [==============================] - 0s 39ms/step - loss: 156.7914 - root_mean_squared_error: 12.5216 - val_loss: 36647.3164 - val_root_mean_squared_error: 191.4349 - lr: 5.0000e-04\n",
            "Epoch 160/300\n",
            "1/1 [==============================] - 0s 40ms/step - loss: 162.5400 - root_mean_squared_error: 12.7491 - val_loss: 35456.5586 - val_root_mean_squared_error: 188.2991 - lr: 5.0000e-04\n",
            "Epoch 161/300\n",
            "1/1 [==============================] - 0s 41ms/step - loss: 171.1737 - root_mean_squared_error: 13.0833 - val_loss: 34301.9062 - val_root_mean_squared_error: 185.2077 - lr: 5.0000e-04\n",
            "Epoch 162/300\n",
            "1/1 [==============================] - 0s 43ms/step - loss: 168.4993 - root_mean_squared_error: 12.9807 - val_loss: 33182.2461 - val_root_mean_squared_error: 182.1599 - lr: 5.0000e-04\n",
            "Epoch 163/300\n",
            "1/1 [==============================] - 0s 39ms/step - loss: 167.4450 - root_mean_squared_error: 12.9401 - val_loss: 32097.7441 - val_root_mean_squared_error: 179.1584 - lr: 5.0000e-04\n",
            "Epoch 164/300\n",
            "1/1 [==============================] - 0s 38ms/step - loss: 168.0624 - root_mean_squared_error: 12.9639 - val_loss: 31047.1035 - val_root_mean_squared_error: 176.2019 - lr: 5.0000e-04\n",
            "Epoch 165/300\n",
            "1/1 [==============================] - 0s 45ms/step - loss: 167.9703 - root_mean_squared_error: 12.9603 - val_loss: 30029.4746 - val_root_mean_squared_error: 173.2901 - lr: 5.0000e-04\n",
            "Epoch 166/300\n",
            "1/1 [==============================] - 0s 41ms/step - loss: 168.9791 - root_mean_squared_error: 12.9992 - val_loss: 29043.8594 - val_root_mean_squared_error: 170.4226 - lr: 5.0000e-04\n",
            "Epoch 167/300\n",
            "1/1 [==============================] - 0s 43ms/step - loss: 167.9040 - root_mean_squared_error: 12.9578 - val_loss: 28088.3125 - val_root_mean_squared_error: 167.5957 - lr: 5.0000e-04\n",
            "Epoch 168/300\n",
            "1/1 [==============================] - 0s 44ms/step - loss: 167.6442 - root_mean_squared_error: 12.9478 - val_loss: 27163.4160 - val_root_mean_squared_error: 164.8133 - lr: 5.0000e-04\n",
            "Epoch 169/300\n",
            "1/1 [==============================] - 0s 39ms/step - loss: 167.5444 - root_mean_squared_error: 12.9439 - val_loss: 26268.4902 - val_root_mean_squared_error: 162.0756 - lr: 5.0000e-04\n",
            "Epoch 170/300\n",
            "1/1 [==============================] - 0s 43ms/step - loss: 167.4544 - root_mean_squared_error: 12.9404 - val_loss: 25402.4902 - val_root_mean_squared_error: 159.3816 - lr: 5.0000e-04\n",
            "Epoch 171/300\n",
            "1/1 [==============================] - 0s 41ms/step - loss: 160.2896 - root_mean_squared_error: 12.6606 - val_loss: 24584.2715 - val_root_mean_squared_error: 156.7937 - lr: 5.0000e-04\n",
            "Epoch 172/300\n",
            "1/1 [==============================] - 0s 38ms/step - loss: 167.4079 - root_mean_squared_error: 12.9386 - val_loss: 23790.5215 - val_root_mean_squared_error: 154.2418 - lr: 5.0000e-04\n",
            "Epoch 173/300\n",
            "1/1 [==============================] - 0s 42ms/step - loss: 168.1905 - root_mean_squared_error: 12.9688 - val_loss: 23020.2246 - val_root_mean_squared_error: 151.7242 - lr: 5.0000e-04\n",
            "Epoch 174/300\n",
            "1/1 [==============================] - 0s 40ms/step - loss: 167.1534 - root_mean_squared_error: 12.9288 - val_loss: 22273.2734 - val_root_mean_squared_error: 149.2423 - lr: 5.0000e-04\n",
            "Epoch 175/300\n",
            "1/1 [==============================] - 0s 38ms/step - loss: 168.4964 - root_mean_squared_error: 12.9806 - val_loss: 21549.7520 - val_root_mean_squared_error: 146.7983 - lr: 5.0000e-04\n",
            "Epoch 176/300\n",
            "1/1 [==============================] - 0s 46ms/step - loss: 166.9958 - root_mean_squared_error: 12.9227 - val_loss: 20848.3340 - val_root_mean_squared_error: 144.3895 - lr: 5.0000e-04\n",
            "Epoch 177/300\n",
            "1/1 [==============================] - 0s 41ms/step - loss: 166.8995 - root_mean_squared_error: 12.9190 - val_loss: 20168.8477 - val_root_mean_squared_error: 142.0171 - lr: 5.0000e-04\n",
            "Epoch 178/300\n",
            "1/1 [==============================] - 0s 43ms/step - loss: 193.8596 - root_mean_squared_error: 13.9233 - val_loss: 19514.4473 - val_root_mean_squared_error: 139.6941 - lr: 5.0000e-04\n",
            "Epoch 179/300\n",
            "1/1 [==============================] - 0s 43ms/step - loss: 166.3178 - root_mean_squared_error: 12.8964 - val_loss: 18880.7012 - val_root_mean_squared_error: 137.4071 - lr: 5.0000e-04\n",
            "Epoch 180/300\n",
            "1/1 [==============================] - 0s 43ms/step - loss: 154.0006 - root_mean_squared_error: 12.4097 - val_loss: 18275.8965 - val_root_mean_squared_error: 135.1884 - lr: 5.0000e-04\n",
            "Epoch 181/300\n",
            "1/1 [==============================] - 0s 40ms/step - loss: 170.6859 - root_mean_squared_error: 13.0647 - val_loss: 17691.5879 - val_root_mean_squared_error: 133.0097 - lr: 5.0000e-04\n",
            "Epoch 182/300\n",
            "1/1 [==============================] - 0s 46ms/step - loss: 221.4901 - root_mean_squared_error: 14.8825 - val_loss: 17135.1270 - val_root_mean_squared_error: 130.9012 - lr: 5.0000e-04\n",
            "Epoch 183/300\n",
            "1/1 [==============================] - 0s 40ms/step - loss: 167.0239 - root_mean_squared_error: 12.9238 - val_loss: 16593.0137 - val_root_mean_squared_error: 128.8139 - lr: 5.0000e-04\n",
            "Epoch 184/300\n",
            "1/1 [==============================] - 0s 44ms/step - loss: 169.8652 - root_mean_squared_error: 13.0332 - val_loss: 16066.0596 - val_root_mean_squared_error: 126.7520 - lr: 5.0000e-04\n",
            "Epoch 185/300\n",
            "1/1 [==============================] - 0s 47ms/step - loss: 166.3002 - root_mean_squared_error: 12.8957 - val_loss: 15552.8721 - val_root_mean_squared_error: 124.7112 - lr: 5.0000e-04\n",
            "Epoch 186/300\n",
            "1/1 [==============================] - 0s 41ms/step - loss: 157.6255 - root_mean_squared_error: 12.5549 - val_loss: 15054.9336 - val_root_mean_squared_error: 122.6985 - lr: 5.0000e-04\n",
            "Epoch 187/300\n",
            "1/1 [==============================] - 0s 39ms/step - loss: 165.0671 - root_mean_squared_error: 12.8478 - val_loss: 14570.8096 - val_root_mean_squared_error: 120.7096 - lr: 5.0000e-04\n",
            "Epoch 188/300\n",
            "1/1 [==============================] - 0s 35ms/step - loss: 158.6983 - root_mean_squared_error: 12.5976 - val_loss: 14100.2100 - val_root_mean_squared_error: 118.7443 - lr: 5.0000e-04\n",
            "Epoch 189/300\n",
            "1/1 [==============================] - 0s 35ms/step - loss: 164.7724 - root_mean_squared_error: 12.8364 - val_loss: 13642.2734 - val_root_mean_squared_error: 116.8001 - lr: 5.0000e-04\n",
            "Epoch 190/300\n",
            "1/1 [==============================] - 0s 35ms/step - loss: 163.6767 - root_mean_squared_error: 12.7936 - val_loss: 13196.9805 - val_root_mean_squared_error: 114.8781 - lr: 5.0000e-04\n",
            "Epoch 191/300\n",
            "1/1 [==============================] - 0s 37ms/step - loss: 214.0934 - root_mean_squared_error: 14.6319 - val_loss: 12772.9609 - val_root_mean_squared_error: 113.0175 - lr: 5.0000e-04\n",
            "Epoch 192/300\n",
            "1/1 [==============================] - 0s 36ms/step - loss: 190.0749 - root_mean_squared_error: 13.7868 - val_loss: 12365.8594 - val_root_mean_squared_error: 111.2019 - lr: 1.0000e-05\n",
            "Epoch 193/300\n",
            "1/1 [==============================] - 0s 44ms/step - loss: 203.2784 - root_mean_squared_error: 14.2576 - val_loss: 11971.5352 - val_root_mean_squared_error: 109.4145 - lr: 1.0000e-05\n",
            "Epoch 194/300\n",
            "1/1 [==============================] - 0s 34ms/step - loss: 165.7783 - root_mean_squared_error: 12.8755 - val_loss: 11589.2354 - val_root_mean_squared_error: 107.6533 - lr: 1.0000e-05\n",
            "Epoch 195/300\n",
            "1/1 [==============================] - 0s 35ms/step - loss: 165.7764 - root_mean_squared_error: 12.8754 - val_loss: 11218.7578 - val_root_mean_squared_error: 105.9186 - lr: 1.0000e-05\n",
            "Epoch 196/300\n",
            "1/1 [==============================] - 0s 38ms/step - loss: 165.7755 - root_mean_squared_error: 12.8754 - val_loss: 10859.6846 - val_root_mean_squared_error: 104.2098 - lr: 1.0000e-05\n",
            "Epoch 197/300\n",
            "1/1 [==============================] - 0s 35ms/step - loss: 167.0844 - root_mean_squared_error: 12.9261 - val_loss: 10511.5820 - val_root_mean_squared_error: 102.5260 - lr: 1.0000e-05\n",
            "Epoch 198/300\n",
            "1/1 [==============================] - 0s 35ms/step - loss: 154.8812 - root_mean_squared_error: 12.4451 - val_loss: 10174.2607 - val_root_mean_squared_error: 100.8675 - lr: 1.0000e-05\n",
            "Epoch 199/300\n",
            "1/1 [==============================] - 0s 36ms/step - loss: 169.8614 - root_mean_squared_error: 13.0331 - val_loss: 9847.2949 - val_root_mean_squared_error: 99.2335 - lr: 1.0000e-05\n",
            "Epoch 200/300\n",
            "1/1 [==============================] - 0s 42ms/step - loss: 165.7692 - root_mean_squared_error: 12.8751 - val_loss: 9530.3682 - val_root_mean_squared_error: 97.6236 - lr: 1.0000e-05\n",
            "Epoch 201/300\n",
            "1/1 [==============================] - 0s 40ms/step - loss: 172.6381 - root_mean_squared_error: 13.1392 - val_loss: 9223.0889 - val_root_mean_squared_error: 96.0369 - lr: 1.0000e-05\n",
            "Epoch 202/300\n",
            "1/1 [==============================] - 0s 41ms/step - loss: 166.9956 - root_mean_squared_error: 12.9227 - val_loss: 8925.2334 - val_root_mean_squared_error: 94.4734 - lr: 1.0000e-05\n",
            "Epoch 203/300\n",
            "1/1 [==============================] - 0s 43ms/step - loss: 165.7645 - root_mean_squared_error: 12.8750 - val_loss: 8636.5684 - val_root_mean_squared_error: 92.9331 - lr: 1.0000e-05\n",
            "Epoch 204/300\n",
            "1/1 [==============================] - 0s 44ms/step - loss: 168.9508 - root_mean_squared_error: 12.9981 - val_loss: 8356.6572 - val_root_mean_squared_error: 91.4148 - lr: 1.0000e-05\n",
            "Epoch 205/300\n",
            "1/1 [==============================] - 0s 42ms/step - loss: 167.6245 - root_mean_squared_error: 12.9470 - val_loss: 8085.4102 - val_root_mean_squared_error: 89.9189 - lr: 1.0000e-05\n",
            "Epoch 206/300\n",
            "1/1 [==============================] - 0s 41ms/step - loss: 165.2592 - root_mean_squared_error: 12.8553 - val_loss: 7822.4048 - val_root_mean_squared_error: 88.4444 - lr: 1.0000e-05\n",
            "Epoch 207/300\n",
            "1/1 [==============================] - 0s 42ms/step - loss: 167.2833 - root_mean_squared_error: 12.9338 - val_loss: 7567.4517 - val_root_mean_squared_error: 86.9911 - lr: 1.0000e-05\n",
            "Epoch 208/300\n",
            "1/1 [==============================] - 0s 50ms/step - loss: 164.5724 - root_mean_squared_error: 12.8286 - val_loss: 7320.3071 - val_root_mean_squared_error: 85.5588 - lr: 1.0000e-05\n",
            "Epoch 209/300\n",
            "1/1 [==============================] - 0s 39ms/step - loss: 163.6142 - root_mean_squared_error: 12.7912 - val_loss: 7080.7173 - val_root_mean_squared_error: 84.1470 - lr: 1.0000e-05\n",
            "Epoch 210/300\n",
            "1/1 [==============================] - 0s 40ms/step - loss: 165.7519 - root_mean_squared_error: 12.8745 - val_loss: 6848.4907 - val_root_mean_squared_error: 82.7556 - lr: 1.0000e-05\n",
            "Epoch 211/300\n",
            "1/1 [==============================] - 0s 43ms/step - loss: 165.4674 - root_mean_squared_error: 12.8634 - val_loss: 6623.3481 - val_root_mean_squared_error: 81.3840 - lr: 1.0000e-05\n",
            "Epoch 212/300\n",
            "1/1 [==============================] - 0s 42ms/step - loss: 165.7477 - root_mean_squared_error: 12.8743 - val_loss: 6405.1519 - val_root_mean_squared_error: 80.0322 - lr: 1.0000e-05\n",
            "Epoch 213/300\n",
            "1/1 [==============================] - 0s 36ms/step - loss: 220.3312 - root_mean_squared_error: 14.8436 - val_loss: 6193.7578 - val_root_mean_squared_error: 78.7004 - lr: 1.0000e-05\n",
            "Epoch 214/300\n",
            "1/1 [==============================] - 0s 45ms/step - loss: 165.7439 - root_mean_squared_error: 12.8742 - val_loss: 5988.8735 - val_root_mean_squared_error: 77.3878 - lr: 1.0000e-05\n",
            "Epoch 215/300\n",
            "1/1 [==============================] - 0s 39ms/step - loss: 152.8412 - root_mean_squared_error: 12.3629 - val_loss: 5790.3579 - val_root_mean_squared_error: 76.0944 - lr: 1.0000e-05\n",
            "Epoch 216/300\n",
            "1/1 [==============================] - 0s 43ms/step - loss: 206.7139 - root_mean_squared_error: 14.3776 - val_loss: 5598.1270 - val_root_mean_squared_error: 74.8206 - lr: 1.0000e-05\n",
            "Epoch 217/300\n",
            "1/1 [==============================] - 0s 45ms/step - loss: 168.7316 - root_mean_squared_error: 12.9897 - val_loss: 5411.7319 - val_root_mean_squared_error: 73.5645 - lr: 1.0000e-05\n",
            "Epoch 218/300\n",
            "1/1 [==============================] - 0s 42ms/step - loss: 162.3435 - root_mean_squared_error: 12.7414 - val_loss: 5231.1040 - val_root_mean_squared_error: 72.3264 - lr: 1.0000e-05\n",
            "Epoch 219/300\n",
            "1/1 [==============================] - 0s 38ms/step - loss: 170.7742 - root_mean_squared_error: 13.0681 - val_loss: 5055.9927 - val_root_mean_squared_error: 71.1055 - lr: 1.0000e-05\n",
            "Epoch 220/300\n",
            "1/1 [==============================] - 0s 46ms/step - loss: 165.7347 - root_mean_squared_error: 12.8738 - val_loss: 4886.2729 - val_root_mean_squared_error: 69.9019 - lr: 1.0000e-05\n",
            "Epoch 221/300\n",
            "1/1 [==============================] - 0s 43ms/step - loss: 165.7331 - root_mean_squared_error: 12.8737 - val_loss: 4721.7612 - val_root_mean_squared_error: 68.7151 - lr: 1.0000e-05\n",
            "Epoch 222/300\n",
            "1/1 [==============================] - 0s 43ms/step - loss: 150.7654 - root_mean_squared_error: 12.2787 - val_loss: 4562.5063 - val_root_mean_squared_error: 67.5463 - lr: 1.0000e-05\n",
            "Epoch 223/300\n",
            "1/1 [==============================] - 0s 49ms/step - loss: 165.1240 - root_mean_squared_error: 12.8501 - val_loss: 4408.1851 - val_root_mean_squared_error: 66.3942 - lr: 1.0000e-05\n",
            "Epoch 224/300\n",
            "1/1 [==============================] - 0s 41ms/step - loss: 138.8595 - root_mean_squared_error: 11.7839 - val_loss: 4258.6108 - val_root_mean_squared_error: 65.2580 - lr: 1.0000e-05\n",
            "Epoch 225/300\n",
            "1/1 [==============================] - 0s 43ms/step - loss: 169.5941 - root_mean_squared_error: 13.0228 - val_loss: 4113.6924 - val_root_mean_squared_error: 64.1381 - lr: 1.0000e-05\n",
            "Epoch 226/300\n",
            "1/1 [==============================] - 0s 40ms/step - loss: 165.7267 - root_mean_squared_error: 12.8735 - val_loss: 3973.2273 - val_root_mean_squared_error: 63.0335 - lr: 1.0000e-05\n",
            "Epoch 227/300\n",
            "1/1 [==============================] - 0s 38ms/step - loss: 175.3506 - root_mean_squared_error: 13.2420 - val_loss: 3837.1228 - val_root_mean_squared_error: 61.9445 - lr: 1.0000e-05\n",
            "Epoch 228/300\n",
            "1/1 [==============================] - 0s 39ms/step - loss: 165.7235 - root_mean_squared_error: 12.8734 - val_loss: 3705.0515 - val_root_mean_squared_error: 60.8691 - lr: 1.0000e-05\n",
            "Epoch 229/300\n",
            "1/1 [==============================] - 0s 41ms/step - loss: 165.2680 - root_mean_squared_error: 12.8557 - val_loss: 3577.0801 - val_root_mean_squared_error: 59.8087 - lr: 1.0000e-05\n",
            "Epoch 230/300\n",
            "1/1 [==============================] - 0s 62ms/step - loss: 179.4773 - root_mean_squared_error: 13.3969 - val_loss: 3453.1423 - val_root_mean_squared_error: 58.7634 - lr: 1.0000e-05\n",
            "Epoch 231/300\n",
            "1/1 [==============================] - 0s 35ms/step - loss: 170.5273 - root_mean_squared_error: 13.0586 - val_loss: 3333.0908 - val_root_mean_squared_error: 57.7329 - lr: 1.0000e-05\n",
            "Epoch 232/300\n",
            "1/1 [==============================] - 0s 44ms/step - loss: 165.7175 - root_mean_squared_error: 12.8731 - val_loss: 3216.7930 - val_root_mean_squared_error: 56.7168 - lr: 1.0000e-05\n",
            "Epoch 233/300\n",
            "1/1 [==============================] - 0s 39ms/step - loss: 166.5575 - root_mean_squared_error: 12.9057 - val_loss: 3104.1787 - val_root_mean_squared_error: 55.7152 - lr: 1.0000e-05\n",
            "Epoch 234/300\n",
            "1/1 [==============================] - 0s 34ms/step - loss: 165.7130 - root_mean_squared_error: 12.8730 - val_loss: 2995.0969 - val_root_mean_squared_error: 54.7275 - lr: 1.0000e-05\n",
            "Epoch 235/300\n",
            "1/1 [==============================] - 0s 42ms/step - loss: 159.7063 - root_mean_squared_error: 12.6375 - val_loss: 2889.4988 - val_root_mean_squared_error: 53.7541 - lr: 1.0000e-05\n",
            "Epoch 236/300\n",
            "1/1 [==============================] - 0s 40ms/step - loss: 165.8868 - root_mean_squared_error: 12.8797 - val_loss: 2787.2429 - val_root_mean_squared_error: 52.7943 - lr: 1.0000e-05\n",
            "Epoch 237/300\n",
            "1/1 [==============================] - 0s 48ms/step - loss: 165.7075 - root_mean_squared_error: 12.8727 - val_loss: 2688.2581 - val_root_mean_squared_error: 51.8484 - lr: 1.0000e-05\n",
            "Epoch 238/300\n",
            "1/1 [==============================] - 0s 40ms/step - loss: 157.6312 - root_mean_squared_error: 12.5551 - val_loss: 2592.5774 - val_root_mean_squared_error: 50.9174 - lr: 1.0000e-05\n",
            "Epoch 239/300\n",
            "1/1 [==============================] - 0s 41ms/step - loss: 165.7037 - root_mean_squared_error: 12.8726 - val_loss: 2499.9446 - val_root_mean_squared_error: 49.9994 - lr: 1.0000e-05\n",
            "Epoch 240/300\n",
            "1/1 [==============================] - 0s 38ms/step - loss: 166.1489 - root_mean_squared_error: 12.8899 - val_loss: 2410.3152 - val_root_mean_squared_error: 49.0950 - lr: 1.0000e-05\n",
            "Epoch 241/300\n",
            "1/1 [==============================] - 0s 41ms/step - loss: 163.7846 - root_mean_squared_error: 12.7978 - val_loss: 2323.5688 - val_root_mean_squared_error: 48.2034 - lr: 1.0000e-05\n",
            "Epoch 242/300\n",
            "1/1 [==============================] - 0s 42ms/step - loss: 165.6973 - root_mean_squared_error: 12.8723 - val_loss: 2239.6084 - val_root_mean_squared_error: 47.3245 - lr: 1.0000e-05\n",
            "Epoch 243/300\n",
            "1/1 [==============================] - 0s 39ms/step - loss: 212.3319 - root_mean_squared_error: 14.5716 - val_loss: 2158.4521 - val_root_mean_squared_error: 46.4591 - lr: 1.0000e-05\n",
            "Epoch 244/300\n",
            "1/1 [==============================] - 0s 47ms/step - loss: 180.5028 - root_mean_squared_error: 13.4351 - val_loss: 2079.9880 - val_root_mean_squared_error: 45.6069 - lr: 1.0000e-05\n",
            "Epoch 245/300\n",
            "1/1 [==============================] - 0s 41ms/step - loss: 165.6922 - root_mean_squared_error: 12.8721 - val_loss: 2004.0776 - val_root_mean_squared_error: 44.7669 - lr: 1.0000e-05\n",
            "Epoch 246/300\n",
            "1/1 [==============================] - 0s 46ms/step - loss: 165.6897 - root_mean_squared_error: 12.8721 - val_loss: 1930.6632 - val_root_mean_squared_error: 43.9393 - lr: 1.0000e-05\n",
            "Epoch 247/300\n",
            "1/1 [==============================] - 0s 42ms/step - loss: 153.4529 - root_mean_squared_error: 12.3876 - val_loss: 1859.7257 - val_root_mean_squared_error: 43.1245 - lr: 1.0000e-05\n",
            "Epoch 248/300\n",
            "1/1 [==============================] - 0s 44ms/step - loss: 162.2699 - root_mean_squared_error: 12.7385 - val_loss: 1791.1757 - val_root_mean_squared_error: 42.3223 - lr: 1.0000e-05\n",
            "Epoch 249/300\n",
            "1/1 [==============================] - 0s 43ms/step - loss: 210.7611 - root_mean_squared_error: 14.5176 - val_loss: 1724.9659 - val_root_mean_squared_error: 41.5327 - lr: 1.0000e-05\n",
            "Epoch 250/300\n",
            "1/1 [==============================] - 0s 45ms/step - loss: 165.6831 - root_mean_squared_error: 12.8718 - val_loss: 1660.9707 - val_root_mean_squared_error: 40.7550 - lr: 1.0000e-05\n",
            "Epoch 251/300\n",
            "1/1 [==============================] - 0s 40ms/step - loss: 165.6807 - root_mean_squared_error: 12.8717 - val_loss: 1599.1143 - val_root_mean_squared_error: 39.9889 - lr: 1.0000e-05\n",
            "Epoch 252/300\n",
            "1/1 [==============================] - 0s 52ms/step - loss: 165.6796 - root_mean_squared_error: 12.8717 - val_loss: 1539.3260 - val_root_mean_squared_error: 39.2342 - lr: 1.0000e-05\n",
            "Epoch 253/300\n",
            "1/1 [==============================] - 0s 41ms/step - loss: 165.6778 - root_mean_squared_error: 12.8716 - val_loss: 1481.5807 - val_root_mean_squared_error: 38.4913 - lr: 1.0000e-05\n",
            "Epoch 254/300\n",
            "1/1 [==============================] - 0s 41ms/step - loss: 165.6759 - root_mean_squared_error: 12.8715 - val_loss: 1425.8021 - val_root_mean_squared_error: 37.7598 - lr: 1.0000e-05\n",
            "Epoch 255/300\n",
            "1/1 [==============================] - 0s 37ms/step - loss: 165.6744 - root_mean_squared_error: 12.8715 - val_loss: 1371.9307 - val_root_mean_squared_error: 37.0396 - lr: 1.0000e-05\n",
            "Epoch 256/300\n",
            "1/1 [==============================] - 0s 57ms/step - loss: 165.6726 - root_mean_squared_error: 12.8714 - val_loss: 1319.9200 - val_root_mean_squared_error: 36.3307 - lr: 1.0000e-05\n",
            "Epoch 257/300\n",
            "1/1 [==============================] - 0s 35ms/step - loss: 211.5774 - root_mean_squared_error: 14.5457 - val_loss: 1269.8013 - val_root_mean_squared_error: 35.6343 - lr: 1.0000e-05\n",
            "Epoch 258/300\n",
            "1/1 [==============================] - 0s 35ms/step - loss: 165.6684 - root_mean_squared_error: 12.8712 - val_loss: 1221.4211 - val_root_mean_squared_error: 34.9488 - lr: 1.0000e-05\n",
            "Epoch 259/300\n",
            "1/1 [==============================] - 0s 39ms/step - loss: 165.6666 - root_mean_squared_error: 12.8712 - val_loss: 1174.7426 - val_root_mean_squared_error: 34.2745 - lr: 1.0000e-05\n",
            "Epoch 260/300\n",
            "1/1 [==============================] - 0s 34ms/step - loss: 160.4422 - root_mean_squared_error: 12.6666 - val_loss: 1129.7290 - val_root_mean_squared_error: 33.6114 - lr: 1.0000e-05\n",
            "Epoch 261/300\n",
            "1/1 [==============================] - 0s 36ms/step - loss: 165.6631 - root_mean_squared_error: 12.8710 - val_loss: 1086.3315 - val_root_mean_squared_error: 32.9595 - lr: 1.0000e-05\n",
            "Epoch 262/300\n",
            "1/1 [==============================] - 0s 35ms/step - loss: 170.2345 - root_mean_squared_error: 13.0474 - val_loss: 1044.4974 - val_root_mean_squared_error: 32.3187 - lr: 1.0000e-05\n",
            "Epoch 263/300\n",
            "1/1 [==============================] - 0s 48ms/step - loss: 165.4077 - root_mean_squared_error: 12.8611 - val_loss: 1004.1811 - val_root_mean_squared_error: 31.6888 - lr: 1.0000e-05\n",
            "Epoch 264/300\n",
            "1/1 [==============================] - 0s 40ms/step - loss: 167.9621 - root_mean_squared_error: 12.9600 - val_loss: 965.3455 - val_root_mean_squared_error: 31.0700 - lr: 1.0000e-05\n",
            "Epoch 265/300\n",
            "1/1 [==============================] - 0s 42ms/step - loss: 165.3729 - root_mean_squared_error: 12.8597 - val_loss: 927.9289 - val_root_mean_squared_error: 30.4619 - lr: 1.0000e-05\n",
            "Epoch 266/300\n",
            "1/1 [==============================] - 0s 58ms/step - loss: 165.6542 - root_mean_squared_error: 12.8707 - val_loss: 891.9059 - val_root_mean_squared_error: 29.8648 - lr: 1.0000e-05\n",
            "Epoch 267/300\n",
            "1/1 [==============================] - 0s 39ms/step - loss: 165.6521 - root_mean_squared_error: 12.8706 - val_loss: 857.2365 - val_root_mean_squared_error: 29.2786 - lr: 1.0000e-05\n",
            "Epoch 268/300\n",
            "1/1 [==============================] - 0s 35ms/step - loss: 182.8456 - root_mean_squared_error: 13.5220 - val_loss: 823.9243 - val_root_mean_squared_error: 28.7041 - lr: 1.0000e-05\n",
            "Epoch 269/300\n",
            "1/1 [==============================] - 0s 41ms/step - loss: 165.5515 - root_mean_squared_error: 12.8667 - val_loss: 791.8679 - val_root_mean_squared_error: 28.1401 - lr: 1.0000e-05\n",
            "Epoch 270/300\n",
            "1/1 [==============================] - 0s 35ms/step - loss: 165.6463 - root_mean_squared_error: 12.8704 - val_loss: 761.0550 - val_root_mean_squared_error: 27.5872 - lr: 1.0000e-05\n",
            "Epoch 271/300\n",
            "1/1 [==============================] - 0s 44ms/step - loss: 153.6365 - root_mean_squared_error: 12.3950 - val_loss: 731.4460 - val_root_mean_squared_error: 27.0453 - lr: 1.0000e-05\n",
            "Epoch 272/300\n",
            "1/1 [==============================] - 0s 45ms/step - loss: 165.6428 - root_mean_squared_error: 12.8702 - val_loss: 703.0270 - val_root_mean_squared_error: 26.5147 - lr: 1.0000e-05\n",
            "Epoch 273/300\n",
            "1/1 [==============================] - 0s 44ms/step - loss: 167.5925 - root_mean_squared_error: 12.9458 - val_loss: 675.7595 - val_root_mean_squared_error: 25.9954 - lr: 1.0000e-05\n",
            "Epoch 274/300\n",
            "1/1 [==============================] - 0s 64ms/step - loss: 165.6390 - root_mean_squared_error: 12.8701 - val_loss: 649.5777 - val_root_mean_squared_error: 25.4868 - lr: 1.0000e-05\n",
            "Epoch 275/300\n",
            "1/1 [==============================] - 0s 43ms/step - loss: 165.4932 - root_mean_squared_error: 12.8644 - val_loss: 624.4739 - val_root_mean_squared_error: 24.9895 - lr: 1.0000e-05\n",
            "Epoch 276/300\n",
            "1/1 [==============================] - 0s 43ms/step - loss: 172.2209 - root_mean_squared_error: 13.1233 - val_loss: 600.4103 - val_root_mean_squared_error: 24.5033 - lr: 1.0000e-05\n",
            "Epoch 277/300\n",
            "1/1 [==============================] - 0s 49ms/step - loss: 165.2023 - root_mean_squared_error: 12.8531 - val_loss: 577.3470 - val_root_mean_squared_error: 24.0280 - lr: 1.0000e-05\n",
            "Epoch 278/300\n",
            "1/1 [==============================] - 0s 42ms/step - loss: 165.6304 - root_mean_squared_error: 12.8697 - val_loss: 555.2646 - val_root_mean_squared_error: 23.5641 - lr: 1.0000e-05\n",
            "Epoch 279/300\n",
            "1/1 [==============================] - 0s 41ms/step - loss: 165.6281 - root_mean_squared_error: 12.8697 - val_loss: 534.1289 - val_root_mean_squared_error: 23.1112 - lr: 1.0000e-05\n",
            "Epoch 280/300\n",
            "1/1 [==============================] - 0s 43ms/step - loss: 163.7401 - root_mean_squared_error: 12.7961 - val_loss: 513.9169 - val_root_mean_squared_error: 22.6697 - lr: 1.0000e-05\n",
            "Epoch 281/300\n",
            "1/1 [==============================] - 0s 43ms/step - loss: 165.6239 - root_mean_squared_error: 12.8695 - val_loss: 494.5829 - val_root_mean_squared_error: 22.2392 - lr: 1.0000e-05\n",
            "Epoch 282/300\n",
            "1/1 [==============================] - 0s 41ms/step - loss: 165.6212 - root_mean_squared_error: 12.8694 - val_loss: 476.1347 - val_root_mean_squared_error: 21.8205 - lr: 1.0000e-05\n",
            "Epoch 283/300\n",
            "1/1 [==============================] - 0s 47ms/step - loss: 165.6193 - root_mean_squared_error: 12.8693 - val_loss: 458.5430 - val_root_mean_squared_error: 21.4136 - lr: 1.0000e-05\n",
            "Epoch 284/300\n",
            "1/1 [==============================] - 0s 43ms/step - loss: 165.6165 - root_mean_squared_error: 12.8692 - val_loss: 441.7703 - val_root_mean_squared_error: 21.0183 - lr: 1.0000e-05\n",
            "Epoch 285/300\n",
            "1/1 [==============================] - 0s 48ms/step - loss: 206.6996 - root_mean_squared_error: 14.3771 - val_loss: 425.8200 - val_root_mean_squared_error: 20.6354 - lr: 1.0000e-05\n",
            "Epoch 286/300\n",
            "1/1 [==============================] - 0s 47ms/step - loss: 165.6123 - root_mean_squared_error: 12.8690 - val_loss: 410.6425 - val_root_mean_squared_error: 20.2643 - lr: 1.0000e-05\n",
            "Epoch 287/300\n",
            "1/1 [==============================] - 0s 42ms/step - loss: 165.8653 - root_mean_squared_error: 12.8789 - val_loss: 396.2076 - val_root_mean_squared_error: 19.9050 - lr: 1.0000e-05\n",
            "Epoch 288/300\n",
            "1/1 [==============================] - 0s 44ms/step - loss: 152.5593 - root_mean_squared_error: 12.3515 - val_loss: 382.5215 - val_root_mean_squared_error: 19.5582 - lr: 1.0000e-05\n",
            "Epoch 289/300\n",
            "1/1 [==============================] - 0s 40ms/step - loss: 165.6057 - root_mean_squared_error: 12.8688 - val_loss: 369.5254 - val_root_mean_squared_error: 19.2230 - lr: 1.0000e-05\n",
            "Epoch 290/300\n",
            "1/1 [==============================] - 0s 63ms/step - loss: 165.6036 - root_mean_squared_error: 12.8687 - val_loss: 357.2209 - val_root_mean_squared_error: 18.9003 - lr: 1.0000e-05\n",
            "Epoch 291/300\n",
            "1/1 [==============================] - 0s 42ms/step - loss: 170.7563 - root_mean_squared_error: 13.0674 - val_loss: 345.5781 - val_root_mean_squared_error: 18.5897 - lr: 1.0000e-05\n",
            "Epoch 292/300\n",
            "1/1 [==============================] - 0s 44ms/step - loss: 165.5913 - root_mean_squared_error: 12.8682 - val_loss: 334.5708 - val_root_mean_squared_error: 18.2913 - lr: 1.0000e-05\n",
            "Epoch 293/300\n",
            "1/1 [==============================] - 0s 46ms/step - loss: 165.3621 - root_mean_squared_error: 12.8593 - val_loss: 324.1942 - val_root_mean_squared_error: 18.0054 - lr: 1.0000e-05\n",
            "Epoch 294/300\n",
            "1/1 [==============================] - 0s 48ms/step - loss: 165.0399 - root_mean_squared_error: 12.8468 - val_loss: 314.4146 - val_root_mean_squared_error: 17.7317 - lr: 1.0000e-05\n",
            "Epoch 295/300\n",
            "1/1 [==============================] - 0s 49ms/step - loss: 165.6784 - root_mean_squared_error: 12.8716 - val_loss: 305.2229 - val_root_mean_squared_error: 17.4706 - lr: 1.0000e-05\n",
            "Epoch 296/300\n",
            "1/1 [==============================] - 0s 45ms/step - loss: 165.4986 - root_mean_squared_error: 12.8646 - val_loss: 296.6038 - val_root_mean_squared_error: 17.2222 - lr: 1.0000e-05\n",
            "Epoch 297/300\n",
            "1/1 [==============================] - 0s 43ms/step - loss: 165.5888 - root_mean_squared_error: 12.8681 - val_loss: 288.5386 - val_root_mean_squared_error: 16.9864 - lr: 1.0000e-05\n",
            "Epoch 298/300\n",
            "1/1 [==============================] - 0s 42ms/step - loss: 164.3973 - root_mean_squared_error: 12.8218 - val_loss: 281.0070 - val_root_mean_squared_error: 16.7633 - lr: 1.0000e-05\n",
            "Epoch 299/300\n",
            "1/1 [==============================] - 0s 42ms/step - loss: 165.5841 - root_mean_squared_error: 12.8679 - val_loss: 273.9923 - val_root_mean_squared_error: 16.5527 - lr: 1.0000e-05\n",
            "Epoch 300/300\n",
            "1/1 [==============================] - 0s 39ms/step - loss: 164.1517 - root_mean_squared_error: 12.8122 - val_loss: 267.4897 - val_root_mean_squared_error: 16.3551 - lr: 1.0000e-05\n"
          ]
        },
        {
          "output_type": "display_data",
          "data": {
            "text/plain": [
              "<Figure size 640x500 with 1 Axes>"
            ],
            "image/png": "[encoded data removed]"
          },
          "metadata": {}
        }
      ]
    },
    {
      "cell_type": "markdown",
      "source": [
        ">> ## **Fin del Ejercicio de Series de Tiempo**"
      ],
      "metadata": {
        "id": "18KiIqhsuoDr"
      }
    }
  ]
}