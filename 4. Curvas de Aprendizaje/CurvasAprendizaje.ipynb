{
  "nbformat": 4,
  "nbformat_minor": 0,
  "metadata": {
    "colab": {
      "provenance": []
    },
    "kernelspec": {
      "name": "python3",
      "display_name": "Python 3"
    },
    "language_info": {
      "name": "python"
    }
  },
  "cells": [
    {
      "cell_type": "markdown",
      "source": [
        "#**APRENDIZAJE AUTOMÁTICO - MIGUEL MARINES**\n",
        "##**<u>Campañas Publicitarias en Redes Sociales</u>**\n",
        "Modelos de Regresión - Curvas de Aprendizaje - Model Tunning para Evitar Overfitting y Underfitting\n",
        "---\n",
        "---\n",
        "Modelos:\n",
        "* RandomForest - RF\n",
        "* Extreme Gradient Boost - XGBoost\n",
        "* Máquina de Vector Soporte - SVM\n",
        "* Red Neuronal Perceptrón Multicapa - MLP"
      ],
      "metadata": {
        "id": "cCgXoRxlVFi0"
      }
    },
    {
      "cell_type": "markdown",
      "source": [
        "### **Se trabajará con el archivo \"dataset_Facebook.csv\" que se encuentra en la siguiente liga:**\n",
        "\n",
        "https://archive.ics.uci.edu/dataset/368/facebook+metrics\n",
        "\n",
        "### **Estos datos están asociados al siguiente artículo de Moro et.al., que se deberá descargar para contestar varias de las preguntas de esta actividad:**\n",
        "\n",
        "https://www.semanticscholar.org/paper/Predicting-social-media-performance-metrics-and-of-Moro-Rita/dec55692590820754b53c916e29bb2b42c0e5104\n"
      ],
      "metadata": {
        "id": "EZ_5sfaamvHY"
      }
    },
    {
      "cell_type": "code",
      "source": [
        "# Google Drive en Google Colab.\n",
        "# Acceso a los archivos y directorios almacenados en Google Drive desde un notebook de Colab.\n",
        "from google.colab import drive\n",
        "drive.mount('/content/drive')\n",
        "\n",
        "\n",
        "# Importación de la librería \"os\" para manipular rutas de archivos.\n",
        "# Ruta del directorio que se desea establecer como directorio de trabajo.\n",
        "# Se cambia el directorio de trabajo actual al especificado en la variable \"DIR\".\n",
        "import os\n",
        "DIR = \"/content/drive/MyDrive/IAyAA\"\n",
        "os.chdir(DIR)"
      ],
      "metadata": {
        "colab": {
          "base_uri": "https://localhost:8080/"
        },
        "id": "c74nJYQ18nCT",
        "outputId": "8aa2d69e-c2bc-4954-9a20-d3847de75877"
      },
      "execution_count": null,
      "outputs": [
        {
          "output_type": "stream",
          "name": "stdout",
          "text": [
            "Drive already mounted at /content/drive; to attempt to forcibly remount, call drive.mount(\"/content/drive\", force_remount=True).\n"
          ]
        }
      ]
    },
    {
      "cell_type": "code",
      "source": [
        "# Librerías\n",
        "\n",
        "# Manejo de datos.\n",
        "import pandas as pd\n",
        "import matplotlib.pyplot as plt\n",
        "import numpy as np\n",
        "\n",
        "# Preprocesamiento\n",
        "from sklearn.model_selection import train_test_split\n",
        "from sklearn.pipeline import Pipeline\n",
        "from sklearn.compose import ColumnTransformer\n",
        "from sklearn.impute import SimpleImputer\n",
        "from sklearn.preprocessing import OneHotEncoder\n",
        "from sklearn.preprocessing import OrdinalEncoder\n",
        "\n",
        "# Modelos\n",
        "from sklearn.ensemble import RandomForestRegressor\n",
        "from xgboost import XGBRegressor\n",
        "from sklearn.neural_network import MLPRegressor\n",
        "from sklearn.svm import SVR\n",
        "\n",
        "# Métricas\n",
        "from sklearn import metrics\n",
        "from sklearn.model_selection import RepeatedKFold\n",
        "from sklearn.model_selection import cross_validate\n",
        "from sklearn.metrics import mean_squared_error\n",
        "from sklearn.model_selection import learning_curve"
      ],
      "metadata": {
        "id": "9MZs9gKJ1fWZ"
      },
      "execution_count": null,
      "outputs": []
    },
    {
      "cell_type": "markdown",
      "source": [
        "## **Ejercicio 1**\n"
      ],
      "metadata": {
        "id": "wLK5tyC0afDk"
      }
    },
    {
      "cell_type": "markdown",
      "source": [
        "### **Se describe en qué consiste el método llamado \"Curvas de Aprendizaje\" (Learning Curves), para monitorear el subentrenamiento o sobrbeentrenamiento de un modelo.**\n",
        "\n",
        "#### NOTA: Se puede apoyar en la documentación de sklearn:\n",
        "\n",
        "https://scikit-learn.org/stable/auto_examples/model_selection/plot_learning_curve.html#sphx-glr-auto-examples-model-selection-plot-learning-curve-py\n",
        "\n"
      ],
      "metadata": {
        "id": "VUaKQbUWxNYD"
      }
    },
    {
      "cell_type": "markdown",
      "source": [
        "El método de \"Curvas de Aprendizaje\" (Learning Curves) es una técnica utilizada en el aprendizaje automático para evaluar el desempeño de un modelo en función del tamaño del conjunto de datos de entrenamiento. Consiste en trazar gráficos que muestran cómo el rendimiento del modelo varía a medida que se incrementa el tamaño del conjunto de datos de entrenamiento.\n",
        "\n",
        "El proceso es:\n",
        "1. Entrenamiento con conjuntos de datos de diferentes tamaños.\n",
        "2. Evaluación del desempeño.\n",
        "3. Construcción de las curvas de aprendizaje.\n",
        "4. Interpretación de las curvas de aprendizaje.\n",
        "\n",
        "      a. Subentrenamiento (Underfitting). Error de entrenamiento y error de validación altos.\n",
        "      \n",
        "      b. Sobreentrenamiento (Overfitting). Error de entrenamiento bajo y error de validación alto.\n",
        "      \n",
        "      c. Ajuste adecuado (Good fit).  Error de entrenamiento y error de validación bajos.\n",
        "\n",
        "5. Ajuste del modelo.\n",
        "\n",
        "Las curvas de aprendizaje son una herramienta importante para comprender el desempeño de un modelo de aprendizaje automático en relación con el tamaño del conjunto de datos de entrenamiento y para identificar problemas como el subentrenamiento o el sobreentrenamiento y poder tomar decisiones informadas para mejorar el rendimiento del modelo."
      ],
      "metadata": {
        "id": "xBYkgkl5yDWn"
      }
    },
    {
      "cell_type": "markdown",
      "source": [
        "## **Ejercicio 2**"
      ],
      "metadata": {
        "id": "XmUZ46CwyEyu"
      }
    },
    {
      "cell_type": "markdown",
      "source": [
        "### **De acuerdo al artículo de Moro et.al., se contestan las siguientes preguntas:**\n",
        "\n",
        "*   **a. ¿Cuál es el objetivo del problema que se plantea en el artículo?**\n"
      ],
      "metadata": {
        "id": "8pcpweI8aie8"
      }
    },
    {
      "cell_type": "markdown",
      "source": [
        "El objetivo del problema planteado en el artículo \"Predicting social media performance metrics and evaluation of the impact on brand building: A data mining approach\" es utilizar técnicas de minería de datos para predecir métricas de rendimiento en redes sociales y evaluar su impacto en la construcción de marca. El estudio se enfoca en desarrollar un modelo que pueda predecir el rendimiento de una marca en redes sociales utilizando datos minados de estas plataformas, y luego evaluar cómo esos resultados afectan la percepción y construcción de la marca en el contexto digital."
      ],
      "metadata": {
        "id": "WIqvDWS4tFF2"
      }
    },
    {
      "cell_type": "markdown",
      "source": [
        "\n",
        "*   **b. Se describe a continuación el significado de cada una de las 8 variables con la cuales se trabajará, de acuerdo a la información de las Tablas 2 y 3 del artículo de Moro et.al.**"
      ],
      "metadata": {
        "id": "DbSEBatds8Vu"
      }
    },
    {
      "cell_type": "markdown",
      "source": [
        "\n",
        "\n",
        "*   Page Total Likes: Número de personas a las que les ha gustado la página de la empresa.\n",
        "\n",
        "\n",
        "*   Type: Tipo de contenido (enlace, foto, estado, vídeo).\n",
        "\n",
        "\n",
        "*   Category: Categoría del contenido: acción (ofertas especiales y concursos), producto (publicidad directa, contenido explícito de marca), e inspiración (contenido no explícito relacionado con la marca).\n",
        "\n",
        "\n",
        "*   Post Month: Mes en que se hizo la publicación (enero, febrero, marzo, …, diciembre).\n",
        "\n",
        "\n",
        "*   Post Weekday: Día en el que se hizo la publicación  (domingo, lunes, …,\n",
        "sábado).\n",
        "\n",
        "\n",
        "*   Post Hour: Hora en que se hizo la publicación (0, 1, 2, 3, 4, …, 23).\n",
        "\n",
        "\n",
        "*   Paid: Si la empresa pagó a Facebook por publicidad (sí, no).\n",
        "\n",
        "\n",
        "*   Lifetime Post Consumers: El número de personas que hicieron clic en cualquier lugar de la publicación.\n",
        "\n"
      ],
      "metadata": {
        "id": "tHWhAUezdc-E"
      }
    },
    {
      "cell_type": "code",
      "source": [
        "# Carga de datos.\n",
        "data = pd.read_csv('dataset_Facebook.csv', sep = ';', header = 'infer')\n",
        "\n",
        "# Separación de los datos de entrada y la variable de salida.\n",
        "X = data.iloc[:,0:7]   # Las primeras 7 columnas son las variables de entrada.\n",
        "y = data[['Lifetime Post Consumers']]   # Hay 12 variables de salida, pero solo se trabajará con la\n",
        "                                        # que se consideró la más importante en el artículo de reporte.\n",
        "\n",
        "# Renombrar los niveles de \"Type\", para tener solo valores numéricos en el DataFrame:\n",
        "X['Type'] = X['Type'].map({'Photo':1, 'Status':2, 'Link':3, 'Video':4})\n",
        "\n",
        "# Partición en Train, Validation y Test en 60-20-20.\n",
        "Xtrain, Xtv, ytrain, ytv = train_test_split(X, y, train_size = 0.6, shuffle = True, random_state = 5)\n",
        "Xval, Xtest, yval, ytest = train_test_split(Xtv, ytv, test_size = 0.5, shuffle = True, random_state = 7)\n",
        "\n",
        "# Mostrar resultados.\n",
        "print('Train:', Xtrain.shape, ytrain.shape)\n",
        "print('Val:', Xval.shape, yval.shape)\n",
        "print('Test:', Xtest.shape, ytest.shape)"
      ],
      "metadata": {
        "id": "N6m_XqcQnCHP",
        "colab": {
          "base_uri": "https://localhost:8080/"
        },
        "outputId": "1df7aa98-4bfb-412e-f1f5-ce99a1185e50"
      },
      "execution_count": null,
      "outputs": [
        {
          "output_type": "stream",
          "name": "stdout",
          "text": [
            "Train: (300, 7) (300, 1)\n",
            "Val: (100, 7) (100, 1)\n",
            "Test: (100, 7) (100, 1)\n"
          ]
        }
      ]
    },
    {
      "cell_type": "code",
      "source": [
        "# Datos de entrada.\n",
        "Xtrain.head()"
      ],
      "metadata": {
        "id": "OQM5OUcsaXOE",
        "colab": {
          "base_uri": "https://localhost:8080/",
          "height": 206
        },
        "outputId": "1ac220cd-ee9f-4413-95cb-b8e300cea701"
      },
      "execution_count": null,
      "outputs": [
        {
          "output_type": "execute_result",
          "data": {
            "text/plain": [
              "     Page total likes  Type  Category  Post Month  Post Weekday  Post Hour  \\\n",
              "92             137059     1         3          11             1          3   \n",
              "45             138353     3         1          12             4          3   \n",
              "313            124940     1         3           6             7          3   \n",
              "46             138353     2         1          12             3         11   \n",
              "185            134879     1         1           9             1         10   \n",
              "\n",
              "     Paid  \n",
              "92    0.0  \n",
              "45    1.0  \n",
              "313   1.0  \n",
              "46    0.0  \n",
              "185   0.0  "
            ],
            "text/html": [
              "\n",
              "  <div id=\"df-e1dbedb2-e3f6-411a-9d6d-11f3014cfb6c\" class=\"colab-df-container\">\n",
              "    <div>\n",
              "<style scoped>\n",
              "    .dataframe tbody tr th:only-of-type {\n",
              "        vertical-align: middle;\n",
              "    }\n",
              "\n",
              "    .dataframe tbody tr th {\n",
              "        vertical-align: top;\n",
              "    }\n",
              "\n",
              "    .dataframe thead th {\n",
              "        text-align: right;\n",
              "    }\n",
              "</style>\n",
              "<table border=\"1\" class=\"dataframe\">\n",
              "  <thead>\n",
              "    <tr style=\"text-align: right;\">\n",
              "      <th></th>\n",
              "      <th>Page total likes</th>\n",
              "      <th>Type</th>\n",
              "      <th>Category</th>\n",
              "      <th>Post Month</th>\n",
              "      <th>Post Weekday</th>\n",
              "      <th>Post Hour</th>\n",
              "      <th>Paid</th>\n",
              "    </tr>\n",
              "  </thead>\n",
              "  <tbody>\n",
              "    <tr>\n",
              "      <th>92</th>\n",
              "      <td>137059</td>\n",
              "      <td>1</td>\n",
              "      <td>3</td>\n",
              "      <td>11</td>\n",
              "      <td>1</td>\n",
              "      <td>3</td>\n",
              "      <td>0.0</td>\n",
              "    </tr>\n",
              "    <tr>\n",
              "      <th>45</th>\n",
              "      <td>138353</td>\n",
              "      <td>3</td>\n",
              "      <td>1</td>\n",
              "      <td>12</td>\n",
              "      <td>4</td>\n",
              "      <td>3</td>\n",
              "      <td>1.0</td>\n",
              "    </tr>\n",
              "    <tr>\n",
              "      <th>313</th>\n",
              "      <td>124940</td>\n",
              "      <td>1</td>\n",
              "      <td>3</td>\n",
              "      <td>6</td>\n",
              "      <td>7</td>\n",
              "      <td>3</td>\n",
              "      <td>1.0</td>\n",
              "    </tr>\n",
              "    <tr>\n",
              "      <th>46</th>\n",
              "      <td>138353</td>\n",
              "      <td>2</td>\n",
              "      <td>1</td>\n",
              "      <td>12</td>\n",
              "      <td>3</td>\n",
              "      <td>11</td>\n",
              "      <td>0.0</td>\n",
              "    </tr>\n",
              "    <tr>\n",
              "      <th>185</th>\n",
              "      <td>134879</td>\n",
              "      <td>1</td>\n",
              "      <td>1</td>\n",
              "      <td>9</td>\n",
              "      <td>1</td>\n",
              "      <td>10</td>\n",
              "      <td>0.0</td>\n",
              "    </tr>\n",
              "  </tbody>\n",
              "</table>\n",
              "</div>\n",
              "    <div class=\"colab-df-buttons\">\n",
              "\n",
              "  <div class=\"colab-df-container\">\n",
              "    <button class=\"colab-df-convert\" onclick=\"convertToInteractive('df-e1dbedb2-e3f6-411a-9d6d-11f3014cfb6c')\"\n",
              "            title=\"Convert this dataframe to an interactive table.\"\n",
              "            style=\"display:none;\">\n",
              "\n",
              "  <svg xmlns=\"http://www.w3.org/2000/svg\" height=\"24px\" viewBox=\"0 -960 960 960\">\n",
              "    <path d=\"M120-120v-720h720v720H120Zm60-500h600v-160H180v160Zm220 220h160v-160H400v160Zm0 220h160v-160H400v160ZM180-400h160v-160H180v160Zm440 0h160v-160H620v160ZM180-180h160v-160H180v160Zm440 0h160v-160H620v160Z\"/>\n",
              "  </svg>\n",
              "    </button>\n",
              "\n",
              "  <style>\n",
              "    .colab-df-container {\n",
              "      display:flex;\n",
              "      gap: 12px;\n",
              "    }\n",
              "\n",
              "    .colab-df-convert {\n",
              "      background-color: #E8F0FE;\n",
              "      border: none;\n",
              "      border-radius: 50%;\n",
              "      cursor: pointer;\n",
              "      display: none;\n",
              "      fill: #1967D2;\n",
              "      height: 32px;\n",
              "      padding: 0 0 0 0;\n",
              "      width: 32px;\n",
              "    }\n",
              "\n",
              "    .colab-df-convert:hover {\n",
              "      background-color: #E2EBFA;\n",
              "      box-shadow: 0px 1px 2px rgba(60, 64, 67, 0.3), 0px 1px 3px 1px rgba(60, 64, 67, 0.15);\n",
              "      fill: #174EA6;\n",
              "    }\n",
              "\n",
              "    .colab-df-buttons div {\n",
              "      margin-bottom: 4px;\n",
              "    }\n",
              "\n",
              "    [theme=dark] .colab-df-convert {\n",
              "      background-color: #3B4455;\n",
              "      fill: #D2E3FC;\n",
              "    }\n",
              "\n",
              "    [theme=dark] .colab-df-convert:hover {\n",
              "      background-color: #434B5C;\n",
              "      box-shadow: 0px 1px 3px 1px rgba(0, 0, 0, 0.15);\n",
              "      filter: drop-shadow(0px 1px 2px rgba(0, 0, 0, 0.3));\n",
              "      fill: #FFFFFF;\n",
              "    }\n",
              "  </style>\n",
              "\n",
              "    <script>\n",
              "      const buttonEl =\n",
              "        document.querySelector('#df-e1dbedb2-e3f6-411a-9d6d-11f3014cfb6c button.colab-df-convert');\n",
              "      buttonEl.style.display =\n",
              "        google.colab.kernel.accessAllowed ? 'block' : 'none';\n",
              "\n",
              "      async function convertToInteractive(key) {\n",
              "        const element = document.querySelector('#df-e1dbedb2-e3f6-411a-9d6d-11f3014cfb6c');\n",
              "        const dataTable =\n",
              "          await google.colab.kernel.invokeFunction('convertToInteractive',\n",
              "                                                    [key], {});\n",
              "        if (!dataTable) return;\n",
              "\n",
              "        const docLinkHtml = 'Like what you see? Visit the ' +\n",
              "          '<a target=\"_blank\" href=https://colab.research.google.com/notebooks/data_table.ipynb>data table notebook</a>'\n",
              "          + ' to learn more about interactive tables.';\n",
              "        element.innerHTML = '';\n",
              "        dataTable['output_type'] = 'display_data';\n",
              "        await google.colab.output.renderOutput(dataTable, element);\n",
              "        const docLink = document.createElement('div');\n",
              "        docLink.innerHTML = docLinkHtml;\n",
              "        element.appendChild(docLink);\n",
              "      }\n",
              "    </script>\n",
              "  </div>\n",
              "\n",
              "\n",
              "<div id=\"df-86b574eb-1e3d-410e-9eaf-baf511caa721\">\n",
              "  <button class=\"colab-df-quickchart\" onclick=\"quickchart('df-86b574eb-1e3d-410e-9eaf-baf511caa721')\"\n",
              "            title=\"Suggest charts\"\n",
              "            style=\"display:none;\">\n",
              "\n",
              "<svg xmlns=\"http://www.w3.org/2000/svg\" height=\"24px\"viewBox=\"0 0 24 24\"\n",
              "     width=\"24px\">\n",
              "    <g>\n",
              "        <path d=\"M19 3H5c-1.1 0-2 .9-2 2v14c0 1.1.9 2 2 2h14c1.1 0 2-.9 2-2V5c0-1.1-.9-2-2-2zM9 17H7v-7h2v7zm4 0h-2V7h2v10zm4 0h-2v-4h2v4z\"/>\n",
              "    </g>\n",
              "</svg>\n",
              "  </button>\n",
              "\n",
              "<style>\n",
              "  .colab-df-quickchart {\n",
              "      --bg-color: #E8F0FE;\n",
              "      --fill-color: #1967D2;\n",
              "      --hover-bg-color: #E2EBFA;\n",
              "      --hover-fill-color: #174EA6;\n",
              "      --disabled-fill-color: #AAA;\n",
              "      --disabled-bg-color: #DDD;\n",
              "  }\n",
              "\n",
              "  [theme=dark] .colab-df-quickchart {\n",
              "      --bg-color: #3B4455;\n",
              "      --fill-color: #D2E3FC;\n",
              "      --hover-bg-color: #434B5C;\n",
              "      --hover-fill-color: #FFFFFF;\n",
              "      --disabled-bg-color: #3B4455;\n",
              "      --disabled-fill-color: #666;\n",
              "  }\n",
              "\n",
              "  .colab-df-quickchart {\n",
              "    background-color: var(--bg-color);\n",
              "    border: none;\n",
              "    border-radius: 50%;\n",
              "    cursor: pointer;\n",
              "    display: none;\n",
              "    fill: var(--fill-color);\n",
              "    height: 32px;\n",
              "    padding: 0;\n",
              "    width: 32px;\n",
              "  }\n",
              "\n",
              "  .colab-df-quickchart:hover {\n",
              "    background-color: var(--hover-bg-color);\n",
              "    box-shadow: 0 1px 2px rgba(60, 64, 67, 0.3), 0 1px 3px 1px rgba(60, 64, 67, 0.15);\n",
              "    fill: var(--button-hover-fill-color);\n",
              "  }\n",
              "\n",
              "  .colab-df-quickchart-complete:disabled,\n",
              "  .colab-df-quickchart-complete:disabled:hover {\n",
              "    background-color: var(--disabled-bg-color);\n",
              "    fill: var(--disabled-fill-color);\n",
              "    box-shadow: none;\n",
              "  }\n",
              "\n",
              "  .colab-df-spinner {\n",
              "    border: 2px solid var(--fill-color);\n",
              "    border-color: transparent;\n",
              "    border-bottom-color: var(--fill-color);\n",
              "    animation:\n",
              "      spin 1s steps(1) infinite;\n",
              "  }\n",
              "\n",
              "  @keyframes spin {\n",
              "    0% {\n",
              "      border-color: transparent;\n",
              "      border-bottom-color: var(--fill-color);\n",
              "      border-left-color: var(--fill-color);\n",
              "    }\n",
              "    20% {\n",
              "      border-color: transparent;\n",
              "      border-left-color: var(--fill-color);\n",
              "      border-top-color: var(--fill-color);\n",
              "    }\n",
              "    30% {\n",
              "      border-color: transparent;\n",
              "      border-left-color: var(--fill-color);\n",
              "      border-top-color: var(--fill-color);\n",
              "      border-right-color: var(--fill-color);\n",
              "    }\n",
              "    40% {\n",
              "      border-color: transparent;\n",
              "      border-right-color: var(--fill-color);\n",
              "      border-top-color: var(--fill-color);\n",
              "    }\n",
              "    60% {\n",
              "      border-color: transparent;\n",
              "      border-right-color: var(--fill-color);\n",
              "    }\n",
              "    80% {\n",
              "      border-color: transparent;\n",
              "      border-right-color: var(--fill-color);\n",
              "      border-bottom-color: var(--fill-color);\n",
              "    }\n",
              "    90% {\n",
              "      border-color: transparent;\n",
              "      border-bottom-color: var(--fill-color);\n",
              "    }\n",
              "  }\n",
              "</style>\n",
              "\n",
              "  <script>\n",
              "    async function quickchart(key) {\n",
              "      const quickchartButtonEl =\n",
              "        document.querySelector('#' + key + ' button');\n",
              "      quickchartButtonEl.disabled = true;  // To prevent multiple clicks.\n",
              "      quickchartButtonEl.classList.add('colab-df-spinner');\n",
              "      try {\n",
              "        const charts = await google.colab.kernel.invokeFunction(\n",
              "            'suggestCharts', [key], {});\n",
              "      } catch (error) {\n",
              "        console.error('Error during call to suggestCharts:', error);\n",
              "      }\n",
              "      quickchartButtonEl.classList.remove('colab-df-spinner');\n",
              "      quickchartButtonEl.classList.add('colab-df-quickchart-complete');\n",
              "    }\n",
              "    (() => {\n",
              "      let quickchartButtonEl =\n",
              "        document.querySelector('#df-86b574eb-1e3d-410e-9eaf-baf511caa721 button');\n",
              "      quickchartButtonEl.style.display =\n",
              "        google.colab.kernel.accessAllowed ? 'block' : 'none';\n",
              "    })();\n",
              "  </script>\n",
              "</div>\n",
              "    </div>\n",
              "  </div>\n"
            ],
            "application/vnd.google.colaboratory.intrinsic+json": {
              "type": "dataframe",
              "variable_name": "Xtrain",
              "summary": "{\n  \"name\": \"Xtrain\",\n  \"rows\": 300,\n  \"fields\": [\n    {\n      \"column\": \"Page total likes\",\n      \"properties\": {\n        \"dtype\": \"number\",\n        \"std\": 16211,\n        \"min\": 81370,\n        \"max\": 139441,\n        \"num_unique_values\": 75,\n        \"samples\": [\n          125612,\n          91758,\n          86909\n        ],\n        \"semantic_type\": \"\",\n        \"description\": \"\"\n      }\n    },\n    {\n      \"column\": \"Type\",\n      \"properties\": {\n        \"dtype\": \"number\",\n        \"std\": 0,\n        \"min\": 1,\n        \"max\": 4,\n        \"num_unique_values\": 4,\n        \"samples\": [\n          3,\n          4,\n          1\n        ],\n        \"semantic_type\": \"\",\n        \"description\": \"\"\n      }\n    },\n    {\n      \"column\": \"Category\",\n      \"properties\": {\n        \"dtype\": \"number\",\n        \"std\": 0,\n        \"min\": 1,\n        \"max\": 3,\n        \"num_unique_values\": 3,\n        \"samples\": [\n          3,\n          1,\n          2\n        ],\n        \"semantic_type\": \"\",\n        \"description\": \"\"\n      }\n    },\n    {\n      \"column\": \"Post Month\",\n      \"properties\": {\n        \"dtype\": \"number\",\n        \"std\": 3,\n        \"min\": 1,\n        \"max\": 12,\n        \"num_unique_values\": 12,\n        \"samples\": [\n          10,\n          4,\n          11\n        ],\n        \"semantic_type\": \"\",\n        \"description\": \"\"\n      }\n    },\n    {\n      \"column\": \"Post Weekday\",\n      \"properties\": {\n        \"dtype\": \"number\",\n        \"std\": 2,\n        \"min\": 1,\n        \"max\": 7,\n        \"num_unique_values\": 7,\n        \"samples\": [\n          1,\n          4,\n          6\n        ],\n        \"semantic_type\": \"\",\n        \"description\": \"\"\n      }\n    },\n    {\n      \"column\": \"Post Hour\",\n      \"properties\": {\n        \"dtype\": \"number\",\n        \"std\": 4,\n        \"min\": 1,\n        \"max\": 22,\n        \"num_unique_values\": 20,\n        \"samples\": [\n          3,\n          14,\n          1\n        ],\n        \"semantic_type\": \"\",\n        \"description\": \"\"\n      }\n    },\n    {\n      \"column\": \"Paid\",\n      \"properties\": {\n        \"dtype\": \"number\",\n        \"std\": 0.4549711205861747,\n        \"min\": 0.0,\n        \"max\": 1.0,\n        \"num_unique_values\": 2,\n        \"samples\": [\n          1.0,\n          0.0\n        ],\n        \"semantic_type\": \"\",\n        \"description\": \"\"\n      }\n    }\n  ]\n}"
            }
          },
          "metadata": {},
          "execution_count": 27
        }
      ]
    },
    {
      "cell_type": "code",
      "source": [
        "# Descripción variables features.\n",
        "Xtrain.describe().T"
      ],
      "metadata": {
        "id": "QGJTjTrSk9qU",
        "colab": {
          "base_uri": "https://localhost:8080/",
          "height": 269
        },
        "outputId": "9d6a797d-c933-4c65-9383-93aa82490e3e"
      },
      "execution_count": null,
      "outputs": [
        {
          "output_type": "execute_result",
          "data": {
            "text/plain": [
              "                  count           mean           std      min        25%  \\\n",
              "Page total likes  300.0  123511.376667  16211.773474  81370.0  113028.00   \n",
              "Type              300.0       1.216667      0.580959      1.0       1.00   \n",
              "Category          300.0       1.896667      0.849546      1.0       1.00   \n",
              "Post Month        300.0       7.106667      3.306316      1.0       4.00   \n",
              "Post Weekday      300.0       4.180000      2.015226      1.0       2.75   \n",
              "Post Hour         300.0       7.546667      4.348662      1.0       3.00   \n",
              "Paid              299.0       0.290970      0.454971      0.0       0.00   \n",
              "\n",
              "                       50%       75%       max  \n",
              "Page total likes  130195.5  136393.0  139441.0  \n",
              "Type                   1.0       1.0       4.0  \n",
              "Category               2.0       3.0       3.0  \n",
              "Post Month             7.0      10.0      12.0  \n",
              "Post Weekday           4.0       6.0       7.0  \n",
              "Post Hour              8.0      11.0      22.0  \n",
              "Paid                   0.0       1.0       1.0  "
            ],
            "text/html": [
              "\n",
              "  <div id=\"df-61e36fda-4a00-435f-9b65-95fd3771f890\" class=\"colab-df-container\">\n",
              "    <div>\n",
              "<style scoped>\n",
              "    .dataframe tbody tr th:only-of-type {\n",
              "        vertical-align: middle;\n",
              "    }\n",
              "\n",
              "    .dataframe tbody tr th {\n",
              "        vertical-align: top;\n",
              "    }\n",
              "\n",
              "    .dataframe thead th {\n",
              "        text-align: right;\n",
              "    }\n",
              "</style>\n",
              "<table border=\"1\" class=\"dataframe\">\n",
              "  <thead>\n",
              "    <tr style=\"text-align: right;\">\n",
              "      <th></th>\n",
              "      <th>count</th>\n",
              "      <th>mean</th>\n",
              "      <th>std</th>\n",
              "      <th>min</th>\n",
              "      <th>25%</th>\n",
              "      <th>50%</th>\n",
              "      <th>75%</th>\n",
              "      <th>max</th>\n",
              "    </tr>\n",
              "  </thead>\n",
              "  <tbody>\n",
              "    <tr>\n",
              "      <th>Page total likes</th>\n",
              "      <td>300.0</td>\n",
              "      <td>123511.376667</td>\n",
              "      <td>16211.773474</td>\n",
              "      <td>81370.0</td>\n",
              "      <td>113028.00</td>\n",
              "      <td>130195.5</td>\n",
              "      <td>136393.0</td>\n",
              "      <td>139441.0</td>\n",
              "    </tr>\n",
              "    <tr>\n",
              "      <th>Type</th>\n",
              "      <td>300.0</td>\n",
              "      <td>1.216667</td>\n",
              "      <td>0.580959</td>\n",
              "      <td>1.0</td>\n",
              "      <td>1.00</td>\n",
              "      <td>1.0</td>\n",
              "      <td>1.0</td>\n",
              "      <td>4.0</td>\n",
              "    </tr>\n",
              "    <tr>\n",
              "      <th>Category</th>\n",
              "      <td>300.0</td>\n",
              "      <td>1.896667</td>\n",
              "      <td>0.849546</td>\n",
              "      <td>1.0</td>\n",
              "      <td>1.00</td>\n",
              "      <td>2.0</td>\n",
              "      <td>3.0</td>\n",
              "      <td>3.0</td>\n",
              "    </tr>\n",
              "    <tr>\n",
              "      <th>Post Month</th>\n",
              "      <td>300.0</td>\n",
              "      <td>7.106667</td>\n",
              "      <td>3.306316</td>\n",
              "      <td>1.0</td>\n",
              "      <td>4.00</td>\n",
              "      <td>7.0</td>\n",
              "      <td>10.0</td>\n",
              "      <td>12.0</td>\n",
              "    </tr>\n",
              "    <tr>\n",
              "      <th>Post Weekday</th>\n",
              "      <td>300.0</td>\n",
              "      <td>4.180000</td>\n",
              "      <td>2.015226</td>\n",
              "      <td>1.0</td>\n",
              "      <td>2.75</td>\n",
              "      <td>4.0</td>\n",
              "      <td>6.0</td>\n",
              "      <td>7.0</td>\n",
              "    </tr>\n",
              "    <tr>\n",
              "      <th>Post Hour</th>\n",
              "      <td>300.0</td>\n",
              "      <td>7.546667</td>\n",
              "      <td>4.348662</td>\n",
              "      <td>1.0</td>\n",
              "      <td>3.00</td>\n",
              "      <td>8.0</td>\n",
              "      <td>11.0</td>\n",
              "      <td>22.0</td>\n",
              "    </tr>\n",
              "    <tr>\n",
              "      <th>Paid</th>\n",
              "      <td>299.0</td>\n",
              "      <td>0.290970</td>\n",
              "      <td>0.454971</td>\n",
              "      <td>0.0</td>\n",
              "      <td>0.00</td>\n",
              "      <td>0.0</td>\n",
              "      <td>1.0</td>\n",
              "      <td>1.0</td>\n",
              "    </tr>\n",
              "  </tbody>\n",
              "</table>\n",
              "</div>\n",
              "    <div class=\"colab-df-buttons\">\n",
              "\n",
              "  <div class=\"colab-df-container\">\n",
              "    <button class=\"colab-df-convert\" onclick=\"convertToInteractive('df-61e36fda-4a00-435f-9b65-95fd3771f890')\"\n",
              "            title=\"Convert this dataframe to an interactive table.\"\n",
              "            style=\"display:none;\">\n",
              "\n",
              "  <svg xmlns=\"http://www.w3.org/2000/svg\" height=\"24px\" viewBox=\"0 -960 960 960\">\n",
              "    <path d=\"M120-120v-720h720v720H120Zm60-500h600v-160H180v160Zm220 220h160v-160H400v160Zm0 220h160v-160H400v160ZM180-400h160v-160H180v160Zm440 0h160v-160H620v160ZM180-180h160v-160H180v160Zm440 0h160v-160H620v160Z\"/>\n",
              "  </svg>\n",
              "    </button>\n",
              "\n",
              "  <style>\n",
              "    .colab-df-container {\n",
              "      display:flex;\n",
              "      gap: 12px;\n",
              "    }\n",
              "\n",
              "    .colab-df-convert {\n",
              "      background-color: #E8F0FE;\n",
              "      border: none;\n",
              "      border-radius: 50%;\n",
              "      cursor: pointer;\n",
              "      display: none;\n",
              "      fill: #1967D2;\n",
              "      height: 32px;\n",
              "      padding: 0 0 0 0;\n",
              "      width: 32px;\n",
              "    }\n",
              "\n",
              "    .colab-df-convert:hover {\n",
              "      background-color: #E2EBFA;\n",
              "      box-shadow: 0px 1px 2px rgba(60, 64, 67, 0.3), 0px 1px 3px 1px rgba(60, 64, 67, 0.15);\n",
              "      fill: #174EA6;\n",
              "    }\n",
              "\n",
              "    .colab-df-buttons div {\n",
              "      margin-bottom: 4px;\n",
              "    }\n",
              "\n",
              "    [theme=dark] .colab-df-convert {\n",
              "      background-color: #3B4455;\n",
              "      fill: #D2E3FC;\n",
              "    }\n",
              "\n",
              "    [theme=dark] .colab-df-convert:hover {\n",
              "      background-color: #434B5C;\n",
              "      box-shadow: 0px 1px 3px 1px rgba(0, 0, 0, 0.15);\n",
              "      filter: drop-shadow(0px 1px 2px rgba(0, 0, 0, 0.3));\n",
              "      fill: #FFFFFF;\n",
              "    }\n",
              "  </style>\n",
              "\n",
              "    <script>\n",
              "      const buttonEl =\n",
              "        document.querySelector('#df-61e36fda-4a00-435f-9b65-95fd3771f890 button.colab-df-convert');\n",
              "      buttonEl.style.display =\n",
              "        google.colab.kernel.accessAllowed ? 'block' : 'none';\n",
              "\n",
              "      async function convertToInteractive(key) {\n",
              "        const element = document.querySelector('#df-61e36fda-4a00-435f-9b65-95fd3771f890');\n",
              "        const dataTable =\n",
              "          await google.colab.kernel.invokeFunction('convertToInteractive',\n",
              "                                                    [key], {});\n",
              "        if (!dataTable) return;\n",
              "\n",
              "        const docLinkHtml = 'Like what you see? Visit the ' +\n",
              "          '<a target=\"_blank\" href=https://colab.research.google.com/notebooks/data_table.ipynb>data table notebook</a>'\n",
              "          + ' to learn more about interactive tables.';\n",
              "        element.innerHTML = '';\n",
              "        dataTable['output_type'] = 'display_data';\n",
              "        await google.colab.output.renderOutput(dataTable, element);\n",
              "        const docLink = document.createElement('div');\n",
              "        docLink.innerHTML = docLinkHtml;\n",
              "        element.appendChild(docLink);\n",
              "      }\n",
              "    </script>\n",
              "  </div>\n",
              "\n",
              "\n",
              "<div id=\"df-af8cf4e2-d039-4d86-8fe3-4edac8b3708a\">\n",
              "  <button class=\"colab-df-quickchart\" onclick=\"quickchart('df-af8cf4e2-d039-4d86-8fe3-4edac8b3708a')\"\n",
              "            title=\"Suggest charts\"\n",
              "            style=\"display:none;\">\n",
              "\n",
              "<svg xmlns=\"http://www.w3.org/2000/svg\" height=\"24px\"viewBox=\"0 0 24 24\"\n",
              "     width=\"24px\">\n",
              "    <g>\n",
              "        <path d=\"M19 3H5c-1.1 0-2 .9-2 2v14c0 1.1.9 2 2 2h14c1.1 0 2-.9 2-2V5c0-1.1-.9-2-2-2zM9 17H7v-7h2v7zm4 0h-2V7h2v10zm4 0h-2v-4h2v4z\"/>\n",
              "    </g>\n",
              "</svg>\n",
              "  </button>\n",
              "\n",
              "<style>\n",
              "  .colab-df-quickchart {\n",
              "      --bg-color: #E8F0FE;\n",
              "      --fill-color: #1967D2;\n",
              "      --hover-bg-color: #E2EBFA;\n",
              "      --hover-fill-color: #174EA6;\n",
              "      --disabled-fill-color: #AAA;\n",
              "      --disabled-bg-color: #DDD;\n",
              "  }\n",
              "\n",
              "  [theme=dark] .colab-df-quickchart {\n",
              "      --bg-color: #3B4455;\n",
              "      --fill-color: #D2E3FC;\n",
              "      --hover-bg-color: #434B5C;\n",
              "      --hover-fill-color: #FFFFFF;\n",
              "      --disabled-bg-color: #3B4455;\n",
              "      --disabled-fill-color: #666;\n",
              "  }\n",
              "\n",
              "  .colab-df-quickchart {\n",
              "    background-color: var(--bg-color);\n",
              "    border: none;\n",
              "    border-radius: 50%;\n",
              "    cursor: pointer;\n",
              "    display: none;\n",
              "    fill: var(--fill-color);\n",
              "    height: 32px;\n",
              "    padding: 0;\n",
              "    width: 32px;\n",
              "  }\n",
              "\n",
              "  .colab-df-quickchart:hover {\n",
              "    background-color: var(--hover-bg-color);\n",
              "    box-shadow: 0 1px 2px rgba(60, 64, 67, 0.3), 0 1px 3px 1px rgba(60, 64, 67, 0.15);\n",
              "    fill: var(--button-hover-fill-color);\n",
              "  }\n",
              "\n",
              "  .colab-df-quickchart-complete:disabled,\n",
              "  .colab-df-quickchart-complete:disabled:hover {\n",
              "    background-color: var(--disabled-bg-color);\n",
              "    fill: var(--disabled-fill-color);\n",
              "    box-shadow: none;\n",
              "  }\n",
              "\n",
              "  .colab-df-spinner {\n",
              "    border: 2px solid var(--fill-color);\n",
              "    border-color: transparent;\n",
              "    border-bottom-color: var(--fill-color);\n",
              "    animation:\n",
              "      spin 1s steps(1) infinite;\n",
              "  }\n",
              "\n",
              "  @keyframes spin {\n",
              "    0% {\n",
              "      border-color: transparent;\n",
              "      border-bottom-color: var(--fill-color);\n",
              "      border-left-color: var(--fill-color);\n",
              "    }\n",
              "    20% {\n",
              "      border-color: transparent;\n",
              "      border-left-color: var(--fill-color);\n",
              "      border-top-color: var(--fill-color);\n",
              "    }\n",
              "    30% {\n",
              "      border-color: transparent;\n",
              "      border-left-color: var(--fill-color);\n",
              "      border-top-color: var(--fill-color);\n",
              "      border-right-color: var(--fill-color);\n",
              "    }\n",
              "    40% {\n",
              "      border-color: transparent;\n",
              "      border-right-color: var(--fill-color);\n",
              "      border-top-color: var(--fill-color);\n",
              "    }\n",
              "    60% {\n",
              "      border-color: transparent;\n",
              "      border-right-color: var(--fill-color);\n",
              "    }\n",
              "    80% {\n",
              "      border-color: transparent;\n",
              "      border-right-color: var(--fill-color);\n",
              "      border-bottom-color: var(--fill-color);\n",
              "    }\n",
              "    90% {\n",
              "      border-color: transparent;\n",
              "      border-bottom-color: var(--fill-color);\n",
              "    }\n",
              "  }\n",
              "</style>\n",
              "\n",
              "  <script>\n",
              "    async function quickchart(key) {\n",
              "      const quickchartButtonEl =\n",
              "        document.querySelector('#' + key + ' button');\n",
              "      quickchartButtonEl.disabled = true;  // To prevent multiple clicks.\n",
              "      quickchartButtonEl.classList.add('colab-df-spinner');\n",
              "      try {\n",
              "        const charts = await google.colab.kernel.invokeFunction(\n",
              "            'suggestCharts', [key], {});\n",
              "      } catch (error) {\n",
              "        console.error('Error during call to suggestCharts:', error);\n",
              "      }\n",
              "      quickchartButtonEl.classList.remove('colab-df-spinner');\n",
              "      quickchartButtonEl.classList.add('colab-df-quickchart-complete');\n",
              "    }\n",
              "    (() => {\n",
              "      let quickchartButtonEl =\n",
              "        document.querySelector('#df-af8cf4e2-d039-4d86-8fe3-4edac8b3708a button');\n",
              "      quickchartButtonEl.style.display =\n",
              "        google.colab.kernel.accessAllowed ? 'block' : 'none';\n",
              "    })();\n",
              "  </script>\n",
              "</div>\n",
              "    </div>\n",
              "  </div>\n"
            ],
            "application/vnd.google.colaboratory.intrinsic+json": {
              "type": "dataframe",
              "summary": "{\n  \"name\": \"Xtrain\",\n  \"rows\": 7,\n  \"fields\": [\n    {\n      \"column\": \"count\",\n      \"properties\": {\n        \"dtype\": \"number\",\n        \"std\": 0.3779644730092272,\n        \"min\": 299.0,\n        \"max\": 300.0,\n        \"num_unique_values\": 2,\n        \"samples\": [\n          299.0,\n          300.0\n        ],\n        \"semantic_type\": \"\",\n        \"description\": \"\"\n      }\n    },\n    {\n      \"column\": \"mean\",\n      \"properties\": {\n        \"dtype\": \"number\",\n        \"std\": 46681.51163813285,\n        \"min\": 0.2909698996655518,\n        \"max\": 123511.37666666666,\n        \"num_unique_values\": 7,\n        \"samples\": [\n          123511.37666666666,\n          1.2166666666666666\n        ],\n        \"semantic_type\": \"\",\n        \"description\": \"\"\n      }\n    },\n    {\n      \"column\": \"std\",\n      \"properties\": {\n        \"dtype\": \"number\",\n        \"std\": 6126.74665391166,\n        \"min\": 0.4549711205861747,\n        \"max\": 16211.77347419825,\n        \"num_unique_values\": 7,\n        \"samples\": [\n          16211.77347419825,\n          0.5809594954383844\n        ],\n        \"semantic_type\": \"\",\n        \"description\": \"\"\n      }\n    },\n    {\n      \"column\": \"min\",\n      \"properties\": {\n        \"dtype\": \"number\",\n        \"std\": 30754.65420062466,\n        \"min\": 0.0,\n        \"max\": 81370.0,\n        \"num_unique_values\": 3,\n        \"samples\": [\n          81370.0,\n          1.0\n        ],\n        \"semantic_type\": \"\",\n        \"description\": \"\"\n      }\n    },\n    {\n      \"column\": \"25%\",\n      \"properties\": {\n        \"dtype\": \"number\",\n        \"std\": 42719.828297395215,\n        \"min\": 0.0,\n        \"max\": 113028.0,\n        \"num_unique_values\": 6,\n        \"samples\": [\n          113028.0,\n          1.0\n        ],\n        \"semantic_type\": \"\",\n        \"description\": \"\"\n      }\n    },\n    {\n      \"column\": \"50%\",\n      \"properties\": {\n        \"dtype\": \"number\",\n        \"std\": 49207.88776625823,\n        \"min\": 0.0,\n        \"max\": 130195.5,\n        \"num_unique_values\": 7,\n        \"samples\": [\n          130195.5,\n          1.0\n        ],\n        \"semantic_type\": \"\",\n        \"description\": \"\"\n      }\n    },\n    {\n      \"column\": \"75%\",\n      \"properties\": {\n        \"dtype\": \"number\",\n        \"std\": 51549.6927139703,\n        \"min\": 1.0,\n        \"max\": 136393.0,\n        \"num_unique_values\": 6,\n        \"samples\": [\n          136393.0,\n          1.0\n        ],\n        \"semantic_type\": \"\",\n        \"description\": \"\"\n      }\n    },\n    {\n      \"column\": \"max\",\n      \"properties\": {\n        \"dtype\": \"number\",\n        \"std\": 52700.65784987436,\n        \"min\": 1.0,\n        \"max\": 139441.0,\n        \"num_unique_values\": 7,\n        \"samples\": [\n          139441.0,\n          4.0\n        ],\n        \"semantic_type\": \"\",\n        \"description\": \"\"\n      }\n    }\n  ]\n}"
            }
          },
          "metadata": {},
          "execution_count": 28
        }
      ]
    },
    {
      "cell_type": "code",
      "source": [
        "# Descripción variable objetivo.\n",
        "ytrain.describe().T"
      ],
      "metadata": {
        "id": "-T2adW4ElGQN",
        "colab": {
          "base_uri": "https://localhost:8080/",
          "height": 81
        },
        "outputId": "69a68088-6640-4498-dbad-dfff4016de95"
      },
      "execution_count": null,
      "outputs": [
        {
          "output_type": "execute_result",
          "data": {
            "text/plain": [
              "                         count        mean          std  min     25%    50%  \\\n",
              "Lifetime Post Consumers  300.0  827.986667  1009.102992  9.0  321.25  543.5   \n",
              "\n",
              "                             75%      max  \n",
              "Lifetime Post Consumers  1008.75  11328.0  "
            ],
            "text/html": [
              "\n",
              "  <div id=\"df-28a79fc1-74f6-41b0-a481-119e7fc517aa\" class=\"colab-df-container\">\n",
              "    <div>\n",
              "<style scoped>\n",
              "    .dataframe tbody tr th:only-of-type {\n",
              "        vertical-align: middle;\n",
              "    }\n",
              "\n",
              "    .dataframe tbody tr th {\n",
              "        vertical-align: top;\n",
              "    }\n",
              "\n",
              "    .dataframe thead th {\n",
              "        text-align: right;\n",
              "    }\n",
              "</style>\n",
              "<table border=\"1\" class=\"dataframe\">\n",
              "  <thead>\n",
              "    <tr style=\"text-align: right;\">\n",
              "      <th></th>\n",
              "      <th>count</th>\n",
              "      <th>mean</th>\n",
              "      <th>std</th>\n",
              "      <th>min</th>\n",
              "      <th>25%</th>\n",
              "      <th>50%</th>\n",
              "      <th>75%</th>\n",
              "      <th>max</th>\n",
              "    </tr>\n",
              "  </thead>\n",
              "  <tbody>\n",
              "    <tr>\n",
              "      <th>Lifetime Post Consumers</th>\n",
              "      <td>300.0</td>\n",
              "      <td>827.986667</td>\n",
              "      <td>1009.102992</td>\n",
              "      <td>9.0</td>\n",
              "      <td>321.25</td>\n",
              "      <td>543.5</td>\n",
              "      <td>1008.75</td>\n",
              "      <td>11328.0</td>\n",
              "    </tr>\n",
              "  </tbody>\n",
              "</table>\n",
              "</div>\n",
              "    <div class=\"colab-df-buttons\">\n",
              "\n",
              "  <div class=\"colab-df-container\">\n",
              "    <button class=\"colab-df-convert\" onclick=\"convertToInteractive('df-28a79fc1-74f6-41b0-a481-119e7fc517aa')\"\n",
              "            title=\"Convert this dataframe to an interactive table.\"\n",
              "            style=\"display:none;\">\n",
              "\n",
              "  <svg xmlns=\"http://www.w3.org/2000/svg\" height=\"24px\" viewBox=\"0 -960 960 960\">\n",
              "    <path d=\"M120-120v-720h720v720H120Zm60-500h600v-160H180v160Zm220 220h160v-160H400v160Zm0 220h160v-160H400v160ZM180-400h160v-160H180v160Zm440 0h160v-160H620v160ZM180-180h160v-160H180v160Zm440 0h160v-160H620v160Z\"/>\n",
              "  </svg>\n",
              "    </button>\n",
              "\n",
              "  <style>\n",
              "    .colab-df-container {\n",
              "      display:flex;\n",
              "      gap: 12px;\n",
              "    }\n",
              "\n",
              "    .colab-df-convert {\n",
              "      background-color: #E8F0FE;\n",
              "      border: none;\n",
              "      border-radius: 50%;\n",
              "      cursor: pointer;\n",
              "      display: none;\n",
              "      fill: #1967D2;\n",
              "      height: 32px;\n",
              "      padding: 0 0 0 0;\n",
              "      width: 32px;\n",
              "    }\n",
              "\n",
              "    .colab-df-convert:hover {\n",
              "      background-color: #E2EBFA;\n",
              "      box-shadow: 0px 1px 2px rgba(60, 64, 67, 0.3), 0px 1px 3px 1px rgba(60, 64, 67, 0.15);\n",
              "      fill: #174EA6;\n",
              "    }\n",
              "\n",
              "    .colab-df-buttons div {\n",
              "      margin-bottom: 4px;\n",
              "    }\n",
              "\n",
              "    [theme=dark] .colab-df-convert {\n",
              "      background-color: #3B4455;\n",
              "      fill: #D2E3FC;\n",
              "    }\n",
              "\n",
              "    [theme=dark] .colab-df-convert:hover {\n",
              "      background-color: #434B5C;\n",
              "      box-shadow: 0px 1px 3px 1px rgba(0, 0, 0, 0.15);\n",
              "      filter: drop-shadow(0px 1px 2px rgba(0, 0, 0, 0.3));\n",
              "      fill: #FFFFFF;\n",
              "    }\n",
              "  </style>\n",
              "\n",
              "    <script>\n",
              "      const buttonEl =\n",
              "        document.querySelector('#df-28a79fc1-74f6-41b0-a481-119e7fc517aa button.colab-df-convert');\n",
              "      buttonEl.style.display =\n",
              "        google.colab.kernel.accessAllowed ? 'block' : 'none';\n",
              "\n",
              "      async function convertToInteractive(key) {\n",
              "        const element = document.querySelector('#df-28a79fc1-74f6-41b0-a481-119e7fc517aa');\n",
              "        const dataTable =\n",
              "          await google.colab.kernel.invokeFunction('convertToInteractive',\n",
              "                                                    [key], {});\n",
              "        if (!dataTable) return;\n",
              "\n",
              "        const docLinkHtml = 'Like what you see? Visit the ' +\n",
              "          '<a target=\"_blank\" href=https://colab.research.google.com/notebooks/data_table.ipynb>data table notebook</a>'\n",
              "          + ' to learn more about interactive tables.';\n",
              "        element.innerHTML = '';\n",
              "        dataTable['output_type'] = 'display_data';\n",
              "        await google.colab.output.renderOutput(dataTable, element);\n",
              "        const docLink = document.createElement('div');\n",
              "        docLink.innerHTML = docLinkHtml;\n",
              "        element.appendChild(docLink);\n",
              "      }\n",
              "    </script>\n",
              "  </div>\n",
              "\n",
              "    </div>\n",
              "  </div>\n"
            ],
            "application/vnd.google.colaboratory.intrinsic+json": {
              "type": "dataframe",
              "summary": "{\n  \"name\": \"ytrain\",\n  \"rows\": 1,\n  \"fields\": [\n    {\n      \"column\": \"count\",\n      \"properties\": {\n        \"dtype\": \"number\",\n        \"std\": null,\n        \"min\": 300.0,\n        \"max\": 300.0,\n        \"num_unique_values\": 1,\n        \"samples\": [\n          300.0\n        ],\n        \"semantic_type\": \"\",\n        \"description\": \"\"\n      }\n    },\n    {\n      \"column\": \"mean\",\n      \"properties\": {\n        \"dtype\": \"number\",\n        \"std\": null,\n        \"min\": 827.9866666666667,\n        \"max\": 827.9866666666667,\n        \"num_unique_values\": 1,\n        \"samples\": [\n          827.9866666666667\n        ],\n        \"semantic_type\": \"\",\n        \"description\": \"\"\n      }\n    },\n    {\n      \"column\": \"std\",\n      \"properties\": {\n        \"dtype\": \"number\",\n        \"std\": null,\n        \"min\": 1009.102992424438,\n        \"max\": 1009.102992424438,\n        \"num_unique_values\": 1,\n        \"samples\": [\n          1009.102992424438\n        ],\n        \"semantic_type\": \"\",\n        \"description\": \"\"\n      }\n    },\n    {\n      \"column\": \"min\",\n      \"properties\": {\n        \"dtype\": \"number\",\n        \"std\": null,\n        \"min\": 9.0,\n        \"max\": 9.0,\n        \"num_unique_values\": 1,\n        \"samples\": [\n          9.0\n        ],\n        \"semantic_type\": \"\",\n        \"description\": \"\"\n      }\n    },\n    {\n      \"column\": \"25%\",\n      \"properties\": {\n        \"dtype\": \"number\",\n        \"std\": null,\n        \"min\": 321.25,\n        \"max\": 321.25,\n        \"num_unique_values\": 1,\n        \"samples\": [\n          321.25\n        ],\n        \"semantic_type\": \"\",\n        \"description\": \"\"\n      }\n    },\n    {\n      \"column\": \"50%\",\n      \"properties\": {\n        \"dtype\": \"number\",\n        \"std\": null,\n        \"min\": 543.5,\n        \"max\": 543.5,\n        \"num_unique_values\": 1,\n        \"samples\": [\n          543.5\n        ],\n        \"semantic_type\": \"\",\n        \"description\": \"\"\n      }\n    },\n    {\n      \"column\": \"75%\",\n      \"properties\": {\n        \"dtype\": \"number\",\n        \"std\": null,\n        \"min\": 1008.75,\n        \"max\": 1008.75,\n        \"num_unique_values\": 1,\n        \"samples\": [\n          1008.75\n        ],\n        \"semantic_type\": \"\",\n        \"description\": \"\"\n      }\n    },\n    {\n      \"column\": \"max\",\n      \"properties\": {\n        \"dtype\": \"number\",\n        \"std\": null,\n        \"min\": 11328.0,\n        \"max\": 11328.0,\n        \"num_unique_values\": 1,\n        \"samples\": [\n          11328.0\n        ],\n        \"semantic_type\": \"\",\n        \"description\": \"\"\n      }\n    }\n  ]\n}"
            }
          },
          "metadata": {},
          "execution_count": 29
        }
      ]
    },
    {
      "cell_type": "code",
      "source": [
        "ytrainlog = np.log(ytrain)   # La variable de salida en un problema de Regresión\n",
        "ytrainlog.hist();            # se recomienda que esté aproximadamente acampanada,\n",
        "                             # por lo que se ajustará con el logaritmo natural\n",
        "                             # como primera aproximación."
      ],
      "metadata": {
        "id": "dl3MRrQ9cEeb",
        "colab": {
          "base_uri": "https://localhost:8080/",
          "height": 452
        },
        "outputId": "a14bca01-4dc4-4564-aa0c-b65db2412cb5"
      },
      "execution_count": null,
      "outputs": [
        {
          "output_type": "display_data",
          "data": {
            "text/plain": [
              "<Figure size 640x480 with 1 Axes>"
            ],
            "image/png": "[encoded data removed]"
          },
          "metadata": {}
        }
      ]
    },
    {
      "cell_type": "code",
      "source": [
        "# Se procede de la misma manera con val y test.\n",
        "yvallog = np.log(yval)\n",
        "ytestlog = np.log(ytest)"
      ],
      "metadata": {
        "id": "R9AEIQJTiEVE"
      },
      "execution_count": null,
      "outputs": []
    },
    {
      "cell_type": "code",
      "source": [
        "# Se aplica lo mínimo de transformaciones, en particular para datos perdidos.\n",
        "# Imputación de datos faltantes.\n",
        "\n",
        "# Variables Numéricas - - - - - - - - - - - - - - - - - - - - - - - - - - - - -\n",
        "# Como solo hay una variable numérica, se deja sin escalar.\n",
        "num_pipe = Pipeline(steps = [('numImp', SimpleImputer(strategy = 'median')),\n",
        "                             ])\n",
        "num_pipe_nombres = [0]   # ['Page total likes']\n",
        "\n",
        "\n",
        "# Variables Ordinales - - - - - - - - - - - - - - - - - - - - - - - - - - - - -\n",
        "# Las variables ordinales se identifican como tales.\n",
        "ord_pipe = Pipeline(steps =  [('OrdImp', SimpleImputer(strategy = 'most_frequent')),\n",
        "                              ('Ordfun', OrdinalEncoder(handle_unknown = 'use_encoded_value', unknown_value = -1 ))\n",
        "                              ])\n",
        "ord_pipe_nombres = [3, 4, 5]   # ['Post Month', 'Post Weekday', 'Post Hour']\n",
        "\n",
        "\n",
        "# Variables Nominales - - - - - - - - - - - - - - - - - - - - - - - - - - - - -\n",
        "# Las variables nominales se transforman con One-Hot-Encoder.\n",
        "nom_pipe = Pipeline(steps = [('ohe', OneHotEncoder(drop = 'first',\n",
        "                                                   handle_unknown = 'ignore',\n",
        "                                                   ))])\n",
        "nom_pipe_nombres = [1, 2, 6]   # ['Type', 'Category', 'Paid']\n",
        "\n",
        "\n",
        "# Conjunto de Transformaciones - - - - - - - - - - - - - - - - - - - - - - - - -\n",
        "# Se conjuntan las transformaciones a aplicar.\n",
        "columnasTransformer = ColumnTransformer(transformers = [('numpow', num_pipe, num_pipe_nombres),\n",
        "                                                        ('catOrd', ord_pipe, ord_pipe_nombres),\n",
        "                                                        ('catNom', nom_pipe, nom_pipe_nombres)\n",
        "                                                        ],\n",
        "                                        remainder = 'passthrough')\n",
        "\n",
        "\n",
        "# Ajuste y Transformación - - - - - - - - - - - - - - - - - - - - - - - - - - -\n",
        "# Ajuste en Train y transformación en Val y Test.\n",
        "XtrainFit = columnasTransformer.fit(Xtrain)\n",
        "XtrainT = XtrainFit.transform(Xtrain)\n",
        "XvalT  =  XtrainFit.transform(Xval)\n",
        "XtestT  =  XtrainFit.transform(Xtest)"
      ],
      "metadata": {
        "id": "XmT5gvLjpu4J"
      },
      "execution_count": null,
      "outputs": []
    },
    {
      "cell_type": "code",
      "source": [
        "# El valor de RMSE (Root-Mean-Square-Error), se utiliza para medir el desempeño\n",
        "# mínimo que debiera obtener un modelo de regresión, es decir, este valor\n",
        "# se toma usualmente como el valor del modelo subentrenado y se compara generalmente\n",
        "# con el valor de la desviación estándar de la variable de salida, ya sea que se\n",
        "# esté tomando de manera original o con los datos transformados.\n",
        "\n",
        "# Se muestran ambos valores.\n",
        "print('Desv-Est y-original: %.3f' % ytrain.values.std())\n",
        "print('Desv-Est y-logaritmo: %.3f' % ytrainlog.values.std())"
      ],
      "metadata": {
        "id": "yPTioK_D2z9p",
        "colab": {
          "base_uri": "https://localhost:8080/"
        },
        "outputId": "c388abf5-2f9e-4c88-d81d-7dd3802d471b"
      },
      "execution_count": null,
      "outputs": [
        {
          "output_type": "stream",
          "name": "stdout",
          "text": [
            "Desv-Est y-original: 1007.420\n",
            "Desv-Est y-logaritmo: 0.906\n"
          ]
        }
      ]
    },
    {
      "cell_type": "markdown",
      "source": [
        "## **Ejercicio 3**\n"
      ],
      "metadata": {
        "id": "a4Ka79ZTyM0_"
      }
    },
    {
      "cell_type": "code",
      "source": [
        "# Al ejecutar las siguientes líneas de código se determina si el modelo de\n",
        "# Bosque Aleatorio con sus valores de hiperparámetros predeterminados está\n",
        "# Subentrenado o Sobreentrenado. De ser así, se buscan los valores de sus\n",
        "# hiperparámetros que se consideran más adecuados para que ya no\n",
        "# esté sub-o-sobreentrenado.\n",
        "\n",
        "\n",
        "elmodelo_RF = RandomForestRegressor(max_depth = 2, min_samples_leaf = 2, min_samples_split = 4, n_estimators = 150)\n",
        "\n",
        "\n",
        "mipipe = Pipeline(steps = [('ct',columnasTransformer),('m', elmodelo_RF)])\n",
        "\n",
        "train_sizes, train_scores, val_scores = learning_curve(estimator = mipipe,\n",
        "                                                        X = XtrainT,\n",
        "                                                        y = np.ravel(ytrainlog),\n",
        "                                                        cv = 5,\n",
        "                                                        train_sizes = np.linspace(0.1, 1.0, 10),\n",
        "                                                        scoring = 'neg_mean_squared_error',  # Error MSE\n",
        "                                                        n_jobs = -1)\n",
        "\n",
        "\n",
        "\n",
        "# Se calculan los promedios y desviación estándar de entrenamiento para RMSE,\n",
        "# como se tienen los de MSE, se obtiene su raíz cuadrada. El negativo es porque\n",
        "# sklearn devuelve en realidad el negativo del Error Cuadrático Medio MSE.\n",
        "\n",
        "rmse_train_scores = np.sqrt(-train_scores)\n",
        "rmse_val_scores = np.sqrt(-val_scores)\n",
        "\n",
        "train_mean = np.mean(rmse_train_scores, axis = 1)\n",
        "train_std = np.std(rmse_train_scores, axis = 1)\n",
        "val_mean = np.mean(rmse_val_scores, axis = 1)\n",
        "val_std = np.std(rmse_val_scores, axis = 1)\n",
        "\n",
        "\n",
        "plt.plot(train_sizes, train_mean, color = 'blue', marker = 'o', markersize = 5, label = 'Training RMSE')\n",
        "plt.fill_between(train_sizes, train_mean + train_std, train_mean - train_std, alpha = 0.15, color = 'blue')\n",
        "\n",
        "plt.plot(train_sizes, val_mean, color = 'green', marker = '+', markersize = 5, linestyle = '--', label = 'Validation RMSE')\n",
        "plt.fill_between(train_sizes, val_mean + val_std, val_mean - val_std, alpha = 0.15, color = 'green')\n",
        "\n",
        "plt.title('Learning Curve Random Forest')\n",
        "plt.xlabel('Training Data Size')\n",
        "plt.ylabel('Error RMSE')\n",
        "plt.grid()\n",
        "plt.legend(loc = 'lower right')\n",
        "plt.show()\n"
      ],
      "metadata": {
        "id": "oXpqwlS6lnSS",
        "colab": {
          "base_uri": "https://localhost:8080/",
          "height": 472
        },
        "outputId": "880e6478-4c06-463f-c8b8-60b4f112e107"
      },
      "execution_count": null,
      "outputs": [
        {
          "output_type": "display_data",
          "data": {
            "text/plain": [
              "<Figure size 640x480 with 1 Axes>"
            ],
            "image/png": "[encoded data removed]"
          },
          "metadata": {}
        }
      ]
    },
    {
      "cell_type": "code",
      "source": [
        "# Una vez verificado que no está sobreentrenado o subentrenado el modelo,\n",
        "# se pude calcular el RMSE del mejor ajuste con los datos de Prueba.\n",
        "# Se incluyen los valores de los mejores hiperparámetros encontrados del RandomForest.\n",
        "\n",
        "# Modelo RandomForest\n",
        "elmodelo_RF = RandomForestRegressor(max_depth = 2, min_samples_leaf = 2, min_samples_split = 4, n_estimators = 150)\n",
        "\n",
        "# Entrenamiento y predicciones del modelo.\n",
        "mipipe = Pipeline(steps = [('ct',columnasTransformer),('m', elmodelo_RF)])\n",
        "mipipe.fit(Xtrain, np.ravel(ytrainlog))\n",
        "yhattest_RF = mipipe.predict(Xtest)\n",
        "\n",
        "# Mostrar Resultados.\n",
        "print('Error RSME(Test) de Random Forest: %.3f' % np.sqrt(mean_squared_error(np.ravel(ytestlog), yhattest_RF)))"
      ],
      "metadata": {
        "id": "5yEGf3-ft3cO",
        "colab": {
          "base_uri": "https://localhost:8080/"
        },
        "outputId": "9dcd0134-c14e-45c4-8a0e-e0747b50056d"
      },
      "execution_count": null,
      "outputs": [
        {
          "output_type": "stream",
          "name": "stdout",
          "text": [
            "Error RSME(Test) de Random Forest: 0.750\n"
          ]
        }
      ]
    },
    {
      "cell_type": "markdown",
      "source": [
        "## **Ejercicio 4**"
      ],
      "metadata": {
        "id": "HKwEq8z-zS7G"
      }
    },
    {
      "cell_type": "markdown",
      "source": [
        "### **Se repite el mismo proceso del Ejercicio 3, anterior, para obtener los hiperparámetros que lleven a casos de modelos no subentrenados o sobreentrenaos, en cada uno de los siguientes casos:**\n",
        "\n",
        "*   **a. Extreme Gradient Boost XGBoost**\n",
        "*   **b. Máquina de Vector Soporte SVM**\n",
        "*   **c. Red Neuronal Perceptrón Multicapa MLP**"
      ],
      "metadata": {
        "id": "hLd2iTBMzZ93"
      }
    },
    {
      "cell_type": "markdown",
      "source": [
        "*   **a. Extreme Gradient Boost XGBoost**"
      ],
      "metadata": {
        "id": "IE6rj67uwsc5"
      }
    },
    {
      "cell_type": "code",
      "source": [
        "# Modelo XGBoost.\n",
        "elmodelo_XGB = XGBRegressor(colsample_bytree = 0.3, gamma = 1.8, learning_rate =  0.1, max_depth = 3, min_child_weight = 5, n_estimators = 100, subsample = 1.0)\n",
        "\n",
        "# Pipeline con transformaciones y el modelo.\n",
        "mipipe = Pipeline(steps=[('ct', columnasTransformer), ('m', elmodelo_XGB)])\n",
        "\n",
        "# Curva de aprendizaje.\n",
        "train_sizes, train_scores, val_scores = learning_curve(estimator = mipipe,\n",
        "                                                        X = XtrainT,\n",
        "                                                        y = np.ravel(ytrainlog),\n",
        "                                                        cv = 5,\n",
        "                                                        train_sizes=np.linspace(0.1, 1.0, 10),\n",
        "                                                        scoring = 'neg_mean_squared_error',  # Error MSE\n",
        "                                                        n_jobs = -1)\n",
        "\n",
        "\n",
        "# Calcular RMSE.\n",
        "rmse_train_scores = np.sqrt(-train_scores)\n",
        "rmse_val_scores = np.sqrt(-val_scores)\n",
        "\n",
        "train_mean = np.mean(rmse_train_scores, axis = 1)\n",
        "train_std = np.std(rmse_train_scores, axis = 1)\n",
        "val_mean = np.mean(rmse_val_scores, axis = 1)\n",
        "val_std = np.std(rmse_val_scores, axis = 1)\n",
        "\n",
        "\n",
        "# Graficar la curva de aprendizaje.\n",
        "plt.plot(train_sizes, train_mean, color = 'blue', marker = 'o', markersize = 5, label = 'Training RMSE')\n",
        "plt.fill_between(train_sizes, train_mean + train_std, train_mean - train_std, alpha = 0.15, color = 'blue')\n",
        "\n",
        "plt.plot(train_sizes, val_mean, color = 'green', marker = '+', markersize = 5, linestyle = '--', label = 'Validation RMSE')\n",
        "plt.fill_between(train_sizes, val_mean + val_std, val_mean - val_std, alpha = 0.15, color = 'green')\n",
        "\n",
        "plt.title('Learning Curve XGBoost')\n",
        "plt.xlabel('Training Data Size')\n",
        "plt.ylabel(\"Error RMSE\")\n",
        "plt.grid()\n",
        "plt.legend(loc = 'lower right')\n",
        "plt.show()"
      ],
      "metadata": {
        "colab": {
          "base_uri": "https://localhost:8080/",
          "height": 472
        },
        "id": "6Wn_9comCrJ0",
        "outputId": "60437a80-61d2-473b-e28e-45cacbb9e46e"
      },
      "execution_count": null,
      "outputs": [
        {
          "output_type": "display_data",
          "data": {
            "text/plain": [
              "<Figure size 640x480 with 1 Axes>"
            ],
            "image/png": "[encoded data removed]"
          },
          "metadata": {}
        }
      ]
    },
    {
      "cell_type": "code",
      "source": [
        "# Modelo XGBoost.\n",
        "elmodelo_XGB = XGBRegressor(colsample_bytree = 0.3, gamma = 1.8, learning_rate =  0.1, max_depth = 3, min_child_weight = 5, n_estimators = 100, subsample = 1.0)\n",
        "\n",
        "# Entrenamiento y predicciones del modelo.\n",
        "mipipe = Pipeline(steps = [('ct', columnasTransformer), ('m', elmodelo_XGB)])\n",
        "mipipe.fit(Xtrain, np.ravel(ytrainlog))\n",
        "yhattest_RF = mipipe.predict(Xtest)\n",
        "\n",
        "# Mostrar Resultados.\n",
        "print('Error RSME(Test) de XGBoost: %.3f' % np.sqrt(mean_squared_error(np.ravel(ytestlog), yhattest_RF)))"
      ],
      "metadata": {
        "colab": {
          "base_uri": "https://localhost:8080/"
        },
        "id": "1Xm6Ja5DH9jV",
        "outputId": "bdfa2dfa-e958-4420-8ad0-eb140709c758"
      },
      "execution_count": null,
      "outputs": [
        {
          "output_type": "stream",
          "name": "stdout",
          "text": [
            "Error RSME(Test) de XGBoost: 0.724\n"
          ]
        }
      ]
    },
    {
      "cell_type": "markdown",
      "source": [
        "*   **b. Máquina de Vector Soporte SVM**"
      ],
      "metadata": {
        "id": "h-YnDgTtwxjI"
      }
    },
    {
      "cell_type": "code",
      "source": [
        "# Modelo SVR.\n",
        "elmodelo_SVR = SVR(kernel='rbf', C = 1000.0, epsilon = 1.0)\n",
        "\n",
        "# Pipeline con transformaciones y el modelo.\n",
        "mipipe = Pipeline(steps=[('ct', columnasTransformer), ('m', elmodelo_SVR)])\n",
        "\n",
        "# Curva de aprendizaje.\n",
        "train_sizes, train_scores, val_scores = learning_curve(estimator = mipipe,\n",
        "                                                        X = XtrainT,\n",
        "                                                        y = np.ravel(ytrainlog),\n",
        "                                                        cv = 5,\n",
        "                                                        train_sizes = np.linspace(0.1, 1.0, 10),\n",
        "                                                        scoring = 'neg_mean_squared_error',  # Error MSE\n",
        "                                                        n_jobs = -1)\n",
        "\n",
        "\n",
        "# Calcular RMSE.\n",
        "rmse_train_scores = np.sqrt(-train_scores)\n",
        "rmse_val_scores = np.sqrt(-val_scores)\n",
        "\n",
        "train_mean = np.mean(rmse_train_scores, axis = 1)\n",
        "train_std = np.std(rmse_train_scores, axis = 1)\n",
        "val_mean = np.mean(rmse_val_scores, axis = 1)\n",
        "val_std = np.std(rmse_val_scores, axis = 1)\n",
        "\n",
        "\n",
        "# Graficar la curva de aprendizaje.\n",
        "plt.plot(train_sizes, train_mean, color = 'blue', marker = 'o', markersize = 5, label = 'Training RMSE')\n",
        "plt.fill_between(train_sizes, train_mean + train_std, train_mean - train_std, alpha = 0.15, color = 'blue')\n",
        "\n",
        "plt.plot(train_sizes, val_mean, color = 'green', marker = '+', markersize = 5, linestyle = '--', label = 'Validation RMSE')\n",
        "plt.fill_between(train_sizes, val_mean + val_std, val_mean - val_std, alpha = 0.15, color = 'green')\n",
        "\n",
        "plt.title('Learning Curve SVM')\n",
        "plt.xlabel('Training Data Size')\n",
        "plt.ylabel(\"Error RMSE\")\n",
        "plt.grid()\n",
        "plt.legend(loc = 'lower right')\n",
        "plt.show()"
      ],
      "metadata": {
        "colab": {
          "base_uri": "https://localhost:8080/",
          "height": 472
        },
        "id": "SOQWKnRowrIr",
        "outputId": "11887ca4-28ba-4f0b-ac49-7dac6ca4efb0"
      },
      "execution_count": null,
      "outputs": [
        {
          "output_type": "display_data",
          "data": {
            "text/plain": [
              "<Figure size 640x480 with 1 Axes>"
            ],
            "image/png": "[encoded data removed]"
          },
          "metadata": {}
        }
      ]
    },
    {
      "cell_type": "code",
      "source": [
        "# Modelo SVR\n",
        "elmodelo_SVR = SVR(kernel='rbf', C = 1000.0, epsilon=1.0)\n",
        "\n",
        "# Entrenamiento y predicciones del modelo.\n",
        "mipipe = Pipeline(steps = [('ct',columnasTransformer),('m', elmodelo_SVR )])\n",
        "mipipe.fit(Xtrain, np.ravel(ytrainlog))\n",
        "yhattest_RF = mipipe.predict(Xtest)\n",
        "\n",
        "# Mostrar Resultados.\n",
        "print('Error RSME(Test) de SVR: %.3f' % np.sqrt(mean_squared_error(np.ravel(ytestlog), yhattest_RF)))"
      ],
      "metadata": {
        "colab": {
          "base_uri": "https://localhost:8080/"
        },
        "id": "ZMng0e8Aw09N",
        "outputId": "ee097f93-d385-4795-f75e-cdce38cc138a"
      },
      "execution_count": null,
      "outputs": [
        {
          "output_type": "stream",
          "name": "stdout",
          "text": [
            "Error RSME(Test) de SVR: 0.924\n"
          ]
        }
      ]
    },
    {
      "cell_type": "markdown",
      "source": [
        "*   **c. Red Neuronal Perceptrón Multicapa MLP**"
      ],
      "metadata": {
        "id": "qYKXNjU1w6NP"
      }
    },
    {
      "cell_type": "code",
      "source": [
        "# Modelo MLP.\n",
        "elmodelo_MLP = MLPRegressor(activation = 'tanh', alpha = 0.0001, hidden_layer_sizes = (100,), learning_rate = 'invscaling', solver = 'adam')\n",
        "\n",
        "# Pipeline con transformaciones y el modelo.\n",
        "mipipe = Pipeline(steps=[('ct', columnasTransformer), ('m', elmodelo_MLP)])\n",
        "\n",
        "# Curva de aprendizaje.\n",
        "train_sizes, train_scores, val_scores = learning_curve(estimator = mipipe,\n",
        "                                                        X = XtrainT,\n",
        "                                                        y = np.ravel(ytrainlog),\n",
        "                                                        cv = 5,\n",
        "                                                        train_sizes = np.linspace(0.1, 1.0, 10),\n",
        "                                                        scoring = 'neg_mean_squared_error',  # Error MSE\n",
        "                                                        n_jobs = -1)\n",
        "\n",
        "# Calcular RMSE.\n",
        "rmse_train_scores = np.sqrt(-train_scores)\n",
        "rmse_val_scores = np.sqrt(-val_scores)\n",
        "\n",
        "train_mean = np.mean(rmse_train_scores, axis=1)\n",
        "train_std = np.std(rmse_train_scores, axis=1)\n",
        "val_mean = np.mean(rmse_val_scores, axis=1)\n",
        "val_std = np.std(rmse_val_scores, axis=1)\n",
        "\n",
        "# Graficar la curva de aprendizaje.\n",
        "plt.plot(train_sizes, train_mean, color='blue', marker='o', markersize=5, label='Training RMSE')\n",
        "plt.fill_between(train_sizes, train_mean + train_std, train_mean - train_std, alpha=0.15, color='blue')\n",
        "\n",
        "plt.plot(train_sizes, val_mean, color='green', marker='+', markersize=5, linestyle='--', label='Validation RMSE')\n",
        "plt.fill_between(train_sizes, val_mean + val_std, val_mean - val_std, alpha=0.15, color='green')\n",
        "\n",
        "plt.title('Learning Curve MLP')\n",
        "plt.xlabel('Training Data Size')\n",
        "plt.ylabel(\"Error RMSE\")\n",
        "plt.grid()\n",
        "plt.legend(loc='lower right')\n",
        "plt.show()\n"
      ],
      "metadata": {
        "colab": {
          "base_uri": "https://localhost:8080/",
          "height": 472
        },
        "id": "UIZILyTvPUrj",
        "outputId": "dec20b6d-ca6f-40a9-df31-7163c52e3e35"
      },
      "execution_count": null,
      "outputs": [
        {
          "output_type": "display_data",
          "data": {
            "text/plain": [
              "<Figure size 640x480 with 1 Axes>"
            ],
            "image/png": "[encoded data removed]"
          },
          "metadata": {}
        }
      ]
    },
    {
      "cell_type": "code",
      "source": [
        "# Modelo MLP.\n",
        "elmodelo_MLP = MLPRegressor(activation = 'tanh', alpha = 0.0001, hidden_layer_sizes = (100,), learning_rate = 'invscaling', solver = 'adam')\n",
        "\n",
        "# Entrenamiento y predicciones del modelo.\n",
        "mipipe = Pipeline(steps = [('ct',columnasTransformer),('m', elmodelo_MLP)])\n",
        "mipipe.fit(Xtrain, np.ravel(ytrainlog))\n",
        "yhattest_RF = mipipe.predict(Xtest)\n",
        "\n",
        "# Mostrar Resultados.\n",
        "print('Error RSME(Test) de MLP: %.3f' % np.sqrt(mean_squared_error(np.ravel(ytestlog), yhattest_RF)))"
      ],
      "metadata": {
        "colab": {
          "base_uri": "https://localhost:8080/"
        },
        "id": "HCEJxca6PWJ1",
        "outputId": "da311849-246f-4bd8-85a9-1565f0f48db3"
      },
      "execution_count": null,
      "outputs": [
        {
          "output_type": "stream",
          "name": "stdout",
          "text": [
            "Error RSME(Test) de MLP: 0.914\n"
          ]
        }
      ]
    },
    {
      "cell_type": "markdown",
      "source": [
        "# **Ejercicio 5**"
      ],
      "metadata": {
        "id": "_wWlujaN0Zu-"
      }
    },
    {
      "cell_type": "markdown",
      "source": [
        "### **Se incluyen las conclusiones finales de la actividad.**\n",
        "### **En particular se indica cuál se considera que fue el mejor modelo obtenido.**"
      ],
      "metadata": {
        "id": "A01wHjjM0eNf"
      }
    },
    {
      "cell_type": "markdown",
      "source": [
        "Con base en las curvas de aprendizaje graficadas para cada uno de los modelos, se puede concluir que el sesgo es bastante elevado, ya que se aplicaron las diferentes técnicas para reducir el sesgo en los modelos y no se logró obtener un error RSME en Test menor a 0.7. Por otro lado, se puede notar en las curvas de aprendizaje graficadas para cada uno de los modelos que la varianza se puede reducir bastante.\n",
        "\n",
        "\n",
        "En base al análisis de las diferentes curvas de aprendizaje graficadas para cada uno de los modelos, se llegó a la conclusión de que el mejor modelo es el Random Forest, ya que es el modelo que alcanzó el menor sesgo en su curva de aprendizaje y con una varianza baja. Además, la diferencia entre el error RSME de entrenamiento y validación es aproximadamente del 3% o 0.03 en su mejor punto, lo cual indica que no se está sobreentrenando el modelo.\n",
        "\n",
        "\n",
        "Adicionalmente, se puede notar en la gráfica de las curvas de aprendizaje que el mejor tamaño para el conjunto de datos de entrenamiento del modelo Random Forest es alrededor de 240 de los 300 registros que se tienen destinados para el entrenamiento. Sin embargo, la gráfica de la curva de aprendizaje solo muestra el tamaño para el conjunto de datos de entrenamiento hasta 250 registros y puede que un mayor tamaño para el conjunto de datos de entrenamiento reduzca todavía más el sesgo y la varianza."
      ],
      "metadata": {
        "id": "aeZrOQkU0x9X"
      }
    }
  ]
}